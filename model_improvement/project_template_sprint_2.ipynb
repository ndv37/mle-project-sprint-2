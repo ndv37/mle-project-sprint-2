{
 "cells": [
  {
   "cell_type": "markdown",
   "id": "d570c39b-34e2-4c21-a7dc-57ec9e46f8a9",
   "metadata": {},
   "source": [
    "### \"Шапка\" с названием проекта\n",
    "\n",
    "В этой ячейке вы найдете оглавление и ключевые этапы работы, которые помогут вам ориентироваться в процессе выполнения проекта. Проект разделен на пять основных этапов, четыре из которых (этапы 2, 3, 4 и 5) вам предлагается выполнить в этом Jupyter Notebook:\n",
    "\n",
    "- Подготовка среды MLflow - Первый шаг, подготовка и запуск сервисов MLflow, был выполнен вне ноутбука и оформлен в виде shell скрипта. Это основа для работы с экспериментами и логирования результатов ваших моделей.\n",
    "\n",
    "- Этап 2 - Исследовательский Анализ Данных (EDA): На этом этапе вы проведете тщательный анализ данных, чтобы лучше понять их структуру и особенности.\n",
    "\n",
    "- Этап 3 - Генерация Признаков и Обучение Модели: После анализа данных вы сгенерируете новые признаки и обучите модель, используя эти признаки.\n",
    "\n",
    "- Этап 4 - Отбор Признаков и Обучение Модели: На этом шаге вы отберете наиболее значимые признаки и снова обучите модель для улучшения ее качества.\n",
    "\n",
    "- Этап 5 - Подбор Гиперпараметров и Обучение Финальной Версии Модели: Финальный этап проекта посвящен оптимизации гиперпараметров для достижения максимального качества модели.\n",
    "\n",
    "Для удобства навигации и организации работы, пожалуйста, следуйте оглавлению и рекомендациям, описанным в каждом этапе."
   ]
  },
  {
   "cell_type": "markdown",
   "id": "c9f78379",
   "metadata": {},
   "source": [
    "> ### Важно: Переобучение моделей\n",
    "> На каждом этапе проекта, где требуется переобучение модели, важно не просто выполнить эту процедуру, но и тщательно проверить качество модели на соответствующих выборках. Это включает в себя анализ метрик качества, визуализацию результатов, сравнение с предыдущими моделями и, при необходимости, корректировку."
   ]
  },
  {
   "cell_type": "markdown",
   "id": "0bc7e2d2",
   "metadata": {},
   "source": [
    "> ### Важно: Разделение выборок\n",
    "> Перед началом выполнения вашего проекта важно правильно подготовить данные, разделив их на подвыборки. Это позволит оценить производительность модели более объективно и управлять риском переобучения. В зависимости от ваших целей и доступных данных, вы можете использовать различные стратегии разделения:\n",
    "\n",
    "1. Разделение на train/val/test: Это классический подход, где данные делятся на три части. Обучающая выборка (train) используется для первичного обучения моделей, валидационная (val) - для настройки гиперпараметров и выбора лучшей модели, а тестовая (test) - для финальной оценки производительности модели. Такой подход идеален, если у вас достаточно данных, чтобы разделить их и каждая из выборок была репрезентативна.\n",
    "\n",
    "2. Разделение на train/test с кросс-валидацией на train: Если данных недостаточно для трех подвыборок, можно ограничиться разделением на обучающую и тестовую выборки. В этом случае кросс-валидация на обучающей выборке поможет оценить стабильность модели и подобрать гиперпараметры.\n",
    "\n",
    "Определение способа разделения данных: Выбор метода разбиения данных на подвыборки — train, validation и test — должен быть обоснован особенностями вашего набора данных и задачами проекта. Возможные методы разделения, включая различные стратегии и правила, подробно описаны в [документации scikit-learn по разбиению данных](https://scikit-learn.org/stable/auto_examples/model_selection/plot_cv_indices.html#sphx-glr-auto-examples-model-selection-plot-cv-indices-py). Вы можете следовать этим примерам или разработать собственный метод, исходя из специфики ваших данных.\n",
    "\n",
    "Ваша задача - выбрать подходящий метод разделения данных исходя из объема и специфики ваших данных. Помните, что финальные метрики качества модели мы будем оценивать на тестовой выборке. Промежуточные результаты после каждого этапа проекта (например, после настройки гиперпараметров) следует оценивать на валидационной выборке, если таковая имеется. Это поможет вам корректно настроить модель перед финальной оценкой её производительности."
   ]
  },
  {
   "cell_type": "code",
   "execution_count": 1,
   "id": "68c549e7",
   "metadata": {},
   "outputs": [],
   "source": [
    "# сделайте разделение изначального набора данных в этой ячейке\n",
    "#шаг разделение после EDA"
   ]
  },
  {
   "cell_type": "markdown",
   "id": "b6393164-6b5e-40ab-9ad8-e518a96967d9",
   "metadata": {},
   "source": [
    "#### Этап 2: Исследовательский Анализ Данных (EDA)\n",
    "На этом этапе ваша задача - провести тщательный исследовательский анализ данных (EDA), чтобы глубже понять особенности и связи в предоставленном наборе данных. В процессе EDA вы должны обратить внимание на три ключевых аспекта, о которых мы говорили в теме 3 курса. Очень важно, чтобы все результаты вашего исследования, включая визуализации, статистический анализ и предварительные выводы, были аккуратно залогированы в MLflow.\n",
    "\n",
    "Для более организованного исследования предлагаем следующие рекомендуемые шаги:\n",
    "- Понимание данных: Первоначально ознакомьтесь с данными, изучите типы данных, проверьте наличие пропущенных значений.\n",
    "- Визуализация данных: Используйте графики и диаграммы для визуализации распределений признаков и возможных взаимосвязей между ними.\n",
    "- Статистический анализ: Примените статистические методы для изучения центральных тенденций, разброса и корреляций между признаками.\n",
    "- Предварительные выводы: На основе проведённого анализа сформулируйте предварительные выводы о данных, которые помогут в дальнейшем этапе моделирования.\n",
    "\n",
    "Помните, что EDA - это итеративный процесс, в котором вы можете возвращаться к предыдущим шагам для дополнительного анализа, если это будет необходимо. Все находки и выводы должны быть чётко зафиксированы и легко доступны для команды проекта.\n"
   ]
  },
  {
   "cell_type": "code",
   "execution_count": 1,
   "id": "98db8524",
   "metadata": {},
   "outputs": [],
   "source": [
    "#импортирую библиотеки, создаю подключение\n",
    "import os\n",
    "import psycopg\n",
    "import pandas as pd\n",
    "import mlflow\n",
    "from catboost import CatBoostClassifier\n",
    "from mlxtend.feature_selection import SequentialFeatureSelector as SFS\n",
    "from mlxtend.plotting import plot_sequential_feature_selection as plot_sfs\n",
    "from sklearn.ensemble import RandomForestClassifier\n",
    "import matplotlib.pyplot as plt\n",
    "from sqlalchemy import create_engine\n",
    "from dotenv import load_dotenv\n",
    "import seaborn as sns\n",
    "\n",
    "\n",
    "# подгружаем .env\n",
    "load_dotenv()\n",
    "\n",
    "dst_host = os.environ.get('DB_DESTINATION_HOST')\n",
    "dst_port = os.environ.get('DB_DESTINATION_PORT')\n",
    "dst_username = os.environ.get('DB_DESTINATION_USER')\n",
    "dst_password = os.environ.get('DB_DESTINATION_PASSWORD')\n",
    "dst_db = os.environ.get('DB_DESTINATION_NAME')\n",
    "\n",
    "connection = {\"sslmode\": \"require\", \"target_session_attrs\": \"read-write\"}\n",
    "postgres_credentials = {\n",
    "    \"host\": os.getenv('DB_DESTINATION_HOST'),\"port\": os.getenv('DB_DESTINATION_PORT'),\"dbname\": os.getenv('DB_DESTINATION_NAME'),\n",
    "    \"user\": os.getenv('DB_DESTINATION_USER'),\"password\": os.getenv('DB_DESTINATION_PASSWORD')}\n",
    "connection.update(postgres_credentials)"
   ]
  },
  {
   "cell_type": "markdown",
   "id": "61ececcb",
   "metadata": {},
   "source": [
    "#таблицы flats и buildings изучаю отдельно"
   ]
  },
  {
   "cell_type": "code",
   "execution_count": 3,
   "id": "bd48e1fb-ff2a-41de-aa49-c7b5df19b032",
   "metadata": {},
   "outputs": [
    {
     "data": {
      "text/html": [
       "<div>\n",
       "<style scoped>\n",
       "    .dataframe tbody tr th:only-of-type {\n",
       "        vertical-align: middle;\n",
       "    }\n",
       "\n",
       "    .dataframe tbody tr th {\n",
       "        vertical-align: top;\n",
       "    }\n",
       "\n",
       "    .dataframe thead th {\n",
       "        text-align: right;\n",
       "    }\n",
       "</style>\n",
       "<table border=\"1\" class=\"dataframe\">\n",
       "  <thead>\n",
       "    <tr style=\"text-align: right;\">\n",
       "      <th></th>\n",
       "      <th>id</th>\n",
       "      <th>floor</th>\n",
       "      <th>is_apartment</th>\n",
       "      <th>kitchen_area</th>\n",
       "      <th>living_area</th>\n",
       "      <th>rooms</th>\n",
       "      <th>studio</th>\n",
       "      <th>total_area</th>\n",
       "      <th>price</th>\n",
       "      <th>building_id</th>\n",
       "    </tr>\n",
       "  </thead>\n",
       "  <tbody>\n",
       "    <tr>\n",
       "      <th>0</th>\n",
       "      <td>0</td>\n",
       "      <td>9</td>\n",
       "      <td>False</td>\n",
       "      <td>9.9</td>\n",
       "      <td>19.9</td>\n",
       "      <td>1</td>\n",
       "      <td>False</td>\n",
       "      <td>35.099998</td>\n",
       "      <td>9500000</td>\n",
       "      <td>6220</td>\n",
       "    </tr>\n",
       "    <tr>\n",
       "      <th>1</th>\n",
       "      <td>1</td>\n",
       "      <td>7</td>\n",
       "      <td>False</td>\n",
       "      <td>0.0</td>\n",
       "      <td>16.6</td>\n",
       "      <td>1</td>\n",
       "      <td>False</td>\n",
       "      <td>43.000000</td>\n",
       "      <td>13500000</td>\n",
       "      <td>18012</td>\n",
       "    </tr>\n",
       "  </tbody>\n",
       "</table>\n",
       "</div>"
      ],
      "text/plain": [
       "   id  floor  is_apartment  kitchen_area  living_area  rooms  studio   \n",
       "0   0      9         False           9.9         19.9      1   False  \\\n",
       "1   1      7         False           0.0         16.6      1   False   \n",
       "\n",
       "   total_area     price  building_id  \n",
       "0   35.099998   9500000         6220  \n",
       "1   43.000000  13500000        18012  "
      ]
     },
     "execution_count": 3,
     "metadata": {},
     "output_type": "execute_result"
    }
   ],
   "source": [
    "# 2.1 Загрузка данных\n",
    "\n",
    "#загружаю таблицу Flats\n",
    "TABLE_NAME = \"flats\" \n",
    "\n",
    "with psycopg.connect(**connection) as conn:\n",
    "    with conn.cursor() as cur:\n",
    "        cur.execute(f\"SELECT * FROM {TABLE_NAME}\")\n",
    "        data = cur.fetchall()\n",
    "        columns = [col[0] for col in cur.description]\n",
    "\n",
    "df = pd.DataFrame(data, columns=columns)\n",
    "\n",
    "df.head(2)"
   ]
  },
  {
   "cell_type": "code",
   "execution_count": 4,
   "id": "c6d6769f",
   "metadata": {},
   "outputs": [
    {
     "data": {
      "text/html": [
       "<div>\n",
       "<style scoped>\n",
       "    .dataframe tbody tr th:only-of-type {\n",
       "        vertical-align: middle;\n",
       "    }\n",
       "\n",
       "    .dataframe tbody tr th {\n",
       "        vertical-align: top;\n",
       "    }\n",
       "\n",
       "    .dataframe thead th {\n",
       "        text-align: right;\n",
       "    }\n",
       "</style>\n",
       "<table border=\"1\" class=\"dataframe\">\n",
       "  <thead>\n",
       "    <tr style=\"text-align: right;\">\n",
       "      <th></th>\n",
       "      <th>id</th>\n",
       "      <th>build_year</th>\n",
       "      <th>building_type_int</th>\n",
       "      <th>latitude</th>\n",
       "      <th>longitude</th>\n",
       "      <th>ceiling_height</th>\n",
       "      <th>flats_count</th>\n",
       "      <th>floors_total</th>\n",
       "      <th>has_elevator</th>\n",
       "    </tr>\n",
       "  </thead>\n",
       "  <tbody>\n",
       "    <tr>\n",
       "      <th>0</th>\n",
       "      <td>6220</td>\n",
       "      <td>1965</td>\n",
       "      <td>6</td>\n",
       "      <td>55.717113</td>\n",
       "      <td>37.781120</td>\n",
       "      <td>2.64</td>\n",
       "      <td>84</td>\n",
       "      <td>12</td>\n",
       "      <td>True</td>\n",
       "    </tr>\n",
       "    <tr>\n",
       "      <th>1</th>\n",
       "      <td>18012</td>\n",
       "      <td>2001</td>\n",
       "      <td>2</td>\n",
       "      <td>55.794849</td>\n",
       "      <td>37.608013</td>\n",
       "      <td>3.00</td>\n",
       "      <td>97</td>\n",
       "      <td>10</td>\n",
       "      <td>True</td>\n",
       "    </tr>\n",
       "  </tbody>\n",
       "</table>\n",
       "</div>"
      ],
      "text/plain": [
       "      id  build_year  building_type_int   latitude  longitude  ceiling_height   \n",
       "0   6220        1965                  6  55.717113  37.781120            2.64  \\\n",
       "1  18012        2001                  2  55.794849  37.608013            3.00   \n",
       "\n",
       "   flats_count  floors_total  has_elevator  \n",
       "0           84            12          True  \n",
       "1           97            10          True  "
      ]
     },
     "execution_count": 4,
     "metadata": {},
     "output_type": "execute_result"
    }
   ],
   "source": [
    "# 2.1 Загрузка данных\n",
    "\n",
    "#загружаю таблицу buildings\n",
    "\n",
    "TABLE_NAME='buildings'\n",
    "\n",
    "with psycopg.connect(**connection) as conn:\n",
    "    with conn.cursor() as cur:\n",
    "        cur.execute(f\"SELECT * FROM {TABLE_NAME}\")\n",
    "        data = cur.fetchall()\n",
    "        columns = [col[0] for col in cur.description]\n",
    "\n",
    "data_build = pd.DataFrame(data, columns=columns)\n",
    "\n",
    "data_build.head(2)"
   ]
  },
  {
   "cell_type": "code",
   "execution_count": 5,
   "id": "5cd00195",
   "metadata": {},
   "outputs": [],
   "source": [
    "# 2.2. Общий обзор датасета\n",
    "# 2.3 Анализ признаков для модели\n",
    "# 2.4 Анализ целевой переменной\n",
    "# 2.4 Анализ целевой переменной в зависимости от различных признаков\n",
    "# 2.5 Выводы после EDA"
   ]
  },
  {
   "cell_type": "markdown",
   "id": "4b22122b",
   "metadata": {},
   "source": [
    "отдельно исследую таблицы flats и buildings - надо решить как объединить их в 1 датасет, какие фильтры использовать"
   ]
  },
  {
   "cell_type": "markdown",
   "id": "c37998ca",
   "metadata": {},
   "source": [
    "ТАБЛИЦА 1 - КВАРТИРЫ"
   ]
  },
  {
   "cell_type": "code",
   "execution_count": 5,
   "id": "faad3cef",
   "metadata": {},
   "outputs": [
    {
     "name": "stdout",
     "output_type": "stream",
     "text": [
      "<class 'pandas.core.frame.DataFrame'>\n",
      "RangeIndex: 141362 entries, 0 to 141361\n",
      "Data columns (total 10 columns):\n",
      " #   Column        Non-Null Count   Dtype  \n",
      "---  ------        --------------   -----  \n",
      " 0   id            141362 non-null  int64  \n",
      " 1   floor         141362 non-null  int64  \n",
      " 2   is_apartment  141362 non-null  bool   \n",
      " 3   kitchen_area  141362 non-null  float64\n",
      " 4   living_area   141362 non-null  float64\n",
      " 5   rooms         141362 non-null  int64  \n",
      " 6   studio        141362 non-null  bool   \n",
      " 7   total_area    141362 non-null  float64\n",
      " 8   price         141362 non-null  int64  \n",
      " 9   building_id   141362 non-null  int64  \n",
      "dtypes: bool(2), float64(3), int64(5)\n",
      "memory usage: 8.9 MB\n"
     ]
    }
   ],
   "source": [
    "df.info()"
   ]
  },
  {
   "cell_type": "code",
   "execution_count": 6,
   "id": "f7ac6b10",
   "metadata": {},
   "outputs": [
    {
     "data": {
      "text/html": [
       "<div>\n",
       "<style scoped>\n",
       "    .dataframe tbody tr th:only-of-type {\n",
       "        vertical-align: middle;\n",
       "    }\n",
       "\n",
       "    .dataframe tbody tr th {\n",
       "        vertical-align: top;\n",
       "    }\n",
       "\n",
       "    .dataframe thead th {\n",
       "        text-align: right;\n",
       "    }\n",
       "</style>\n",
       "<table border=\"1\" class=\"dataframe\">\n",
       "  <thead>\n",
       "    <tr style=\"text-align: right;\">\n",
       "      <th></th>\n",
       "      <th>id</th>\n",
       "      <th>floor</th>\n",
       "      <th>kitchen_area</th>\n",
       "      <th>living_area</th>\n",
       "      <th>rooms</th>\n",
       "      <th>total_area</th>\n",
       "      <th>price</th>\n",
       "      <th>building_id</th>\n",
       "    </tr>\n",
       "  </thead>\n",
       "  <tbody>\n",
       "    <tr>\n",
       "      <th>count</th>\n",
       "      <td>141362.000000</td>\n",
       "      <td>141362.000000</td>\n",
       "      <td>141362.000000</td>\n",
       "      <td>141362.000000</td>\n",
       "      <td>141362.000000</td>\n",
       "      <td>141362.000000</td>\n",
       "      <td>1.413620e+05</td>\n",
       "      <td>141362.000000</td>\n",
       "    </tr>\n",
       "    <tr>\n",
       "      <th>mean</th>\n",
       "      <td>70680.500000</td>\n",
       "      <td>7.467346</td>\n",
       "      <td>9.001579</td>\n",
       "      <td>31.056948</td>\n",
       "      <td>2.129476</td>\n",
       "      <td>62.374644</td>\n",
       "      <td>1.944162e+07</td>\n",
       "      <td>14053.665235</td>\n",
       "    </tr>\n",
       "    <tr>\n",
       "      <th>std</th>\n",
       "      <td>40807.838714</td>\n",
       "      <td>5.717144</td>\n",
       "      <td>5.264076</td>\n",
       "      <td>23.968640</td>\n",
       "      <td>0.994340</td>\n",
       "      <td>40.295864</td>\n",
       "      <td>6.626954e+07</td>\n",
       "      <td>6988.831066</td>\n",
       "    </tr>\n",
       "    <tr>\n",
       "      <th>min</th>\n",
       "      <td>0.000000</td>\n",
       "      <td>1.000000</td>\n",
       "      <td>0.000000</td>\n",
       "      <td>0.000000</td>\n",
       "      <td>1.000000</td>\n",
       "      <td>11.000000</td>\n",
       "      <td>1.100000e+01</td>\n",
       "      <td>1.000000</td>\n",
       "    </tr>\n",
       "    <tr>\n",
       "      <th>25%</th>\n",
       "      <td>35340.250000</td>\n",
       "      <td>3.000000</td>\n",
       "      <td>6.100000</td>\n",
       "      <td>19.000000</td>\n",
       "      <td>1.000000</td>\n",
       "      <td>39.299999</td>\n",
       "      <td>8.900000e+06</td>\n",
       "      <td>8535.250000</td>\n",
       "    </tr>\n",
       "    <tr>\n",
       "      <th>50%</th>\n",
       "      <td>70680.500000</td>\n",
       "      <td>6.000000</td>\n",
       "      <td>8.800000</td>\n",
       "      <td>29.400000</td>\n",
       "      <td>2.000000</td>\n",
       "      <td>53.000000</td>\n",
       "      <td>1.185000e+07</td>\n",
       "      <td>14332.000000</td>\n",
       "    </tr>\n",
       "    <tr>\n",
       "      <th>75%</th>\n",
       "      <td>106020.750000</td>\n",
       "      <td>10.000000</td>\n",
       "      <td>10.200000</td>\n",
       "      <td>41.400002</td>\n",
       "      <td>3.000000</td>\n",
       "      <td>72.000000</td>\n",
       "      <td>1.695000e+07</td>\n",
       "      <td>20475.000000</td>\n",
       "    </tr>\n",
       "    <tr>\n",
       "      <th>max</th>\n",
       "      <td>141361.000000</td>\n",
       "      <td>56.000000</td>\n",
       "      <td>203.000000</td>\n",
       "      <td>700.000000</td>\n",
       "      <td>20.000000</td>\n",
       "      <td>960.299988</td>\n",
       "      <td>9.873738e+09</td>\n",
       "      <td>24620.000000</td>\n",
       "    </tr>\n",
       "  </tbody>\n",
       "</table>\n",
       "</div>"
      ],
      "text/plain": [
       "                  id          floor   kitchen_area    living_area   \n",
       "count  141362.000000  141362.000000  141362.000000  141362.000000  \\\n",
       "mean    70680.500000       7.467346       9.001579      31.056948   \n",
       "std     40807.838714       5.717144       5.264076      23.968640   \n",
       "min         0.000000       1.000000       0.000000       0.000000   \n",
       "25%     35340.250000       3.000000       6.100000      19.000000   \n",
       "50%     70680.500000       6.000000       8.800000      29.400000   \n",
       "75%    106020.750000      10.000000      10.200000      41.400002   \n",
       "max    141361.000000      56.000000     203.000000     700.000000   \n",
       "\n",
       "               rooms     total_area         price    building_id  \n",
       "count  141362.000000  141362.000000  1.413620e+05  141362.000000  \n",
       "mean        2.129476      62.374644  1.944162e+07   14053.665235  \n",
       "std         0.994340      40.295864  6.626954e+07    6988.831066  \n",
       "min         1.000000      11.000000  1.100000e+01       1.000000  \n",
       "25%         1.000000      39.299999  8.900000e+06    8535.250000  \n",
       "50%         2.000000      53.000000  1.185000e+07   14332.000000  \n",
       "75%         3.000000      72.000000  1.695000e+07   20475.000000  \n",
       "max        20.000000     960.299988  9.873738e+09   24620.000000  "
      ]
     },
     "execution_count": 6,
     "metadata": {},
     "output_type": "execute_result"
    }
   ],
   "source": [
    "df.describe()"
   ]
  },
  {
   "cell_type": "code",
   "execution_count": 8,
   "id": "d0974452",
   "metadata": {},
   "outputs": [
    {
     "name": "stdout",
     "output_type": "stream",
     "text": [
      "int64      3\n",
      "float64    3\n",
      "bool       2\n",
      "Name: count, dtype: int64\n"
     ]
    }
   ],
   "source": [
    "features = df[['floor','is_apartment','kitchen_area','living_area','rooms','studio','total_area','price']]\n",
    "res=features.dtypes\n",
    "\n",
    "print(res.value_counts())"
   ]
  },
  {
   "cell_type": "code",
   "execution_count": 9,
   "id": "7636cc81",
   "metadata": {},
   "outputs": [
    {
     "data": {
      "text/html": [
       "<div>\n",
       "<style scoped>\n",
       "    .dataframe tbody tr th:only-of-type {\n",
       "        vertical-align: middle;\n",
       "    }\n",
       "\n",
       "    .dataframe tbody tr th {\n",
       "        vertical-align: top;\n",
       "    }\n",
       "\n",
       "    .dataframe thead th {\n",
       "        text-align: right;\n",
       "    }\n",
       "</style>\n",
       "<table border=\"1\" class=\"dataframe\">\n",
       "  <thead>\n",
       "    <tr style=\"text-align: right;\">\n",
       "      <th></th>\n",
       "      <th>floor</th>\n",
       "      <th>kitchen_area</th>\n",
       "      <th>living_area</th>\n",
       "      <th>rooms</th>\n",
       "      <th>total_area</th>\n",
       "      <th>price</th>\n",
       "    </tr>\n",
       "  </thead>\n",
       "  <tbody>\n",
       "    <tr>\n",
       "      <th>0</th>\n",
       "      <td>9</td>\n",
       "      <td>9.9</td>\n",
       "      <td>19.900000</td>\n",
       "      <td>1</td>\n",
       "      <td>35.099998</td>\n",
       "      <td>9500000</td>\n",
       "    </tr>\n",
       "    <tr>\n",
       "      <th>1</th>\n",
       "      <td>7</td>\n",
       "      <td>0.0</td>\n",
       "      <td>16.600000</td>\n",
       "      <td>1</td>\n",
       "      <td>43.000000</td>\n",
       "      <td>13500000</td>\n",
       "    </tr>\n",
       "    <tr>\n",
       "      <th>2</th>\n",
       "      <td>9</td>\n",
       "      <td>9.0</td>\n",
       "      <td>32.000000</td>\n",
       "      <td>2</td>\n",
       "      <td>56.000000</td>\n",
       "      <td>13500000</td>\n",
       "    </tr>\n",
       "    <tr>\n",
       "      <th>3</th>\n",
       "      <td>1</td>\n",
       "      <td>10.1</td>\n",
       "      <td>43.099998</td>\n",
       "      <td>3</td>\n",
       "      <td>76.000000</td>\n",
       "      <td>20000000</td>\n",
       "    </tr>\n",
       "    <tr>\n",
       "      <th>4</th>\n",
       "      <td>3</td>\n",
       "      <td>3.0</td>\n",
       "      <td>14.000000</td>\n",
       "      <td>1</td>\n",
       "      <td>24.000000</td>\n",
       "      <td>5200000</td>\n",
       "    </tr>\n",
       "  </tbody>\n",
       "</table>\n",
       "</div>"
      ],
      "text/plain": [
       "   floor  kitchen_area  living_area  rooms  total_area     price\n",
       "0      9           9.9    19.900000      1   35.099998   9500000\n",
       "1      7           0.0    16.600000      1   43.000000  13500000\n",
       "2      9           9.0    32.000000      2   56.000000  13500000\n",
       "3      1          10.1    43.099998      3   76.000000  20000000\n",
       "4      3           3.0    14.000000      1   24.000000   5200000"
      ]
     },
     "execution_count": 9,
     "metadata": {},
     "output_type": "execute_result"
    }
   ],
   "source": [
    "num_features = features.select_dtypes(include=['float64', 'int64'])\n",
    "binary_features = features.select_dtypes(include='bool') \n",
    "\n",
    "num_features.head()"
   ]
  },
  {
   "cell_type": "code",
   "execution_count": 10,
   "id": "107579ee",
   "metadata": {},
   "outputs": [
    {
     "data": {
      "text/plain": [
       "count    141362.000000\n",
       "mean          7.467346\n",
       "std           5.717144\n",
       "min           1.000000\n",
       "25%           3.000000\n",
       "50%           6.000000\n",
       "75%          10.000000\n",
       "max          56.000000\n",
       "Name: floor, dtype: float64"
      ]
     },
     "metadata": {},
     "output_type": "display_data"
    },
    {
     "data": {
      "text/plain": [
       "<Axes: xlabel='floor', ylabel='Count'>"
      ]
     },
     "metadata": {},
     "output_type": "display_data"
    },
    {
     "data": {
      "image/png": "[encoded data removed]",
      "text/plain": [
       "<Figure size 1200x200 with 1 Axes>"
      ]
     },
     "metadata": {},
     "output_type": "display_data"
    }
   ],
   "source": [
    "display(num_features['floor'].describe())\n",
    "plt.figure(figsize=(12, 2))\n",
    "display(sns.histplot(num_features['floor'])) "
   ]
  },
  {
   "cell_type": "code",
   "execution_count": 11,
   "id": "9e60fd43",
   "metadata": {},
   "outputs": [
    {
     "data": {
      "text/plain": [
       "<Axes: xlabel='floor'>"
      ]
     },
     "execution_count": 11,
     "metadata": {},
     "output_type": "execute_result"
    },
    {
     "data": {
      "image/png": "[encoded data removed]",
      "text/plain": [
       "<Figure size 1200x200 with 1 Axes>"
      ]
     },
     "metadata": {},
     "output_type": "display_data"
    }
   ],
   "source": [
    "plt.figure(figsize=(12, 2))\n",
    "sns.boxplot(df,x='floor')"
   ]
  },
  {
   "cell_type": "code",
   "execution_count": 12,
   "id": "af56c3e8",
   "metadata": {},
   "outputs": [
    {
     "data": {
      "text/plain": [
       "count    141362.000000\n",
       "mean          2.129476\n",
       "std           0.994340\n",
       "min           1.000000\n",
       "25%           1.000000\n",
       "50%           2.000000\n",
       "75%           3.000000\n",
       "max          20.000000\n",
       "Name: rooms, dtype: float64"
      ]
     },
     "metadata": {},
     "output_type": "display_data"
    },
    {
     "data": {
      "text/plain": [
       "<Axes: xlabel='rooms', ylabel='Count'>"
      ]
     },
     "metadata": {},
     "output_type": "display_data"
    },
    {
     "data": {
      "image/png": "[encoded data removed]",
      "text/plain": [
       "<Figure size 1200x200 with 1 Axes>"
      ]
     },
     "metadata": {},
     "output_type": "display_data"
    }
   ],
   "source": [
    "display(num_features['rooms'].describe())\n",
    "plt.figure(figsize=(12, 2))\n",
    "display(sns.histplot(num_features['rooms'])) "
   ]
  },
  {
   "cell_type": "code",
   "execution_count": null,
   "id": "003a5611",
   "metadata": {},
   "outputs": [
    {
     "data": {
      "text/plain": [
       "count    141362.000000\n",
       "mean         19.441620\n",
       "std          66.269544\n",
       "min           0.000011\n",
       "25%           8.900000\n",
       "50%          11.850000\n",
       "75%          16.950000\n",
       "max        9873.737728\n",
       "Name: price_, dtype: float64"
      ]
     },
     "metadata": {},
     "output_type": "display_data"
    }
   ],
   "source": [
    "#смотрим цены в миллионах - в основном до 17 миллионов\n",
    "# есть подозрительно малые значения\n",
    "# есть очень большое значение - скорее всего ошибки\n",
    "df['price_']=df['price']/1000000\n",
    "\n",
    "display(df['price_'].describe())"
   ]
  },
  {
   "cell_type": "code",
   "execution_count": 14,
   "id": "dc70f255",
   "metadata": {},
   "outputs": [
    {
     "data": {
      "text/plain": [
       "<Axes: xlabel='price_'>"
      ]
     },
     "execution_count": 14,
     "metadata": {},
     "output_type": "execute_result"
    },
    {
     "data": {
      "image/png": "[encoded data removed]",
      "text/plain": [
       "<Figure size 1200x200 with 1 Axes>"
      ]
     },
     "metadata": {},
     "output_type": "display_data"
    }
   ],
   "source": [
    "#пробую сделать расчет без очень дорогих квартир - более 100 млн\n",
    "plt.figure(figsize=(12, 2))\n",
    "sns.boxplot(df.query('price<100000000'),x='price_')"
   ]
  },
  {
   "cell_type": "code",
   "execution_count": 15,
   "id": "20a3cfcb",
   "metadata": {},
   "outputs": [
    {
     "data": {
      "text/plain": [
       "count    141362.000000\n",
       "mean         62.374644\n",
       "std          40.295864\n",
       "min          11.000000\n",
       "25%          39.299999\n",
       "50%          53.000000\n",
       "75%          72.000000\n",
       "max         960.299988\n",
       "Name: total_area, dtype: float64"
      ]
     },
     "metadata": {},
     "output_type": "display_data"
    },
    {
     "data": {
      "text/plain": [
       "<Axes: xlabel='total_area', ylabel='Count'>"
      ]
     },
     "metadata": {},
     "output_type": "display_data"
    },
    {
     "data": {
      "image/png": "[encoded data removed]",
      "text/plain": [
       "<Figure size 1200x200 with 1 Axes>"
      ]
     },
     "metadata": {},
     "output_type": "display_data"
    }
   ],
   "source": [
    "# area kitchen_area\tliving_area total_area\tprice\n",
    "plt.figure(figsize=(12, 2))\n",
    "display(num_features['total_area'].describe())\n",
    "display(sns.histplot(num_features['total_area'])) \n",
    "\n",
    "# есть аномальное значение в 1000 кв метров\n",
    "# большинство значений сосредоточено до 100 квадратных метров\n",
    "#есть подозрительное значение в 11 квадратных метров, нет нулевых значений"
   ]
  },
  {
   "cell_type": "code",
   "execution_count": 16,
   "id": "50b504f8",
   "metadata": {},
   "outputs": [
    {
     "data": {
      "text/plain": [
       "count    141362.000000\n",
       "mean          9.001579\n",
       "std           5.264076\n",
       "min           0.000000\n",
       "25%           6.100000\n",
       "50%           8.800000\n",
       "75%          10.200000\n",
       "max         203.000000\n",
       "Name: kitchen_area, dtype: float64"
      ]
     },
     "metadata": {},
     "output_type": "display_data"
    },
    {
     "data": {
      "text/plain": [
       "<Axes: xlabel='kitchen_area', ylabel='Count'>"
      ]
     },
     "metadata": {},
     "output_type": "display_data"
    },
    {
     "data": {
      "image/png": "[encoded data removed]",
      "text/plain": [
       "<Figure size 1200x200 with 1 Axes>"
      ]
     },
     "metadata": {},
     "output_type": "display_data"
    }
   ],
   "source": [
    "# area kitchen_area\tliving_area total_area\tprice\n",
    "plt.figure(figsize=(12, 2))\n",
    "display(num_features['kitchen_area'].describe())\n",
    "display(sns.histplot(num_features['kitchen_area'])) \n",
    "\n",
    "# встречаются пропуски в данных\n",
    "# в основном наблюдейния - до 10 квадратных метров кухни\n",
    "# есть аномалии в 200 квадратов"
   ]
  },
  {
   "cell_type": "code",
   "execution_count": 17,
   "id": "41af21fc",
   "metadata": {},
   "outputs": [
    {
     "data": {
      "text/plain": [
       "count    141362.000000\n",
       "mean         31.056948\n",
       "std          23.968640\n",
       "min           0.000000\n",
       "25%          19.000000\n",
       "50%          29.400000\n",
       "75%          41.400002\n",
       "max         700.000000\n",
       "Name: living_area, dtype: float64"
      ]
     },
     "metadata": {},
     "output_type": "display_data"
    },
    {
     "data": {
      "text/plain": [
       "<Axes: xlabel='living_area', ylabel='Count'>"
      ]
     },
     "metadata": {},
     "output_type": "display_data"
    },
    {
     "data": {
      "image/png": "[encoded data removed]",
      "text/plain": [
       "<Figure size 1200x200 with 1 Axes>"
      ]
     },
     "metadata": {},
     "output_type": "display_data"
    }
   ],
   "source": [
    "# area kitchen_area\tliving_area total_area\tprice\n",
    "plt.figure(figsize=(12, 2))\n",
    "display(num_features['living_area'].describe())\n",
    "display(sns.histplot(num_features['living_area'])) \n",
    "\n",
    "# встречаются пропуски в данных\n",
    "# в основном наблюдейния - до 50 квадратных метров\n",
    "# есть аномалии в 700 квадратов"
   ]
  },
  {
   "cell_type": "code",
   "execution_count": 18,
   "id": "70b9f287",
   "metadata": {},
   "outputs": [
    {
     "data": {
      "text/plain": [
       "studio\n",
       "False    141362\n",
       "Name: floor, dtype: int64"
      ]
     },
     "execution_count": 18,
     "metadata": {},
     "output_type": "execute_result"
    }
   ],
   "source": [
    "# студий нет - признак бесполезный, можно удалить\n",
    "df.groupby('studio')['floor'].count()"
   ]
  },
  {
   "cell_type": "code",
   "execution_count": null,
   "id": "5648a96a",
   "metadata": {},
   "outputs": [
    {
     "data": {
      "text/plain": [
       "is_apartment\n",
       "False    139990\n",
       "True       1372\n",
       "Name: floor, dtype: int64"
      ]
     },
     "execution_count": 19,
     "metadata": {},
     "output_type": "execute_result"
    }
   ],
   "source": [
    "df.groupby('is_apartment')['floor'].count()"
   ]
  },
  {
   "cell_type": "code",
   "execution_count": 20,
   "id": "f385f979",
   "metadata": {},
   "outputs": [
    {
     "data": {
      "text/plain": [
       "is_apartment\n",
       "False    19.290498\n",
       "True     34.861125\n",
       "Name: price_, dtype: float64"
      ]
     },
     "execution_count": 20,
     "metadata": {},
     "output_type": "execute_result"
    }
   ],
   "source": [
    "df.groupby('is_apartment')['price_'].mean()"
   ]
  },
  {
   "cell_type": "code",
   "execution_count": null,
   "id": "806b7348",
   "metadata": {},
   "outputs": [
    {
     "name": "stdout",
     "output_type": "stream",
     "text": [
      "0\n"
     ]
    }
   ],
   "source": [
    "# проверка на явные дубли\n",
    "is_duplicated_id = df.duplicated(subset=['id'], keep=False)\n",
    "print(sum(is_duplicated_id))"
   ]
  },
  {
   "cell_type": "code",
   "execution_count": 22,
   "id": "9266b83e",
   "metadata": {},
   "outputs": [
    {
     "name": "stdout",
     "output_type": "stream",
     "text": [
      "            id  floor  is_apartment  kitchen_area  living_area  rooms  studio   \n",
      "22196    22196      1         False           4.0    19.000000      1   False  \\\n",
      "15724    15724      1         False           3.0     7.000000      1   False   \n",
      "45592    45592      1          True           0.0     0.000000      2   False   \n",
      "63895    63895      1         False           9.0    13.000000      1   False   \n",
      "78512    78512      1         False           3.0     0.000000      1   False   \n",
      "...        ...    ...           ...           ...          ...    ...     ...   \n",
      "54518    54518     48         False           0.0   149.545456      3   False   \n",
      "121900  121900     53         False           0.0   149.545456      3   False   \n",
      "20036    20036     55         False           8.0     0.000000      1   False   \n",
      "10598    10598     55         False           0.0    49.700001      2   False   \n",
      "121908  121908     56         False          20.0   115.000000      3   False   \n",
      "\n",
      "        total_area     price  building_id     price_  \n",
      "22196    23.200001   2000000        15495   2.000000  \n",
      "15724    11.700000   2300000         7821   2.300000  \n",
      "45592    86.599998   3000000         1584   3.000000  \n",
      "63895    30.000000   3600000        15153   3.600000  \n",
      "78512    17.000000   3600000         9460   3.600000  \n",
      "...            ...       ...          ...        ...  \n",
      "54518   164.500000  28837836        23081  28.837836  \n",
      "121900  164.500000  29176708        23081  29.176708  \n",
      "20036    38.000000  16500000        21559  16.500000  \n",
      "10598   107.500000  26136344        23084  26.136344  \n",
      "121908  138.100006  28100000        23082  28.100000  \n",
      "\n",
      "[9116 rows x 11 columns]\n",
      "9116\n"
     ]
    }
   ],
   "source": [
    "#дубликаты на основе равенства значений признаков\n",
    "\n",
    "feature_cols_flats=['floor','is_apartment','kitchen_area','living_area','rooms','studio','total_area','building_id','price_']\n",
    "is_duplicated_features = df.duplicated(subset=feature_cols_flats, keep='last')\n",
    "print(df[is_duplicated_features==True].sort_values(by=['floor','price_'],ascending=True))\n",
    "print(len(df[is_duplicated_features]))"
   ]
  },
  {
   "cell_type": "markdown",
   "id": "8c295572",
   "metadata": {},
   "source": [
    "основные выводы по таблице с квартирами\n",
    "\n",
    " - в таблице есть бинарные (is_apartment,studio) и числовые (floor,kitchen_area,living_area,rooms,total_area) признаки\n",
    " - бинарные признаки studio - не заполнен, is_apartment - заполнен\n",
    " - этаж floor - от 1 до 56, нет пропусков\n",
    " - площадь кухни и жилых помещений kitchen_area, living_area - есть пропуски, надо восстанавливать значения\n",
    " - количество комнат rooms - от 1 до 20, есть выбросы (редкие большие значения)\n",
    " - общая площадь total_area - от 11 до 960 метров, есть выбросы (редкие большие значения)\n",
    " - цена (целевой признак) - есть выбросы\n",
    " - явных дублей нет\n",
    " - есть неявные дубли (необходимо чистить)"
   ]
  },
  {
   "cell_type": "markdown",
   "id": "5cad37d1",
   "metadata": {},
   "source": [
    "ТАБЛИЦА 2 - ЗДАНИЯ"
   ]
  },
  {
   "cell_type": "code",
   "execution_count": 7,
   "id": "60484841",
   "metadata": {},
   "outputs": [
    {
     "name": "stdout",
     "output_type": "stream",
     "text": [
      "<class 'pandas.core.frame.DataFrame'>\n",
      "RangeIndex: 24620 entries, 0 to 24619\n",
      "Data columns (total 9 columns):\n",
      " #   Column             Non-Null Count  Dtype  \n",
      "---  ------             --------------  -----  \n",
      " 0   id                 24620 non-null  int64  \n",
      " 1   build_year         24620 non-null  int64  \n",
      " 2   building_type_int  24620 non-null  int64  \n",
      " 3   latitude           24620 non-null  float64\n",
      " 4   longitude          24620 non-null  float64\n",
      " 5   ceiling_height     24620 non-null  float64\n",
      " 6   flats_count        24620 non-null  int64  \n",
      " 7   floors_total       24620 non-null  int64  \n",
      " 8   has_elevator       24620 non-null  bool   \n",
      "dtypes: bool(1), float64(3), int64(5)\n",
      "memory usage: 1.5 MB\n"
     ]
    }
   ],
   "source": [
    "data_build.info()"
   ]
  },
  {
   "cell_type": "code",
   "execution_count": 24,
   "id": "4e9828f4",
   "metadata": {},
   "outputs": [
    {
     "data": {
      "text/html": [
       "<div>\n",
       "<style scoped>\n",
       "    .dataframe tbody tr th:only-of-type {\n",
       "        vertical-align: middle;\n",
       "    }\n",
       "\n",
       "    .dataframe tbody tr th {\n",
       "        vertical-align: top;\n",
       "    }\n",
       "\n",
       "    .dataframe thead th {\n",
       "        text-align: right;\n",
       "    }\n",
       "</style>\n",
       "<table border=\"1\" class=\"dataframe\">\n",
       "  <thead>\n",
       "    <tr style=\"text-align: right;\">\n",
       "      <th></th>\n",
       "      <th>id</th>\n",
       "      <th>build_year</th>\n",
       "      <th>building_type_int</th>\n",
       "      <th>latitude</th>\n",
       "      <th>longitude</th>\n",
       "      <th>ceiling_height</th>\n",
       "      <th>flats_count</th>\n",
       "      <th>floors_total</th>\n",
       "      <th>has_elevator</th>\n",
       "    </tr>\n",
       "  </thead>\n",
       "  <tbody>\n",
       "    <tr>\n",
       "      <th>0</th>\n",
       "      <td>6220</td>\n",
       "      <td>1965</td>\n",
       "      <td>6</td>\n",
       "      <td>55.717113</td>\n",
       "      <td>37.781120</td>\n",
       "      <td>2.64</td>\n",
       "      <td>84</td>\n",
       "      <td>12</td>\n",
       "      <td>True</td>\n",
       "    </tr>\n",
       "    <tr>\n",
       "      <th>1</th>\n",
       "      <td>18012</td>\n",
       "      <td>2001</td>\n",
       "      <td>2</td>\n",
       "      <td>55.794849</td>\n",
       "      <td>37.608013</td>\n",
       "      <td>3.00</td>\n",
       "      <td>97</td>\n",
       "      <td>10</td>\n",
       "      <td>True</td>\n",
       "    </tr>\n",
       "  </tbody>\n",
       "</table>\n",
       "</div>"
      ],
      "text/plain": [
       "      id  build_year  building_type_int   latitude  longitude  ceiling_height   \n",
       "0   6220        1965                  6  55.717113  37.781120            2.64  \\\n",
       "1  18012        2001                  2  55.794849  37.608013            3.00   \n",
       "\n",
       "   flats_count  floors_total  has_elevator  \n",
       "0           84            12          True  \n",
       "1           97            10          True  "
      ]
     },
     "execution_count": 24,
     "metadata": {},
     "output_type": "execute_result"
    }
   ],
   "source": [
    "data_build.head(2)"
   ]
  },
  {
   "cell_type": "code",
   "execution_count": 25,
   "id": "8087a08d",
   "metadata": {},
   "outputs": [
    {
     "data": {
      "text/html": [
       "<div>\n",
       "<style scoped>\n",
       "    .dataframe tbody tr th:only-of-type {\n",
       "        vertical-align: middle;\n",
       "    }\n",
       "\n",
       "    .dataframe tbody tr th {\n",
       "        vertical-align: top;\n",
       "    }\n",
       "\n",
       "    .dataframe thead th {\n",
       "        text-align: right;\n",
       "    }\n",
       "</style>\n",
       "<table border=\"1\" class=\"dataframe\">\n",
       "  <thead>\n",
       "    <tr style=\"text-align: right;\">\n",
       "      <th></th>\n",
       "      <th>id</th>\n",
       "      <th>build_year</th>\n",
       "      <th>building_type_int</th>\n",
       "      <th>latitude</th>\n",
       "      <th>longitude</th>\n",
       "      <th>ceiling_height</th>\n",
       "      <th>flats_count</th>\n",
       "      <th>floors_total</th>\n",
       "    </tr>\n",
       "  </thead>\n",
       "  <tbody>\n",
       "    <tr>\n",
       "      <th>count</th>\n",
       "      <td>24620.00000</td>\n",
       "      <td>24620.000000</td>\n",
       "      <td>24620.000000</td>\n",
       "      <td>24620.000000</td>\n",
       "      <td>24620.000000</td>\n",
       "      <td>24620.000000</td>\n",
       "      <td>24620.000000</td>\n",
       "      <td>24620.000000</td>\n",
       "    </tr>\n",
       "    <tr>\n",
       "      <th>mean</th>\n",
       "      <td>12310.50000</td>\n",
       "      <td>1981.377295</td>\n",
       "      <td>3.153656</td>\n",
       "      <td>55.738892</td>\n",
       "      <td>37.593816</td>\n",
       "      <td>2.753557</td>\n",
       "      <td>184.882575</td>\n",
       "      <td>12.441024</td>\n",
       "    </tr>\n",
       "    <tr>\n",
       "      <th>std</th>\n",
       "      <td>7107.32615</td>\n",
       "      <td>22.657856</td>\n",
       "      <td>1.636435</td>\n",
       "      <td>0.101094</td>\n",
       "      <td>0.145408</td>\n",
       "      <td>0.277912</td>\n",
       "      <td>158.427509</td>\n",
       "      <td>6.271325</td>\n",
       "    </tr>\n",
       "    <tr>\n",
       "      <th>min</th>\n",
       "      <td>1.00000</td>\n",
       "      <td>1901.000000</td>\n",
       "      <td>0.000000</td>\n",
       "      <td>55.211460</td>\n",
       "      <td>36.864372</td>\n",
       "      <td>2.000000</td>\n",
       "      <td>1.000000</td>\n",
       "      <td>1.000000</td>\n",
       "    </tr>\n",
       "    <tr>\n",
       "      <th>25%</th>\n",
       "      <td>6155.75000</td>\n",
       "      <td>1965.000000</td>\n",
       "      <td>1.000000</td>\n",
       "      <td>55.668725</td>\n",
       "      <td>37.499031</td>\n",
       "      <td>2.640000</td>\n",
       "      <td>80.000000</td>\n",
       "      <td>8.000000</td>\n",
       "    </tr>\n",
       "    <tr>\n",
       "      <th>50%</th>\n",
       "      <td>12310.50000</td>\n",
       "      <td>1978.000000</td>\n",
       "      <td>4.000000</td>\n",
       "      <td>55.742020</td>\n",
       "      <td>37.588400</td>\n",
       "      <td>2.640000</td>\n",
       "      <td>139.000000</td>\n",
       "      <td>12.000000</td>\n",
       "    </tr>\n",
       "    <tr>\n",
       "      <th>75%</th>\n",
       "      <td>18465.25000</td>\n",
       "      <td>2002.000000</td>\n",
       "      <td>4.000000</td>\n",
       "      <td>55.811775</td>\n",
       "      <td>37.698833</td>\n",
       "      <td>2.900000</td>\n",
       "      <td>242.000000</td>\n",
       "      <td>16.000000</td>\n",
       "    </tr>\n",
       "    <tr>\n",
       "      <th>max</th>\n",
       "      <td>24620.00000</td>\n",
       "      <td>2023.000000</td>\n",
       "      <td>6.000000</td>\n",
       "      <td>56.011032</td>\n",
       "      <td>37.946411</td>\n",
       "      <td>27.000000</td>\n",
       "      <td>4455.000000</td>\n",
       "      <td>99.000000</td>\n",
       "    </tr>\n",
       "  </tbody>\n",
       "</table>\n",
       "</div>"
      ],
      "text/plain": [
       "                id    build_year  building_type_int      latitude   \n",
       "count  24620.00000  24620.000000       24620.000000  24620.000000  \\\n",
       "mean   12310.50000   1981.377295           3.153656     55.738892   \n",
       "std     7107.32615     22.657856           1.636435      0.101094   \n",
       "min        1.00000   1901.000000           0.000000     55.211460   \n",
       "25%     6155.75000   1965.000000           1.000000     55.668725   \n",
       "50%    12310.50000   1978.000000           4.000000     55.742020   \n",
       "75%    18465.25000   2002.000000           4.000000     55.811775   \n",
       "max    24620.00000   2023.000000           6.000000     56.011032   \n",
       "\n",
       "          longitude  ceiling_height   flats_count  floors_total  \n",
       "count  24620.000000    24620.000000  24620.000000  24620.000000  \n",
       "mean      37.593816        2.753557    184.882575     12.441024  \n",
       "std        0.145408        0.277912    158.427509      6.271325  \n",
       "min       36.864372        2.000000      1.000000      1.000000  \n",
       "25%       37.499031        2.640000     80.000000      8.000000  \n",
       "50%       37.588400        2.640000    139.000000     12.000000  \n",
       "75%       37.698833        2.900000    242.000000     16.000000  \n",
       "max       37.946411       27.000000   4455.000000     99.000000  "
      ]
     },
     "execution_count": 25,
     "metadata": {},
     "output_type": "execute_result"
    }
   ],
   "source": [
    "data_build.describe()"
   ]
  },
  {
   "cell_type": "code",
   "execution_count": 26,
   "id": "2ad184ca",
   "metadata": {},
   "outputs": [
    {
     "name": "stdout",
     "output_type": "stream",
     "text": [
      "int64      4\n",
      "float64    3\n",
      "bool       1\n",
      "Name: count, dtype: int64\n"
     ]
    }
   ],
   "source": [
    "features_build = data_build[['build_year','building_type_int','latitude','longitude','ceiling_height','flats_count','floors_total','has_elevator']]\n",
    "res_build=features_build.dtypes\n",
    "print(res_build.value_counts())"
   ]
  },
  {
   "cell_type": "code",
   "execution_count": 27,
   "id": "52de47ae",
   "metadata": {},
   "outputs": [
    {
     "data": {
      "text/plain": [
       "has_elevator\n",
       "False     4295\n",
       "True     20325\n",
       "Name: id, dtype: int64"
      ]
     },
     "execution_count": 27,
     "metadata": {},
     "output_type": "execute_result"
    }
   ],
   "source": [
    "data_build.groupby('has_elevator')['id'].count()"
   ]
  },
  {
   "cell_type": "code",
   "execution_count": 28,
   "id": "3a803173",
   "metadata": {},
   "outputs": [
    {
     "data": {
      "text/plain": [
       "count    24620.000000\n",
       "mean      1981.377295\n",
       "std         22.657856\n",
       "min       1901.000000\n",
       "25%       1965.000000\n",
       "50%       1978.000000\n",
       "75%       2002.000000\n",
       "max       2023.000000\n",
       "Name: build_year, dtype: float64"
      ]
     },
     "metadata": {},
     "output_type": "display_data"
    },
    {
     "data": {
      "text/plain": [
       "<Axes: xlabel='build_year', ylabel='Count'>"
      ]
     },
     "metadata": {},
     "output_type": "display_data"
    },
    {
     "data": {
      "image/png": "[encoded data removed]",
      "text/plain": [
       "<Figure size 1200x200 with 1 Axes>"
      ]
     },
     "metadata": {},
     "output_type": "display_data"
    }
   ],
   "source": [
    "plt.figure(figsize=(12, 2))\n",
    "num_features_build = features_build.select_dtypes(include=['float64', 'int64'])\n",
    "display(num_features_build['build_year'].describe())\n",
    "display(sns.histplot(num_features_build['build_year'])) "
   ]
  },
  {
   "cell_type": "code",
   "execution_count": 29,
   "id": "d81a1dfd",
   "metadata": {},
   "outputs": [
    {
     "data": {
      "text/plain": [
       "count    24620.000000\n",
       "mean         3.153656\n",
       "std          1.636435\n",
       "min          0.000000\n",
       "25%          1.000000\n",
       "50%          4.000000\n",
       "75%          4.000000\n",
       "max          6.000000\n",
       "Name: building_type_int, dtype: float64"
      ]
     },
     "metadata": {},
     "output_type": "display_data"
    },
    {
     "data": {
      "text/plain": [
       "<Axes: xlabel='building_type_int', ylabel='Count'>"
      ]
     },
     "metadata": {},
     "output_type": "display_data"
    },
    {
     "data": {
      "image/png": "[encoded data removed]",
      "text/plain": [
       "<Figure size 1200x200 with 1 Axes>"
      ]
     },
     "metadata": {},
     "output_type": "display_data"
    }
   ],
   "source": [
    "# не уверен что категория имеет смысл\n",
    "# для первой версии модели не используем\n",
    "plt.figure(figsize=(12, 2))\n",
    "#тип - это категория, не числовой признак же\n",
    "display(num_features_build['building_type_int'].describe())\n",
    "display(sns.histplot(num_features_build['building_type_int'])) "
   ]
  },
  {
   "cell_type": "code",
   "execution_count": 30,
   "id": "103a3acf",
   "metadata": {},
   "outputs": [
    {
     "data": {
      "text/plain": [
       "count    24620.000000\n",
       "mean        55.738892\n",
       "std          0.101094\n",
       "min         55.211460\n",
       "25%         55.668725\n",
       "50%         55.742020\n",
       "75%         55.811775\n",
       "max         56.011032\n",
       "Name: latitude, dtype: float64"
      ]
     },
     "metadata": {},
     "output_type": "display_data"
    },
    {
     "data": {
      "text/plain": [
       "<Axes: xlabel='latitude', ylabel='Count'>"
      ]
     },
     "metadata": {},
     "output_type": "display_data"
    },
    {
     "data": {
      "image/png": "[encoded data removed]",
      "text/plain": [
       "<Figure size 1200x200 with 1 Axes>"
      ]
     },
     "metadata": {},
     "output_type": "display_data"
    }
   ],
   "source": [
    "plt.figure(figsize=(12, 2))\n",
    "display(num_features_build['latitude'].describe())\n",
    "display(sns.histplot(num_features_build['latitude'])) \n",
    "\n",
    "#заполнено хорошо, кучно, без выбросов"
   ]
  },
  {
   "cell_type": "code",
   "execution_count": 31,
   "id": "d68d0098",
   "metadata": {},
   "outputs": [
    {
     "data": {
      "text/plain": [
       "count    24620.000000\n",
       "mean        37.593816\n",
       "std          0.145408\n",
       "min         36.864372\n",
       "25%         37.499031\n",
       "50%         37.588400\n",
       "75%         37.698833\n",
       "max         37.946411\n",
       "Name: longitude, dtype: float64"
      ]
     },
     "metadata": {},
     "output_type": "display_data"
    },
    {
     "data": {
      "text/plain": [
       "<Axes: xlabel='longitude', ylabel='Count'>"
      ]
     },
     "metadata": {},
     "output_type": "display_data"
    },
    {
     "data": {
      "image/png": "[encoded data removed]",
      "text/plain": [
       "<Figure size 1200x200 with 1 Axes>"
      ]
     },
     "metadata": {},
     "output_type": "display_data"
    }
   ],
   "source": [
    "plt.figure(figsize=(12, 2))\n",
    "display(num_features_build['longitude'].describe())\n",
    "display(sns.histplot(num_features_build['longitude'])) \n",
    "\n",
    "# тоже заполнено хорошо"
   ]
  },
  {
   "cell_type": "code",
   "execution_count": 32,
   "id": "6c4be077",
   "metadata": {},
   "outputs": [
    {
     "data": {
      "text/plain": [
       "count    24620.000000\n",
       "mean         2.753557\n",
       "std          0.277912\n",
       "min          2.000000\n",
       "25%          2.640000\n",
       "50%          2.640000\n",
       "75%          2.900000\n",
       "max         27.000000\n",
       "Name: ceiling_height, dtype: float64"
      ]
     },
     "metadata": {},
     "output_type": "display_data"
    },
    {
     "data": {
      "text/plain": [
       "<Axes: xlabel='ceiling_height', ylabel='Count'>"
      ]
     },
     "metadata": {},
     "output_type": "display_data"
    },
    {
     "data": {
      "image/png": "[encoded data removed]",
      "text/plain": [
       "<Figure size 1200x200 with 1 Axes>"
      ]
     },
     "metadata": {},
     "output_type": "display_data"
    }
   ],
   "source": [
    "plt.figure(figsize=(12, 2))\n",
    "display(num_features_build['ceiling_height'].describe())\n",
    "display(sns.histplot(num_features_build.query('ceiling_height<10')['ceiling_height'])) \n",
    "\n",
    "# посмотреть что за потолки менее 2.2 и более 5 - выбросы"
   ]
  },
  {
   "cell_type": "code",
   "execution_count": 33,
   "id": "c99c92f2",
   "metadata": {},
   "outputs": [
    {
     "data": {
      "text/plain": [
       "count    24620.000000\n",
       "mean       184.882575\n",
       "std        158.427509\n",
       "min          1.000000\n",
       "25%         80.000000\n",
       "50%        139.000000\n",
       "75%        242.000000\n",
       "max       4455.000000\n",
       "Name: flats_count, dtype: float64"
      ]
     },
     "metadata": {},
     "output_type": "display_data"
    },
    {
     "data": {
      "text/plain": [
       "<Axes: xlabel='flats_count', ylabel='Count'>"
      ]
     },
     "metadata": {},
     "output_type": "display_data"
    },
    {
     "data": {
      "image/png": "[encoded data removed]",
      "text/plain": [
       "<Figure size 1200x200 with 1 Axes>"
      ]
     },
     "metadata": {},
     "output_type": "display_data"
    }
   ],
   "source": [
    "plt.figure(figsize=(12, 2))\n",
    "display(num_features_build['flats_count'].describe())\n",
    "display(sns.histplot(num_features_build['flats_count'])) \n",
    "\n",
    "# в основном до 2000 квартир, есть выбросы"
   ]
  },
  {
   "cell_type": "code",
   "execution_count": 34,
   "id": "f84a4941",
   "metadata": {},
   "outputs": [
    {
     "data": {
      "text/plain": [
       "count    24620.000000\n",
       "mean        12.441024\n",
       "std          6.271325\n",
       "min          1.000000\n",
       "25%          8.000000\n",
       "50%         12.000000\n",
       "75%         16.000000\n",
       "max         99.000000\n",
       "Name: floors_total, dtype: float64"
      ]
     },
     "metadata": {},
     "output_type": "display_data"
    },
    {
     "data": {
      "text/plain": [
       "<Axes: xlabel='floors_total', ylabel='Count'>"
      ]
     },
     "metadata": {},
     "output_type": "display_data"
    },
    {
     "data": {
      "image/png": "[encoded data removed]",
      "text/plain": [
       "<Figure size 1200x200 with 1 Axes>"
      ]
     },
     "metadata": {},
     "output_type": "display_data"
    }
   ],
   "source": [
    "plt.figure(figsize=(12, 2))\n",
    "display(num_features_build['floors_total'].describe())\n",
    "display(sns.histplot(num_features_build['floors_total'])) \n",
    "\n",
    "#от 0 до 100 этажей"
   ]
  },
  {
   "cell_type": "code",
   "execution_count": 35,
   "id": "671cda4e",
   "metadata": {},
   "outputs": [
    {
     "name": "stdout",
     "output_type": "stream",
     "text": [
      "0\n"
     ]
    }
   ],
   "source": [
    "#Поиск дублей в данных - это идентичные либо почти идентичные наблюдения в наборе данных.\n",
    "\n",
    "#все записи имеют свой уникальный\n",
    "\n",
    "is_duplicated_id_build = data_build.duplicated(subset=['id'], keep=False)\n",
    "print(sum(is_duplicated_id_build))"
   ]
  },
  {
   "cell_type": "code",
   "execution_count": 36,
   "id": "bc977985",
   "metadata": {},
   "outputs": [
    {
     "name": "stdout",
     "output_type": "stream",
     "text": [
      "Empty DataFrame\n",
      "Columns: [id, build_year, building_type_int, latitude, longitude, ceiling_height, flats_count, floors_total, has_elevator]\n",
      "Index: []\n",
      "0\n"
     ]
    }
   ],
   "source": [
    "#дубликаты на основе равенства значений признаков\n",
    "\n",
    "feature_cols_flats=['build_year','latitude','longitude','flats_count','floors_total']\n",
    "is_duplicated_features = data_build.duplicated(subset=feature_cols_flats, keep='last')\n",
    "print(data_build[is_duplicated_features==True])\n",
    "print(len(data_build[is_duplicated_features]))\n"
   ]
  },
  {
   "cell_type": "markdown",
   "id": "77f7b958",
   "metadata": {},
   "source": [
    "основные выводы по таблице с домами\n",
    "\n",
    " - в таблице есть бинарные (has_elevator) , категориальные (building_type_int) и числовые (build_year, latitude, longitude, ceiling_height, flats_count, floors_total) признаки\n",
    " - бинарный признак has_elevator - заполнен хорошо\n",
    " - build_year - c 1900 года\n",
    " - гео признаки - latitude и longitude - напрямую использовать в модели не получится, можно выделить районы и посмотреть зависимость цены от района\n",
    " - ceiling_height, flats_count, floors_total - есть выбросы в данных\n",
    " - неявных и явных дублей в таблице с домами нет\n"
   ]
  },
  {
   "cell_type": "markdown",
   "id": "4e946d1f",
   "metadata": {},
   "source": [
    "ОБЪЕДИНЯЕМ В 1 ДАТАСЕТ"
   ]
  },
  {
   "cell_type": "code",
   "execution_count": 29,
   "id": "95ba1b75",
   "metadata": {},
   "outputs": [
    {
     "data": {
      "text/html": [
       "<div>\n",
       "<style scoped>\n",
       "    .dataframe tbody tr th:only-of-type {\n",
       "        vertical-align: middle;\n",
       "    }\n",
       "\n",
       "    .dataframe tbody tr th {\n",
       "        vertical-align: top;\n",
       "    }\n",
       "\n",
       "    .dataframe thead th {\n",
       "        text-align: right;\n",
       "    }\n",
       "</style>\n",
       "<table border=\"1\" class=\"dataframe\">\n",
       "  <thead>\n",
       "    <tr style=\"text-align: right;\">\n",
       "      <th></th>\n",
       "      <th>id</th>\n",
       "      <th>build_year</th>\n",
       "      <th>building_type_int</th>\n",
       "      <th>latitude</th>\n",
       "      <th>longitude</th>\n",
       "      <th>ceiling_height</th>\n",
       "      <th>flats_count</th>\n",
       "      <th>floors_total</th>\n",
       "      <th>has_elevator</th>\n",
       "      <th>floor</th>\n",
       "      <th>is_apartment</th>\n",
       "      <th>kitchen_area</th>\n",
       "      <th>living_area</th>\n",
       "      <th>rooms</th>\n",
       "      <th>studio</th>\n",
       "      <th>total_area</th>\n",
       "      <th>price</th>\n",
       "      <th>building_id</th>\n",
       "    </tr>\n",
       "  </thead>\n",
       "  <tbody>\n",
       "    <tr>\n",
       "      <th>0</th>\n",
       "      <td>0</td>\n",
       "      <td>1965</td>\n",
       "      <td>6</td>\n",
       "      <td>55.717113</td>\n",
       "      <td>37.781120</td>\n",
       "      <td>2.64</td>\n",
       "      <td>84</td>\n",
       "      <td>12</td>\n",
       "      <td>True</td>\n",
       "      <td>9</td>\n",
       "      <td>False</td>\n",
       "      <td>9.90</td>\n",
       "      <td>19.900000</td>\n",
       "      <td>1</td>\n",
       "      <td>False</td>\n",
       "      <td>35.099998</td>\n",
       "      <td>9500000</td>\n",
       "      <td>6220</td>\n",
       "    </tr>\n",
       "    <tr>\n",
       "      <th>1</th>\n",
       "      <td>1</td>\n",
       "      <td>2001</td>\n",
       "      <td>2</td>\n",
       "      <td>55.794849</td>\n",
       "      <td>37.608013</td>\n",
       "      <td>3.00</td>\n",
       "      <td>97</td>\n",
       "      <td>10</td>\n",
       "      <td>True</td>\n",
       "      <td>7</td>\n",
       "      <td>False</td>\n",
       "      <td>0.00</td>\n",
       "      <td>16.600000</td>\n",
       "      <td>1</td>\n",
       "      <td>False</td>\n",
       "      <td>43.000000</td>\n",
       "      <td>13500000</td>\n",
       "      <td>18012</td>\n",
       "    </tr>\n",
       "    <tr>\n",
       "      <th>2</th>\n",
       "      <td>2</td>\n",
       "      <td>2000</td>\n",
       "      <td>4</td>\n",
       "      <td>55.740040</td>\n",
       "      <td>37.761742</td>\n",
       "      <td>2.70</td>\n",
       "      <td>80</td>\n",
       "      <td>10</td>\n",
       "      <td>True</td>\n",
       "      <td>9</td>\n",
       "      <td>False</td>\n",
       "      <td>9.00</td>\n",
       "      <td>32.000000</td>\n",
       "      <td>2</td>\n",
       "      <td>False</td>\n",
       "      <td>56.000000</td>\n",
       "      <td>13500000</td>\n",
       "      <td>17821</td>\n",
       "    </tr>\n",
       "    <tr>\n",
       "      <th>3</th>\n",
       "      <td>3</td>\n",
       "      <td>2002</td>\n",
       "      <td>4</td>\n",
       "      <td>55.672016</td>\n",
       "      <td>37.570877</td>\n",
       "      <td>2.64</td>\n",
       "      <td>771</td>\n",
       "      <td>17</td>\n",
       "      <td>True</td>\n",
       "      <td>1</td>\n",
       "      <td>False</td>\n",
       "      <td>10.10</td>\n",
       "      <td>43.099998</td>\n",
       "      <td>3</td>\n",
       "      <td>False</td>\n",
       "      <td>76.000000</td>\n",
       "      <td>20000000</td>\n",
       "      <td>18579</td>\n",
       "    </tr>\n",
       "    <tr>\n",
       "      <th>4</th>\n",
       "      <td>4</td>\n",
       "      <td>1971</td>\n",
       "      <td>1</td>\n",
       "      <td>55.808807</td>\n",
       "      <td>37.707306</td>\n",
       "      <td>2.60</td>\n",
       "      <td>208</td>\n",
       "      <td>9</td>\n",
       "      <td>True</td>\n",
       "      <td>3</td>\n",
       "      <td>False</td>\n",
       "      <td>3.00</td>\n",
       "      <td>14.000000</td>\n",
       "      <td>1</td>\n",
       "      <td>False</td>\n",
       "      <td>24.000000</td>\n",
       "      <td>5200000</td>\n",
       "      <td>9293</td>\n",
       "    </tr>\n",
       "    <tr>\n",
       "      <th>...</th>\n",
       "      <td>...</td>\n",
       "      <td>...</td>\n",
       "      <td>...</td>\n",
       "      <td>...</td>\n",
       "      <td>...</td>\n",
       "      <td>...</td>\n",
       "      <td>...</td>\n",
       "      <td>...</td>\n",
       "      <td>...</td>\n",
       "      <td>...</td>\n",
       "      <td>...</td>\n",
       "      <td>...</td>\n",
       "      <td>...</td>\n",
       "      <td>...</td>\n",
       "      <td>...</td>\n",
       "      <td>...</td>\n",
       "      <td>...</td>\n",
       "      <td>...</td>\n",
       "    </tr>\n",
       "    <tr>\n",
       "      <th>141357</th>\n",
       "      <td>141357</td>\n",
       "      <td>2013</td>\n",
       "      <td>4</td>\n",
       "      <td>55.626579</td>\n",
       "      <td>37.313503</td>\n",
       "      <td>2.64</td>\n",
       "      <td>672</td>\n",
       "      <td>25</td>\n",
       "      <td>True</td>\n",
       "      <td>16</td>\n",
       "      <td>False</td>\n",
       "      <td>11.00</td>\n",
       "      <td>18.000000</td>\n",
       "      <td>1</td>\n",
       "      <td>False</td>\n",
       "      <td>42.000000</td>\n",
       "      <td>10500000</td>\n",
       "      <td>22455</td>\n",
       "    </tr>\n",
       "    <tr>\n",
       "      <th>141358</th>\n",
       "      <td>141358</td>\n",
       "      <td>1960</td>\n",
       "      <td>1</td>\n",
       "      <td>55.727470</td>\n",
       "      <td>37.768677</td>\n",
       "      <td>2.48</td>\n",
       "      <td>80</td>\n",
       "      <td>5</td>\n",
       "      <td>False</td>\n",
       "      <td>5</td>\n",
       "      <td>False</td>\n",
       "      <td>5.28</td>\n",
       "      <td>28.330000</td>\n",
       "      <td>2</td>\n",
       "      <td>False</td>\n",
       "      <td>41.110001</td>\n",
       "      <td>7400000</td>\n",
       "      <td>3162</td>\n",
       "    </tr>\n",
       "    <tr>\n",
       "      <th>141359</th>\n",
       "      <td>141359</td>\n",
       "      <td>1966</td>\n",
       "      <td>4</td>\n",
       "      <td>55.704315</td>\n",
       "      <td>37.506584</td>\n",
       "      <td>2.64</td>\n",
       "      <td>72</td>\n",
       "      <td>9</td>\n",
       "      <td>True</td>\n",
       "      <td>7</td>\n",
       "      <td>False</td>\n",
       "      <td>5.30</td>\n",
       "      <td>20.000000</td>\n",
       "      <td>1</td>\n",
       "      <td>False</td>\n",
       "      <td>31.500000</td>\n",
       "      <td>9700000</td>\n",
       "      <td>6513</td>\n",
       "    </tr>\n",
       "    <tr>\n",
       "      <th>141360</th>\n",
       "      <td>141360</td>\n",
       "      <td>2017</td>\n",
       "      <td>4</td>\n",
       "      <td>55.699863</td>\n",
       "      <td>37.939564</td>\n",
       "      <td>2.70</td>\n",
       "      <td>480</td>\n",
       "      <td>25</td>\n",
       "      <td>True</td>\n",
       "      <td>15</td>\n",
       "      <td>False</td>\n",
       "      <td>13.80</td>\n",
       "      <td>33.700001</td>\n",
       "      <td>2</td>\n",
       "      <td>False</td>\n",
       "      <td>65.300003</td>\n",
       "      <td>11750000</td>\n",
       "      <td>23952</td>\n",
       "    </tr>\n",
       "    <tr>\n",
       "      <th>141361</th>\n",
       "      <td>141361</td>\n",
       "      <td>1988</td>\n",
       "      <td>4</td>\n",
       "      <td>55.862133</td>\n",
       "      <td>37.689613</td>\n",
       "      <td>2.74</td>\n",
       "      <td>128</td>\n",
       "      <td>17</td>\n",
       "      <td>True</td>\n",
       "      <td>16</td>\n",
       "      <td>False</td>\n",
       "      <td>7.60</td>\n",
       "      <td>18.000000</td>\n",
       "      <td>1</td>\n",
       "      <td>False</td>\n",
       "      <td>38.000000</td>\n",
       "      <td>8000000</td>\n",
       "      <td>15104</td>\n",
       "    </tr>\n",
       "  </tbody>\n",
       "</table>\n",
       "<p>141362 rows × 18 columns</p>\n",
       "</div>"
      ],
      "text/plain": [
       "            id  build_year  building_type_int   latitude  longitude   \n",
       "0            0        1965                  6  55.717113  37.781120  \\\n",
       "1            1        2001                  2  55.794849  37.608013   \n",
       "2            2        2000                  4  55.740040  37.761742   \n",
       "3            3        2002                  4  55.672016  37.570877   \n",
       "4            4        1971                  1  55.808807  37.707306   \n",
       "...        ...         ...                ...        ...        ...   \n",
       "141357  141357        2013                  4  55.626579  37.313503   \n",
       "141358  141358        1960                  1  55.727470  37.768677   \n",
       "141359  141359        1966                  4  55.704315  37.506584   \n",
       "141360  141360        2017                  4  55.699863  37.939564   \n",
       "141361  141361        1988                  4  55.862133  37.689613   \n",
       "\n",
       "        ceiling_height  flats_count  floors_total  has_elevator  floor   \n",
       "0                 2.64           84            12          True      9  \\\n",
       "1                 3.00           97            10          True      7   \n",
       "2                 2.70           80            10          True      9   \n",
       "3                 2.64          771            17          True      1   \n",
       "4                 2.60          208             9          True      3   \n",
       "...                ...          ...           ...           ...    ...   \n",
       "141357            2.64          672            25          True     16   \n",
       "141358            2.48           80             5         False      5   \n",
       "141359            2.64           72             9          True      7   \n",
       "141360            2.70          480            25          True     15   \n",
       "141361            2.74          128            17          True     16   \n",
       "\n",
       "        is_apartment  kitchen_area  living_area  rooms  studio  total_area   \n",
       "0              False          9.90    19.900000      1   False   35.099998  \\\n",
       "1              False          0.00    16.600000      1   False   43.000000   \n",
       "2              False          9.00    32.000000      2   False   56.000000   \n",
       "3              False         10.10    43.099998      3   False   76.000000   \n",
       "4              False          3.00    14.000000      1   False   24.000000   \n",
       "...              ...           ...          ...    ...     ...         ...   \n",
       "141357         False         11.00    18.000000      1   False   42.000000   \n",
       "141358         False          5.28    28.330000      2   False   41.110001   \n",
       "141359         False          5.30    20.000000      1   False   31.500000   \n",
       "141360         False         13.80    33.700001      2   False   65.300003   \n",
       "141361         False          7.60    18.000000      1   False   38.000000   \n",
       "\n",
       "           price  building_id  \n",
       "0        9500000         6220  \n",
       "1       13500000        18012  \n",
       "2       13500000        17821  \n",
       "3       20000000        18579  \n",
       "4        5200000         9293  \n",
       "...          ...          ...  \n",
       "141357  10500000        22455  \n",
       "141358   7400000         3162  \n",
       "141359   9700000         6513  \n",
       "141360  11750000        23952  \n",
       "141361   8000000        15104  \n",
       "\n",
       "[141362 rows x 18 columns]"
      ]
     },
     "execution_count": 29,
     "metadata": {},
     "output_type": "execute_result"
    }
   ],
   "source": [
    "dst_conn = create_engine(f'postgresql://{dst_username}:{dst_password}@{dst_host}:{dst_port}/{dst_db}')\n",
    "\n",
    "\n",
    "SQL_result = f\"\"\"select b.id, a.build_year, a.building_type_int, a.latitude, a.longitude, a.ceiling_height, a.flats_count, a.floors_total, a.has_elevator,\n",
    "b.floor, b.is_apartment, b.kitchen_area, b.living_area, b.rooms, b.studio, b.total_area, b.price, b.building_id\n",
    "from buildings as a \n",
    "left join flats as b on a.id=b.building_id\"\"\"\n",
    "\n",
    "data_set=pd.read_sql(SQL_result, dst_conn)\n",
    "data_set"
   ]
  },
  {
   "cell_type": "code",
   "execution_count": 30,
   "id": "ec64460e",
   "metadata": {},
   "outputs": [
    {
     "data": {
      "text/plain": [
       "Index(['id', 'build_year', 'building_type_int', 'latitude', 'longitude',\n",
       "       'ceiling_height', 'flats_count', 'floors_total', 'has_elevator',\n",
       "       'floor', 'is_apartment', 'kitchen_area', 'living_area', 'rooms',\n",
       "       'studio', 'total_area', 'price', 'building_id'],\n",
       "      dtype='object')"
      ]
     },
     "execution_count": 30,
     "metadata": {},
     "output_type": "execute_result"
    }
   ],
   "source": [
    "data_set.columns"
   ]
  },
  {
   "cell_type": "code",
   "execution_count": 31,
   "id": "cc5885d9",
   "metadata": {},
   "outputs": [],
   "source": [
    "#процесс очистки данных\n",
    "#1 - цену квартиры - убираем выбросы\n",
    "#2 - количество комнат - не более 10\n",
    "#3 - общая площадь не более 500\n",
    "#4 - потолки - от 2.2 до 5 метров\n",
    "#5 - в доме не более 2000 квартир\n",
    "#6 - этажей в доме не более 40\n",
    "\n",
    "data_set=data_set.query('price<100000000 and price>500000')\n",
    "data_set=data_set.query('rooms<10')\n",
    "data_set=data_set.query('total_area<500')\n",
    "data_set=data_set.query('ceiling_height>=2.2 and ceiling_height<5')\n",
    "data_set=data_set.query('flats_count<2000')\n",
    "data_set=data_set.query('floors_total<=40')"
   ]
  },
  {
   "cell_type": "code",
   "execution_count": 32,
   "id": "9ebe867f",
   "metadata": {},
   "outputs": [],
   "source": [
    "# чистим от неявных дублей\n",
    "#дубликаты на основе равенства значений признаков\n",
    "\n",
    "feature_cols_flats=['floor','is_apartment','rooms','total_area','building_id','price']\n",
    "is_duplicated_features = data_set.duplicated(subset=feature_cols_flats, keep='last')\n",
    "\n",
    "data_set = data_set[~is_duplicated_features].reset_index(drop=True) "
   ]
  },
  {
   "cell_type": "code",
   "execution_count": 33,
   "id": "f89ca6ae",
   "metadata": {},
   "outputs": [
    {
     "data": {
      "text/html": [
       "<div>\n",
       "<style scoped>\n",
       "    .dataframe tbody tr th:only-of-type {\n",
       "        vertical-align: middle;\n",
       "    }\n",
       "\n",
       "    .dataframe tbody tr th {\n",
       "        vertical-align: top;\n",
       "    }\n",
       "\n",
       "    .dataframe thead th {\n",
       "        text-align: right;\n",
       "    }\n",
       "</style>\n",
       "<table border=\"1\" class=\"dataframe\">\n",
       "  <thead>\n",
       "    <tr style=\"text-align: right;\">\n",
       "      <th></th>\n",
       "      <th>id</th>\n",
       "      <th>build_year</th>\n",
       "      <th>building_type_int</th>\n",
       "      <th>latitude</th>\n",
       "      <th>longitude</th>\n",
       "      <th>ceiling_height</th>\n",
       "      <th>flats_count</th>\n",
       "      <th>floors_total</th>\n",
       "      <th>floor</th>\n",
       "      <th>kitchen_area</th>\n",
       "      <th>living_area</th>\n",
       "      <th>rooms</th>\n",
       "      <th>total_area</th>\n",
       "      <th>price</th>\n",
       "      <th>building_id</th>\n",
       "    </tr>\n",
       "  </thead>\n",
       "  <tbody>\n",
       "    <tr>\n",
       "      <th>count</th>\n",
       "      <td>126126.000000</td>\n",
       "      <td>126126.000000</td>\n",
       "      <td>126126.000000</td>\n",
       "      <td>126126.000000</td>\n",
       "      <td>126126.000000</td>\n",
       "      <td>126126.000000</td>\n",
       "      <td>126126.000000</td>\n",
       "      <td>126126.000000</td>\n",
       "      <td>126126.000000</td>\n",
       "      <td>126126.000000</td>\n",
       "      <td>126126.000000</td>\n",
       "      <td>126126.000000</td>\n",
       "      <td>126126.000000</td>\n",
       "      <td>1.261260e+05</td>\n",
       "      <td>126126.000000</td>\n",
       "    </tr>\n",
       "    <tr>\n",
       "      <th>mean</th>\n",
       "      <td>72046.998874</td>\n",
       "      <td>1986.046335</td>\n",
       "      <td>3.275716</td>\n",
       "      <td>55.729602</td>\n",
       "      <td>37.589727</td>\n",
       "      <td>2.739782</td>\n",
       "      <td>247.951334</td>\n",
       "      <td>13.801001</td>\n",
       "      <td>7.290725</td>\n",
       "      <td>8.886292</td>\n",
       "      <td>30.242742</td>\n",
       "      <td>2.077700</td>\n",
       "      <td>58.553906</td>\n",
       "      <td>1.517851e+07</td>\n",
       "      <td>13861.849008</td>\n",
       "    </tr>\n",
       "    <tr>\n",
       "      <th>std</th>\n",
       "      <td>41006.172216</td>\n",
       "      <td>21.774252</td>\n",
       "      <td>1.461175</td>\n",
       "      <td>0.104041</td>\n",
       "      <td>0.152329</td>\n",
       "      <td>0.192629</td>\n",
       "      <td>187.882320</td>\n",
       "      <td>6.066906</td>\n",
       "      <td>5.282128</td>\n",
       "      <td>4.719720</td>\n",
       "      <td>19.908488</td>\n",
       "      <td>0.920803</td>\n",
       "      <td>27.896234</td>\n",
       "      <td>1.210873e+07</td>\n",
       "      <td>6924.106523</td>\n",
       "    </tr>\n",
       "    <tr>\n",
       "      <th>min</th>\n",
       "      <td>0.000000</td>\n",
       "      <td>1901.000000</td>\n",
       "      <td>0.000000</td>\n",
       "      <td>55.211460</td>\n",
       "      <td>36.864372</td>\n",
       "      <td>2.250000</td>\n",
       "      <td>1.000000</td>\n",
       "      <td>1.000000</td>\n",
       "      <td>1.000000</td>\n",
       "      <td>0.000000</td>\n",
       "      <td>0.000000</td>\n",
       "      <td>1.000000</td>\n",
       "      <td>11.000000</td>\n",
       "      <td>6.000000e+05</td>\n",
       "      <td>1.000000</td>\n",
       "    </tr>\n",
       "    <tr>\n",
       "      <th>25%</th>\n",
       "      <td>36639.250000</td>\n",
       "      <td>1969.000000</td>\n",
       "      <td>2.000000</td>\n",
       "      <td>55.652493</td>\n",
       "      <td>37.491108</td>\n",
       "      <td>2.640000</td>\n",
       "      <td>112.000000</td>\n",
       "      <td>9.000000</td>\n",
       "      <td>3.000000</td>\n",
       "      <td>6.200000</td>\n",
       "      <td>19.000000</td>\n",
       "      <td>1.000000</td>\n",
       "      <td>39.000000</td>\n",
       "      <td>8.890000e+06</td>\n",
       "      <td>8443.000000</td>\n",
       "    </tr>\n",
       "    <tr>\n",
       "      <th>50%</th>\n",
       "      <td>73151.500000</td>\n",
       "      <td>1984.000000</td>\n",
       "      <td>4.000000</td>\n",
       "      <td>55.721928</td>\n",
       "      <td>37.581676</td>\n",
       "      <td>2.640000</td>\n",
       "      <td>200.000000</td>\n",
       "      <td>14.000000</td>\n",
       "      <td>6.000000</td>\n",
       "      <td>8.700000</td>\n",
       "      <td>29.400000</td>\n",
       "      <td>2.000000</td>\n",
       "      <td>52.000000</td>\n",
       "      <td>1.160000e+07</td>\n",
       "      <td>14051.000000</td>\n",
       "    </tr>\n",
       "    <tr>\n",
       "      <th>75%</th>\n",
       "      <td>107517.750000</td>\n",
       "      <td>2006.000000</td>\n",
       "      <td>4.000000</td>\n",
       "      <td>55.809364</td>\n",
       "      <td>37.698715</td>\n",
       "      <td>2.800000</td>\n",
       "      <td>321.000000</td>\n",
       "      <td>17.000000</td>\n",
       "      <td>10.000000</td>\n",
       "      <td>10.100000</td>\n",
       "      <td>40.500000</td>\n",
       "      <td>3.000000</td>\n",
       "      <td>69.000000</td>\n",
       "      <td>1.620000e+07</td>\n",
       "      <td>20173.000000</td>\n",
       "    </tr>\n",
       "    <tr>\n",
       "      <th>max</th>\n",
       "      <td>141361.000000</td>\n",
       "      <td>2023.000000</td>\n",
       "      <td>6.000000</td>\n",
       "      <td>56.011032</td>\n",
       "      <td>37.946411</td>\n",
       "      <td>4.600000</td>\n",
       "      <td>1630.000000</td>\n",
       "      <td>40.000000</td>\n",
       "      <td>40.000000</td>\n",
       "      <td>102.000000</td>\n",
       "      <td>300.000000</td>\n",
       "      <td>9.000000</td>\n",
       "      <td>470.000000</td>\n",
       "      <td>9.999999e+07</td>\n",
       "      <td>24620.000000</td>\n",
       "    </tr>\n",
       "  </tbody>\n",
       "</table>\n",
       "</div>"
      ],
      "text/plain": [
       "                  id     build_year  building_type_int       latitude   \n",
       "count  126126.000000  126126.000000      126126.000000  126126.000000  \\\n",
       "mean    72046.998874    1986.046335           3.275716      55.729602   \n",
       "std     41006.172216      21.774252           1.461175       0.104041   \n",
       "min         0.000000    1901.000000           0.000000      55.211460   \n",
       "25%     36639.250000    1969.000000           2.000000      55.652493   \n",
       "50%     73151.500000    1984.000000           4.000000      55.721928   \n",
       "75%    107517.750000    2006.000000           4.000000      55.809364   \n",
       "max    141361.000000    2023.000000           6.000000      56.011032   \n",
       "\n",
       "           longitude  ceiling_height    flats_count   floors_total   \n",
       "count  126126.000000   126126.000000  126126.000000  126126.000000  \\\n",
       "mean       37.589727        2.739782     247.951334      13.801001   \n",
       "std         0.152329        0.192629     187.882320       6.066906   \n",
       "min        36.864372        2.250000       1.000000       1.000000   \n",
       "25%        37.491108        2.640000     112.000000       9.000000   \n",
       "50%        37.581676        2.640000     200.000000      14.000000   \n",
       "75%        37.698715        2.800000     321.000000      17.000000   \n",
       "max        37.946411        4.600000    1630.000000      40.000000   \n",
       "\n",
       "               floor   kitchen_area    living_area          rooms   \n",
       "count  126126.000000  126126.000000  126126.000000  126126.000000  \\\n",
       "mean        7.290725       8.886292      30.242742       2.077700   \n",
       "std         5.282128       4.719720      19.908488       0.920803   \n",
       "min         1.000000       0.000000       0.000000       1.000000   \n",
       "25%         3.000000       6.200000      19.000000       1.000000   \n",
       "50%         6.000000       8.700000      29.400000       2.000000   \n",
       "75%        10.000000      10.100000      40.500000       3.000000   \n",
       "max        40.000000     102.000000     300.000000       9.000000   \n",
       "\n",
       "          total_area         price    building_id  \n",
       "count  126126.000000  1.261260e+05  126126.000000  \n",
       "mean       58.553906  1.517851e+07   13861.849008  \n",
       "std        27.896234  1.210873e+07    6924.106523  \n",
       "min        11.000000  6.000000e+05       1.000000  \n",
       "25%        39.000000  8.890000e+06    8443.000000  \n",
       "50%        52.000000  1.160000e+07   14051.000000  \n",
       "75%        69.000000  1.620000e+07   20173.000000  \n",
       "max       470.000000  9.999999e+07   24620.000000  "
      ]
     },
     "execution_count": 33,
     "metadata": {},
     "output_type": "execute_result"
    }
   ],
   "source": [
    "data_set.describe()"
   ]
  },
  {
   "cell_type": "code",
   "execution_count": 34,
   "id": "f6af5e38",
   "metadata": {},
   "outputs": [
    {
     "data": {
      "text/html": [
       "<div>\n",
       "<style scoped>\n",
       "    .dataframe tbody tr th:only-of-type {\n",
       "        vertical-align: middle;\n",
       "    }\n",
       "\n",
       "    .dataframe tbody tr th {\n",
       "        vertical-align: top;\n",
       "    }\n",
       "\n",
       "    .dataframe thead th {\n",
       "        text-align: right;\n",
       "    }\n",
       "</style>\n",
       "<table border=\"1\" class=\"dataframe\">\n",
       "  <thead>\n",
       "    <tr style=\"text-align: right;\">\n",
       "      <th></th>\n",
       "      <th>build_year</th>\n",
       "      <th>building_type_int</th>\n",
       "      <th>latitude</th>\n",
       "      <th>longitude</th>\n",
       "      <th>ceiling_height</th>\n",
       "      <th>flats_count</th>\n",
       "      <th>floors_total</th>\n",
       "      <th>has_elevator</th>\n",
       "      <th>floor</th>\n",
       "      <th>is_apartment</th>\n",
       "      <th>kitchen_area</th>\n",
       "      <th>living_area</th>\n",
       "      <th>rooms</th>\n",
       "      <th>total_area</th>\n",
       "      <th>price</th>\n",
       "    </tr>\n",
       "  </thead>\n",
       "  <tbody>\n",
       "    <tr>\n",
       "      <th>build_year</th>\n",
       "      <td>1.0</td>\n",
       "      <td>0.0</td>\n",
       "      <td>-0.2</td>\n",
       "      <td>-0.2</td>\n",
       "      <td>0.1</td>\n",
       "      <td>0.4</td>\n",
       "      <td>0.7</td>\n",
       "      <td>0.3</td>\n",
       "      <td>0.4</td>\n",
       "      <td>0.0</td>\n",
       "      <td>0.3</td>\n",
       "      <td>0.0</td>\n",
       "      <td>-0.0</td>\n",
       "      <td>0.2</td>\n",
       "      <td>0.1</td>\n",
       "    </tr>\n",
       "    <tr>\n",
       "      <th>building_type_int</th>\n",
       "      <td>0.0</td>\n",
       "      <td>1.0</td>\n",
       "      <td>-0.0</td>\n",
       "      <td>0.1</td>\n",
       "      <td>-0.5</td>\n",
       "      <td>0.0</td>\n",
       "      <td>0.1</td>\n",
       "      <td>0.2</td>\n",
       "      <td>0.0</td>\n",
       "      <td>-0.0</td>\n",
       "      <td>-0.1</td>\n",
       "      <td>-0.2</td>\n",
       "      <td>-0.2</td>\n",
       "      <td>-0.3</td>\n",
       "      <td>-0.3</td>\n",
       "    </tr>\n",
       "    <tr>\n",
       "      <th>latitude</th>\n",
       "      <td>-0.2</td>\n",
       "      <td>-0.0</td>\n",
       "      <td>1.0</td>\n",
       "      <td>-0.0</td>\n",
       "      <td>-0.0</td>\n",
       "      <td>-0.1</td>\n",
       "      <td>-0.1</td>\n",
       "      <td>-0.0</td>\n",
       "      <td>-0.0</td>\n",
       "      <td>0.0</td>\n",
       "      <td>-0.1</td>\n",
       "      <td>0.0</td>\n",
       "      <td>0.0</td>\n",
       "      <td>-0.0</td>\n",
       "      <td>0.0</td>\n",
       "    </tr>\n",
       "    <tr>\n",
       "      <th>longitude</th>\n",
       "      <td>-0.2</td>\n",
       "      <td>0.1</td>\n",
       "      <td>-0.0</td>\n",
       "      <td>1.0</td>\n",
       "      <td>-0.1</td>\n",
       "      <td>-0.1</td>\n",
       "      <td>-0.1</td>\n",
       "      <td>-0.0</td>\n",
       "      <td>-0.1</td>\n",
       "      <td>-0.0</td>\n",
       "      <td>-0.1</td>\n",
       "      <td>-0.0</td>\n",
       "      <td>-0.0</td>\n",
       "      <td>-0.1</td>\n",
       "      <td>-0.1</td>\n",
       "    </tr>\n",
       "    <tr>\n",
       "      <th>ceiling_height</th>\n",
       "      <td>0.1</td>\n",
       "      <td>-0.5</td>\n",
       "      <td>-0.0</td>\n",
       "      <td>-0.1</td>\n",
       "      <td>1.0</td>\n",
       "      <td>0.0</td>\n",
       "      <td>0.1</td>\n",
       "      <td>0.0</td>\n",
       "      <td>0.1</td>\n",
       "      <td>0.1</td>\n",
       "      <td>0.3</td>\n",
       "      <td>0.2</td>\n",
       "      <td>0.2</td>\n",
       "      <td>0.5</td>\n",
       "      <td>0.5</td>\n",
       "    </tr>\n",
       "    <tr>\n",
       "      <th>flats_count</th>\n",
       "      <td>0.4</td>\n",
       "      <td>0.0</td>\n",
       "      <td>-0.1</td>\n",
       "      <td>-0.1</td>\n",
       "      <td>0.0</td>\n",
       "      <td>1.0</td>\n",
       "      <td>0.4</td>\n",
       "      <td>0.2</td>\n",
       "      <td>0.2</td>\n",
       "      <td>-0.0</td>\n",
       "      <td>0.1</td>\n",
       "      <td>-0.0</td>\n",
       "      <td>-0.0</td>\n",
       "      <td>0.0</td>\n",
       "      <td>-0.0</td>\n",
       "    </tr>\n",
       "    <tr>\n",
       "      <th>floors_total</th>\n",
       "      <td>0.7</td>\n",
       "      <td>0.1</td>\n",
       "      <td>-0.1</td>\n",
       "      <td>-0.1</td>\n",
       "      <td>0.1</td>\n",
       "      <td>0.4</td>\n",
       "      <td>1.0</td>\n",
       "      <td>0.4</td>\n",
       "      <td>0.6</td>\n",
       "      <td>0.0</td>\n",
       "      <td>0.3</td>\n",
       "      <td>0.1</td>\n",
       "      <td>0.0</td>\n",
       "      <td>0.2</td>\n",
       "      <td>0.2</td>\n",
       "    </tr>\n",
       "    <tr>\n",
       "      <th>has_elevator</th>\n",
       "      <td>0.3</td>\n",
       "      <td>0.2</td>\n",
       "      <td>-0.0</td>\n",
       "      <td>-0.0</td>\n",
       "      <td>0.0</td>\n",
       "      <td>0.2</td>\n",
       "      <td>0.4</td>\n",
       "      <td>1.0</td>\n",
       "      <td>0.2</td>\n",
       "      <td>0.0</td>\n",
       "      <td>0.1</td>\n",
       "      <td>0.0</td>\n",
       "      <td>0.0</td>\n",
       "      <td>0.1</td>\n",
       "      <td>0.0</td>\n",
       "    </tr>\n",
       "    <tr>\n",
       "      <th>floor</th>\n",
       "      <td>0.4</td>\n",
       "      <td>0.0</td>\n",
       "      <td>-0.0</td>\n",
       "      <td>-0.1</td>\n",
       "      <td>0.1</td>\n",
       "      <td>0.2</td>\n",
       "      <td>0.6</td>\n",
       "      <td>0.2</td>\n",
       "      <td>1.0</td>\n",
       "      <td>0.0</td>\n",
       "      <td>0.2</td>\n",
       "      <td>0.1</td>\n",
       "      <td>0.0</td>\n",
       "      <td>0.2</td>\n",
       "      <td>0.1</td>\n",
       "    </tr>\n",
       "    <tr>\n",
       "      <th>is_apartment</th>\n",
       "      <td>0.0</td>\n",
       "      <td>-0.0</td>\n",
       "      <td>0.0</td>\n",
       "      <td>-0.0</td>\n",
       "      <td>0.1</td>\n",
       "      <td>-0.0</td>\n",
       "      <td>0.0</td>\n",
       "      <td>0.0</td>\n",
       "      <td>0.0</td>\n",
       "      <td>1.0</td>\n",
       "      <td>0.0</td>\n",
       "      <td>-0.0</td>\n",
       "      <td>-0.0</td>\n",
       "      <td>0.0</td>\n",
       "      <td>0.0</td>\n",
       "    </tr>\n",
       "    <tr>\n",
       "      <th>kitchen_area</th>\n",
       "      <td>0.3</td>\n",
       "      <td>-0.1</td>\n",
       "      <td>-0.1</td>\n",
       "      <td>-0.1</td>\n",
       "      <td>0.3</td>\n",
       "      <td>0.1</td>\n",
       "      <td>0.3</td>\n",
       "      <td>0.1</td>\n",
       "      <td>0.2</td>\n",
       "      <td>0.0</td>\n",
       "      <td>1.0</td>\n",
       "      <td>0.4</td>\n",
       "      <td>0.2</td>\n",
       "      <td>0.4</td>\n",
       "      <td>0.3</td>\n",
       "    </tr>\n",
       "    <tr>\n",
       "      <th>living_area</th>\n",
       "      <td>0.0</td>\n",
       "      <td>-0.2</td>\n",
       "      <td>0.0</td>\n",
       "      <td>-0.0</td>\n",
       "      <td>0.2</td>\n",
       "      <td>-0.0</td>\n",
       "      <td>0.1</td>\n",
       "      <td>0.0</td>\n",
       "      <td>0.1</td>\n",
       "      <td>-0.0</td>\n",
       "      <td>0.4</td>\n",
       "      <td>1.0</td>\n",
       "      <td>0.6</td>\n",
       "      <td>0.7</td>\n",
       "      <td>0.5</td>\n",
       "    </tr>\n",
       "    <tr>\n",
       "      <th>rooms</th>\n",
       "      <td>-0.0</td>\n",
       "      <td>-0.2</td>\n",
       "      <td>0.0</td>\n",
       "      <td>-0.0</td>\n",
       "      <td>0.2</td>\n",
       "      <td>-0.0</td>\n",
       "      <td>0.0</td>\n",
       "      <td>0.0</td>\n",
       "      <td>0.0</td>\n",
       "      <td>-0.0</td>\n",
       "      <td>0.2</td>\n",
       "      <td>0.6</td>\n",
       "      <td>1.0</td>\n",
       "      <td>0.8</td>\n",
       "      <td>0.5</td>\n",
       "    </tr>\n",
       "    <tr>\n",
       "      <th>total_area</th>\n",
       "      <td>0.2</td>\n",
       "      <td>-0.3</td>\n",
       "      <td>-0.0</td>\n",
       "      <td>-0.1</td>\n",
       "      <td>0.5</td>\n",
       "      <td>0.0</td>\n",
       "      <td>0.2</td>\n",
       "      <td>0.1</td>\n",
       "      <td>0.2</td>\n",
       "      <td>0.0</td>\n",
       "      <td>0.4</td>\n",
       "      <td>0.7</td>\n",
       "      <td>0.8</td>\n",
       "      <td>1.0</td>\n",
       "      <td>0.8</td>\n",
       "    </tr>\n",
       "    <tr>\n",
       "      <th>price</th>\n",
       "      <td>0.1</td>\n",
       "      <td>-0.3</td>\n",
       "      <td>0.0</td>\n",
       "      <td>-0.1</td>\n",
       "      <td>0.5</td>\n",
       "      <td>-0.0</td>\n",
       "      <td>0.2</td>\n",
       "      <td>0.0</td>\n",
       "      <td>0.1</td>\n",
       "      <td>0.0</td>\n",
       "      <td>0.3</td>\n",
       "      <td>0.5</td>\n",
       "      <td>0.5</td>\n",
       "      <td>0.8</td>\n",
       "      <td>1.0</td>\n",
       "    </tr>\n",
       "  </tbody>\n",
       "</table>\n",
       "</div>"
      ],
      "text/plain": [
       "                   build_year  building_type_int  latitude  longitude   \n",
       "build_year                1.0                0.0      -0.2       -0.2  \\\n",
       "building_type_int         0.0                1.0      -0.0        0.1   \n",
       "latitude                 -0.2               -0.0       1.0       -0.0   \n",
       "longitude                -0.2                0.1      -0.0        1.0   \n",
       "ceiling_height            0.1               -0.5      -0.0       -0.1   \n",
       "flats_count               0.4                0.0      -0.1       -0.1   \n",
       "floors_total              0.7                0.1      -0.1       -0.1   \n",
       "has_elevator              0.3                0.2      -0.0       -0.0   \n",
       "floor                     0.4                0.0      -0.0       -0.1   \n",
       "is_apartment              0.0               -0.0       0.0       -0.0   \n",
       "kitchen_area              0.3               -0.1      -0.1       -0.1   \n",
       "living_area               0.0               -0.2       0.0       -0.0   \n",
       "rooms                    -0.0               -0.2       0.0       -0.0   \n",
       "total_area                0.2               -0.3      -0.0       -0.1   \n",
       "price                     0.1               -0.3       0.0       -0.1   \n",
       "\n",
       "                   ceiling_height  flats_count  floors_total  has_elevator   \n",
       "build_year                    0.1          0.4           0.7           0.3  \\\n",
       "building_type_int            -0.5          0.0           0.1           0.2   \n",
       "latitude                     -0.0         -0.1          -0.1          -0.0   \n",
       "longitude                    -0.1         -0.1          -0.1          -0.0   \n",
       "ceiling_height                1.0          0.0           0.1           0.0   \n",
       "flats_count                   0.0          1.0           0.4           0.2   \n",
       "floors_total                  0.1          0.4           1.0           0.4   \n",
       "has_elevator                  0.0          0.2           0.4           1.0   \n",
       "floor                         0.1          0.2           0.6           0.2   \n",
       "is_apartment                  0.1         -0.0           0.0           0.0   \n",
       "kitchen_area                  0.3          0.1           0.3           0.1   \n",
       "living_area                   0.2         -0.0           0.1           0.0   \n",
       "rooms                         0.2         -0.0           0.0           0.0   \n",
       "total_area                    0.5          0.0           0.2           0.1   \n",
       "price                         0.5         -0.0           0.2           0.0   \n",
       "\n",
       "                   floor  is_apartment  kitchen_area  living_area  rooms   \n",
       "build_year           0.4           0.0           0.3          0.0   -0.0  \\\n",
       "building_type_int    0.0          -0.0          -0.1         -0.2   -0.2   \n",
       "latitude            -0.0           0.0          -0.1          0.0    0.0   \n",
       "longitude           -0.1          -0.0          -0.1         -0.0   -0.0   \n",
       "ceiling_height       0.1           0.1           0.3          0.2    0.2   \n",
       "flats_count          0.2          -0.0           0.1         -0.0   -0.0   \n",
       "floors_total         0.6           0.0           0.3          0.1    0.0   \n",
       "has_elevator         0.2           0.0           0.1          0.0    0.0   \n",
       "floor                1.0           0.0           0.2          0.1    0.0   \n",
       "is_apartment         0.0           1.0           0.0         -0.0   -0.0   \n",
       "kitchen_area         0.2           0.0           1.0          0.4    0.2   \n",
       "living_area          0.1          -0.0           0.4          1.0    0.6   \n",
       "rooms                0.0          -0.0           0.2          0.6    1.0   \n",
       "total_area           0.2           0.0           0.4          0.7    0.8   \n",
       "price                0.1           0.0           0.3          0.5    0.5   \n",
       "\n",
       "                   total_area  price  \n",
       "build_year                0.2    0.1  \n",
       "building_type_int        -0.3   -0.3  \n",
       "latitude                 -0.0    0.0  \n",
       "longitude                -0.1   -0.1  \n",
       "ceiling_height            0.5    0.5  \n",
       "flats_count               0.0   -0.0  \n",
       "floors_total              0.2    0.2  \n",
       "has_elevator              0.1    0.0  \n",
       "floor                     0.2    0.1  \n",
       "is_apartment              0.0    0.0  \n",
       "kitchen_area              0.4    0.3  \n",
       "living_area               0.7    0.5  \n",
       "rooms                     0.8    0.5  \n",
       "total_area                1.0    0.8  \n",
       "price                     0.8    1.0  "
      ]
     },
     "execution_count": 34,
     "metadata": {},
     "output_type": "execute_result"
    }
   ],
   "source": [
    "#признаки VS целевая переменная\n",
    "#смотрю корреляцию признаков и целевой переменной\n",
    "data_set_corr=data_set.drop(columns=['id','building_id','studio'])\n",
    "correlation_matrix=data_set_corr.corr()\n",
    "round(correlation_matrix,1)\n",
    "\n",
    "#выводы\n",
    "#цена положительно зависит от площади, от количества комнат, от размера потолка и слабо отрицательно от количества квартир в доме\n",
    "#наличие лифта, этажность, признак апартаментов почти не влияют на цену\n",
    "#зависимость между признаками\n",
    "#год постройки дома и этажность и количества квартир связаны положительно, в новых домах больше квартир и этажей\n",
    "#положительно связаны высота потолков и площадь (в больших метрах более комфортные условия - возможно выше классом)\n",
    "#очевидно связаны этажность и наличие лифта\n",
    "#апартаменты появляются в более новых домах\n",
    "\n",
    "\n",
    "#важно\n",
    "#тип квартиры - надо исследовать отдельно\n",
    "#геоданные - надо исследовать отдельно\n"
   ]
  },
  {
   "cell_type": "code",
   "execution_count": 35,
   "id": "b8d34e78",
   "metadata": {},
   "outputs": [
    {
     "data": {
      "text/html": [
       "<div>\n",
       "<style scoped>\n",
       "    .dataframe tbody tr th:only-of-type {\n",
       "        vertical-align: middle;\n",
       "    }\n",
       "\n",
       "    .dataframe tbody tr th {\n",
       "        vertical-align: top;\n",
       "    }\n",
       "\n",
       "    .dataframe thead th {\n",
       "        text-align: right;\n",
       "    }\n",
       "</style>\n",
       "<table border=\"1\" class=\"dataframe\">\n",
       "  <thead>\n",
       "    <tr style=\"text-align: right;\">\n",
       "      <th></th>\n",
       "      <th>building_type_int</th>\n",
       "      <th>price_krur</th>\n",
       "    </tr>\n",
       "  </thead>\n",
       "  <tbody>\n",
       "    <tr>\n",
       "      <th>0</th>\n",
       "      <td>0</td>\n",
       "      <td>19650.266065</td>\n",
       "    </tr>\n",
       "    <tr>\n",
       "      <th>1</th>\n",
       "      <td>1</td>\n",
       "      <td>18961.183118</td>\n",
       "    </tr>\n",
       "    <tr>\n",
       "      <th>2</th>\n",
       "      <td>2</td>\n",
       "      <td>25005.699428</td>\n",
       "    </tr>\n",
       "    <tr>\n",
       "      <th>3</th>\n",
       "      <td>3</td>\n",
       "      <td>32092.982178</td>\n",
       "    </tr>\n",
       "    <tr>\n",
       "      <th>4</th>\n",
       "      <td>4</td>\n",
       "      <td>11599.258210</td>\n",
       "    </tr>\n",
       "    <tr>\n",
       "      <th>5</th>\n",
       "      <td>5</td>\n",
       "      <td>8150.000000</td>\n",
       "    </tr>\n",
       "    <tr>\n",
       "      <th>6</th>\n",
       "      <td>6</td>\n",
       "      <td>10548.118706</td>\n",
       "    </tr>\n",
       "  </tbody>\n",
       "</table>\n",
       "</div>"
      ],
      "text/plain": [
       "   building_type_int    price_krur\n",
       "0                  0  19650.266065\n",
       "1                  1  18961.183118\n",
       "2                  2  25005.699428\n",
       "3                  3  32092.982178\n",
       "4                  4  11599.258210\n",
       "5                  5   8150.000000\n",
       "6                  6  10548.118706"
      ]
     },
     "execution_count": 35,
     "metadata": {},
     "output_type": "execute_result"
    }
   ],
   "source": [
    "#посмотрим на тип дома и средние цены объявлений\n",
    "\n",
    "data_set['price_krur']=data_set['price']/1000\n",
    "\n",
    "agg_ds=data_set.groupby('building_type_int').agg({'price_krur':'mean'}).reset_index()\n",
    "\n",
    "agg_ds\n",
    "#есть прям дорогой тип 3"
   ]
  },
  {
   "cell_type": "code",
   "execution_count": 36,
   "id": "9db1352e",
   "metadata": {},
   "outputs": [
    {
     "data": {
      "text/html": [
       "<div>\n",
       "<style scoped>\n",
       "    .dataframe tbody tr th:only-of-type {\n",
       "        vertical-align: middle;\n",
       "    }\n",
       "\n",
       "    .dataframe tbody tr th {\n",
       "        vertical-align: top;\n",
       "    }\n",
       "\n",
       "    .dataframe thead th {\n",
       "        text-align: right;\n",
       "    }\n",
       "</style>\n",
       "<table border=\"1\" class=\"dataframe\">\n",
       "  <thead>\n",
       "    <tr style=\"text-align: right;\">\n",
       "      <th></th>\n",
       "      <th>id</th>\n",
       "      <th>build_year</th>\n",
       "      <th>building_type_int</th>\n",
       "      <th>latitude</th>\n",
       "      <th>longitude</th>\n",
       "      <th>ceiling_height</th>\n",
       "      <th>flats_count</th>\n",
       "      <th>floors_total</th>\n",
       "      <th>floor</th>\n",
       "      <th>kitchen_area</th>\n",
       "      <th>living_area</th>\n",
       "      <th>rooms</th>\n",
       "      <th>total_area</th>\n",
       "      <th>price</th>\n",
       "      <th>building_id</th>\n",
       "      <th>price_krur</th>\n",
       "    </tr>\n",
       "  </thead>\n",
       "  <tbody>\n",
       "    <tr>\n",
       "      <th>count</th>\n",
       "      <td>1013.000000</td>\n",
       "      <td>1013.000000</td>\n",
       "      <td>1013.0</td>\n",
       "      <td>1013.000000</td>\n",
       "      <td>1013.000000</td>\n",
       "      <td>1013.000000</td>\n",
       "      <td>1013.000000</td>\n",
       "      <td>1013.000000</td>\n",
       "      <td>1013.000000</td>\n",
       "      <td>1013.000000</td>\n",
       "      <td>1013.000000</td>\n",
       "      <td>1013.000000</td>\n",
       "      <td>1013.000000</td>\n",
       "      <td>1.013000e+03</td>\n",
       "      <td>1013.000000</td>\n",
       "      <td>1013.000000</td>\n",
       "    </tr>\n",
       "    <tr>\n",
       "      <th>mean</th>\n",
       "      <td>77026.269497</td>\n",
       "      <td>2011.337611</td>\n",
       "      <td>3.0</td>\n",
       "      <td>55.702429</td>\n",
       "      <td>37.500757</td>\n",
       "      <td>2.996515</td>\n",
       "      <td>337.023692</td>\n",
       "      <td>18.796644</td>\n",
       "      <td>10.382034</td>\n",
       "      <td>11.811935</td>\n",
       "      <td>42.712307</td>\n",
       "      <td>2.541955</td>\n",
       "      <td>98.506407</td>\n",
       "      <td>3.209298e+07</td>\n",
       "      <td>21884.691017</td>\n",
       "      <td>32092.982178</td>\n",
       "    </tr>\n",
       "    <tr>\n",
       "      <th>std</th>\n",
       "      <td>40158.588411</td>\n",
       "      <td>7.106790</td>\n",
       "      <td>0.0</td>\n",
       "      <td>0.103246</td>\n",
       "      <td>0.160435</td>\n",
       "      <td>0.169804</td>\n",
       "      <td>273.051226</td>\n",
       "      <td>10.781522</td>\n",
       "      <td>8.672520</td>\n",
       "      <td>9.818336</td>\n",
       "      <td>38.433423</td>\n",
       "      <td>1.069459</td>\n",
       "      <td>46.684460</td>\n",
       "      <td>2.350390e+07</td>\n",
       "      <td>2516.090195</td>\n",
       "      <td>23503.904341</td>\n",
       "    </tr>\n",
       "    <tr>\n",
       "      <th>min</th>\n",
       "      <td>25.000000</td>\n",
       "      <td>1959.000000</td>\n",
       "      <td>3.0</td>\n",
       "      <td>55.467682</td>\n",
       "      <td>37.151428</td>\n",
       "      <td>2.480000</td>\n",
       "      <td>10.000000</td>\n",
       "      <td>3.000000</td>\n",
       "      <td>1.000000</td>\n",
       "      <td>0.000000</td>\n",
       "      <td>0.000000</td>\n",
       "      <td>1.000000</td>\n",
       "      <td>29.900000</td>\n",
       "      <td>3.985875e+06</td>\n",
       "      <td>2933.000000</td>\n",
       "      <td>3985.875000</td>\n",
       "    </tr>\n",
       "    <tr>\n",
       "      <th>25%</th>\n",
       "      <td>46159.000000</td>\n",
       "      <td>2008.000000</td>\n",
       "      <td>3.0</td>\n",
       "      <td>55.614487</td>\n",
       "      <td>37.467327</td>\n",
       "      <td>3.000000</td>\n",
       "      <td>124.000000</td>\n",
       "      <td>9.000000</td>\n",
       "      <td>4.000000</td>\n",
       "      <td>0.000000</td>\n",
       "      <td>0.000000</td>\n",
       "      <td>2.000000</td>\n",
       "      <td>65.000000</td>\n",
       "      <td>1.280000e+07</td>\n",
       "      <td>20940.000000</td>\n",
       "      <td>12800.000000</td>\n",
       "    </tr>\n",
       "    <tr>\n",
       "      <th>50%</th>\n",
       "      <td>82166.000000</td>\n",
       "      <td>2015.000000</td>\n",
       "      <td>3.0</td>\n",
       "      <td>55.714626</td>\n",
       "      <td>37.516010</td>\n",
       "      <td>3.000000</td>\n",
       "      <td>297.000000</td>\n",
       "      <td>17.000000</td>\n",
       "      <td>8.000000</td>\n",
       "      <td>12.000000</td>\n",
       "      <td>39.000000</td>\n",
       "      <td>3.000000</td>\n",
       "      <td>95.300003</td>\n",
       "      <td>2.450000e+07</td>\n",
       "      <td>23120.000000</td>\n",
       "      <td>24500.000000</td>\n",
       "    </tr>\n",
       "    <tr>\n",
       "      <th>75%</th>\n",
       "      <td>112152.000000</td>\n",
       "      <td>2015.000000</td>\n",
       "      <td>3.0</td>\n",
       "      <td>55.774426</td>\n",
       "      <td>37.653236</td>\n",
       "      <td>3.000000</td>\n",
       "      <td>461.000000</td>\n",
       "      <td>25.000000</td>\n",
       "      <td>14.000000</td>\n",
       "      <td>16.000000</td>\n",
       "      <td>67.000000</td>\n",
       "      <td>3.000000</td>\n",
       "      <td>125.000000</td>\n",
       "      <td>4.560000e+07</td>\n",
       "      <td>23137.000000</td>\n",
       "      <td>45600.000000</td>\n",
       "    </tr>\n",
       "    <tr>\n",
       "      <th>max</th>\n",
       "      <td>140653.000000</td>\n",
       "      <td>2019.000000</td>\n",
       "      <td>3.0</td>\n",
       "      <td>55.852375</td>\n",
       "      <td>37.805840</td>\n",
       "      <td>3.800000</td>\n",
       "      <td>827.000000</td>\n",
       "      <td>40.000000</td>\n",
       "      <td>37.000000</td>\n",
       "      <td>60.000000</td>\n",
       "      <td>230.000000</td>\n",
       "      <td>8.000000</td>\n",
       "      <td>376.000000</td>\n",
       "      <td>9.950194e+07</td>\n",
       "      <td>24475.000000</td>\n",
       "      <td>99501.936000</td>\n",
       "    </tr>\n",
       "  </tbody>\n",
       "</table>\n",
       "</div>"
      ],
      "text/plain": [
       "                  id   build_year  building_type_int     latitude   \n",
       "count    1013.000000  1013.000000             1013.0  1013.000000  \\\n",
       "mean    77026.269497  2011.337611                3.0    55.702429   \n",
       "std     40158.588411     7.106790                0.0     0.103246   \n",
       "min        25.000000  1959.000000                3.0    55.467682   \n",
       "25%     46159.000000  2008.000000                3.0    55.614487   \n",
       "50%     82166.000000  2015.000000                3.0    55.714626   \n",
       "75%    112152.000000  2015.000000                3.0    55.774426   \n",
       "max    140653.000000  2019.000000                3.0    55.852375   \n",
       "\n",
       "         longitude  ceiling_height  flats_count  floors_total        floor   \n",
       "count  1013.000000     1013.000000  1013.000000   1013.000000  1013.000000  \\\n",
       "mean     37.500757        2.996515   337.023692     18.796644    10.382034   \n",
       "std       0.160435        0.169804   273.051226     10.781522     8.672520   \n",
       "min      37.151428        2.480000    10.000000      3.000000     1.000000   \n",
       "25%      37.467327        3.000000   124.000000      9.000000     4.000000   \n",
       "50%      37.516010        3.000000   297.000000     17.000000     8.000000   \n",
       "75%      37.653236        3.000000   461.000000     25.000000    14.000000   \n",
       "max      37.805840        3.800000   827.000000     40.000000    37.000000   \n",
       "\n",
       "       kitchen_area  living_area        rooms   total_area         price   \n",
       "count   1013.000000  1013.000000  1013.000000  1013.000000  1.013000e+03  \\\n",
       "mean      11.811935    42.712307     2.541955    98.506407  3.209298e+07   \n",
       "std        9.818336    38.433423     1.069459    46.684460  2.350390e+07   \n",
       "min        0.000000     0.000000     1.000000    29.900000  3.985875e+06   \n",
       "25%        0.000000     0.000000     2.000000    65.000000  1.280000e+07   \n",
       "50%       12.000000    39.000000     3.000000    95.300003  2.450000e+07   \n",
       "75%       16.000000    67.000000     3.000000   125.000000  4.560000e+07   \n",
       "max       60.000000   230.000000     8.000000   376.000000  9.950194e+07   \n",
       "\n",
       "        building_id    price_krur  \n",
       "count   1013.000000   1013.000000  \n",
       "mean   21884.691017  32092.982178  \n",
       "std     2516.090195  23503.904341  \n",
       "min     2933.000000   3985.875000  \n",
       "25%    20940.000000  12800.000000  \n",
       "50%    23120.000000  24500.000000  \n",
       "75%    23137.000000  45600.000000  \n",
       "max    24475.000000  99501.936000  "
      ]
     },
     "execution_count": 36,
     "metadata": {},
     "output_type": "execute_result"
    }
   ],
   "source": [
    "data_set.query('building_type_int==3').describe()\n",
    "\n",
    "#это новые здания 2010 год\n",
    "#потолки около 3 метров\n",
    "#относительно мало квартир и небольшая этажность\n",
    "#большие площади"
   ]
  },
  {
   "cell_type": "code",
   "execution_count": 37,
   "id": "af8401cb",
   "metadata": {},
   "outputs": [
    {
     "data": {
      "text/plain": [
       "<Axes: xlabel='building_type_int', ylabel='price_krur'>"
      ]
     },
     "execution_count": 37,
     "metadata": {},
     "output_type": "execute_result"
    },
    {
     "data": {
      "image/png": "[encoded data removed]",
      "text/plain": [
       "<Figure size 1200x200 with 1 Axes>"
      ]
     },
     "metadata": {},
     "output_type": "display_data"
    }
   ],
   "source": [
    "#добавим визуализацию\n",
    "plt.figure(figsize=(12, 2))\n",
    "import seaborn as sns\n",
    "sns.barplot(data=agg_ds,y='price_krur',x='building_type_int')\n",
    "\n",
    "\n",
    "#явно выделяется тип 3 - может быть полезно"
   ]
  },
  {
   "cell_type": "code",
   "execution_count": 38,
   "id": "b377479d",
   "metadata": {},
   "outputs": [
    {
     "name": "stderr",
     "output_type": "stream",
     "text": [
      "/home/mle-user/mle_projects/mle-project-sprint-2/.venv_project_sprint2/lib/python3.10/site-packages/sklearn/preprocessing/_discretization.py:248: FutureWarning: In version 1.5 onwards, subsample=200_000 will be used by default. Set subsample explicitly to silence this warning in the mean time. Set subsample=None to disable subsampling explicitly.\n",
      "  warnings.warn(\n"
     ]
    },
    {
     "data": {
      "text/html": [
       "<div>\n",
       "<style scoped>\n",
       "    .dataframe tbody tr th:only-of-type {\n",
       "        vertical-align: middle;\n",
       "    }\n",
       "\n",
       "    .dataframe tbody tr th {\n",
       "        vertical-align: top;\n",
       "    }\n",
       "\n",
       "    .dataframe thead th {\n",
       "        text-align: right;\n",
       "    }\n",
       "</style>\n",
       "<table border=\"1\" class=\"dataframe\">\n",
       "  <thead>\n",
       "    <tr style=\"text-align: right;\">\n",
       "      <th></th>\n",
       "      <th>0</th>\n",
       "      <th>1</th>\n",
       "    </tr>\n",
       "  </thead>\n",
       "  <tbody>\n",
       "    <tr>\n",
       "      <th>building_type_int_0</th>\n",
       "      <td>0.0</td>\n",
       "      <td>0.0</td>\n",
       "    </tr>\n",
       "    <tr>\n",
       "      <th>building_type_int_1</th>\n",
       "      <td>0.0</td>\n",
       "      <td>0.0</td>\n",
       "    </tr>\n",
       "    <tr>\n",
       "      <th>building_type_int_2</th>\n",
       "      <td>0.0</td>\n",
       "      <td>1.0</td>\n",
       "    </tr>\n",
       "    <tr>\n",
       "      <th>building_type_int_3</th>\n",
       "      <td>0.0</td>\n",
       "      <td>0.0</td>\n",
       "    </tr>\n",
       "    <tr>\n",
       "      <th>building_type_int_4</th>\n",
       "      <td>0.0</td>\n",
       "      <td>0.0</td>\n",
       "    </tr>\n",
       "    <tr>\n",
       "      <th>building_type_int_5</th>\n",
       "      <td>0.0</td>\n",
       "      <td>0.0</td>\n",
       "    </tr>\n",
       "    <tr>\n",
       "      <th>building_type_int_6</th>\n",
       "      <td>1.0</td>\n",
       "      <td>0.0</td>\n",
       "    </tr>\n",
       "    <tr>\n",
       "      <th>latitude</th>\n",
       "      <td>6.0</td>\n",
       "      <td>7.0</td>\n",
       "    </tr>\n",
       "    <tr>\n",
       "      <th>longitude</th>\n",
       "      <td>8.0</td>\n",
       "      <td>6.0</td>\n",
       "    </tr>\n",
       "    <tr>\n",
       "      <th>id</th>\n",
       "      <td>0</td>\n",
       "      <td>1</td>\n",
       "    </tr>\n",
       "    <tr>\n",
       "      <th>build_year</th>\n",
       "      <td>1965</td>\n",
       "      <td>2001</td>\n",
       "    </tr>\n",
       "    <tr>\n",
       "      <th>ceiling_height</th>\n",
       "      <td>2.64</td>\n",
       "      <td>3.0</td>\n",
       "    </tr>\n",
       "    <tr>\n",
       "      <th>flats_count</th>\n",
       "      <td>84</td>\n",
       "      <td>97</td>\n",
       "    </tr>\n",
       "    <tr>\n",
       "      <th>floors_total</th>\n",
       "      <td>12</td>\n",
       "      <td>10</td>\n",
       "    </tr>\n",
       "    <tr>\n",
       "      <th>has_elevator</th>\n",
       "      <td>True</td>\n",
       "      <td>True</td>\n",
       "    </tr>\n",
       "    <tr>\n",
       "      <th>floor</th>\n",
       "      <td>9</td>\n",
       "      <td>7</td>\n",
       "    </tr>\n",
       "    <tr>\n",
       "      <th>is_apartment</th>\n",
       "      <td>False</td>\n",
       "      <td>False</td>\n",
       "    </tr>\n",
       "    <tr>\n",
       "      <th>kitchen_area</th>\n",
       "      <td>9.9</td>\n",
       "      <td>0.0</td>\n",
       "    </tr>\n",
       "    <tr>\n",
       "      <th>living_area</th>\n",
       "      <td>19.9</td>\n",
       "      <td>16.6</td>\n",
       "    </tr>\n",
       "    <tr>\n",
       "      <th>rooms</th>\n",
       "      <td>1</td>\n",
       "      <td>1</td>\n",
       "    </tr>\n",
       "    <tr>\n",
       "      <th>studio</th>\n",
       "      <td>False</td>\n",
       "      <td>False</td>\n",
       "    </tr>\n",
       "    <tr>\n",
       "      <th>total_area</th>\n",
       "      <td>35.099998</td>\n",
       "      <td>43.0</td>\n",
       "    </tr>\n",
       "    <tr>\n",
       "      <th>price</th>\n",
       "      <td>9500000</td>\n",
       "      <td>13500000</td>\n",
       "    </tr>\n",
       "    <tr>\n",
       "      <th>building_id</th>\n",
       "      <td>6220</td>\n",
       "      <td>18012</td>\n",
       "    </tr>\n",
       "    <tr>\n",
       "      <th>price_krur</th>\n",
       "      <td>9500.0</td>\n",
       "      <td>13500.0</td>\n",
       "    </tr>\n",
       "  </tbody>\n",
       "</table>\n",
       "</div>"
      ],
      "text/plain": [
       "                             0         1\n",
       "building_type_int_0        0.0       0.0\n",
       "building_type_int_1        0.0       0.0\n",
       "building_type_int_2        0.0       1.0\n",
       "building_type_int_3        0.0       0.0\n",
       "building_type_int_4        0.0       0.0\n",
       "building_type_int_5        0.0       0.0\n",
       "building_type_int_6        1.0       0.0\n",
       "latitude                   6.0       7.0\n",
       "longitude                  8.0       6.0\n",
       "id                           0         1\n",
       "build_year                1965      2001\n",
       "ceiling_height            2.64       3.0\n",
       "flats_count                 84        97\n",
       "floors_total                12        10\n",
       "has_elevator              True      True\n",
       "floor                        9         7\n",
       "is_apartment             False     False\n",
       "kitchen_area               9.9       0.0\n",
       "living_area               19.9      16.6\n",
       "rooms                        1         1\n",
       "studio                   False     False\n",
       "total_area           35.099998      43.0\n",
       "price                  9500000  13500000\n",
       "building_id               6220     18012\n",
       "price_krur              9500.0   13500.0"
      ]
     },
     "execution_count": 38,
     "metadata": {},
     "output_type": "execute_result"
    }
   ],
   "source": [
    "#теперь разберемся с гео признаками, для этого надо закодировать их\n",
    "# тип здания onehot encoder\n",
    "\n",
    "territory_features=data_set[['latitude','longitude']]\n",
    "building_type_feature=data_set[['building_type_int']]\n",
    "\n",
    "#Объединяем трансформации\n",
    "from sklearn.compose import ColumnTransformer\n",
    "from sklearn.preprocessing import OneHotEncoder,KBinsDiscretizer\n",
    "\n",
    "building_type_cols = building_type_feature.columns.tolist()\n",
    "territory_cols=territory_features.columns.tolist()\n",
    "\n",
    "# определите список трансформаций в рамках ColumnTransformer\n",
    "preprocessor = ColumnTransformer(\n",
    "[('build_type',OneHotEncoder(),building_type_cols),\n",
    " ('geo',KBinsDiscretizer(n_bins=10, encode='ordinal', strategy='uniform'),territory_cols)],verbose_feature_names_out=False,remainder='passthrough'\n",
    ")\n",
    "\n",
    "# трансформируйте исходные данные data с помощью созданного preprocessor\n",
    "data_transformed = preprocessor.fit_transform(data_set,data_set['price'])\n",
    "data_transformed=pd.DataFrame(data_transformed, columns=preprocessor.get_feature_names_out())\n",
    "data_transformed.head(2).T"
   ]
  },
  {
   "cell_type": "code",
   "execution_count": 39,
   "id": "dd7709d3",
   "metadata": {},
   "outputs": [
    {
     "data": {
      "text/html": [
       "<div>\n",
       "<style scoped>\n",
       "    .dataframe tbody tr th:only-of-type {\n",
       "        vertical-align: middle;\n",
       "    }\n",
       "\n",
       "    .dataframe tbody tr th {\n",
       "        vertical-align: top;\n",
       "    }\n",
       "\n",
       "    .dataframe thead th {\n",
       "        text-align: right;\n",
       "    }\n",
       "</style>\n",
       "<table border=\"1\" class=\"dataframe\">\n",
       "  <thead>\n",
       "    <tr style=\"text-align: right;\">\n",
       "      <th></th>\n",
       "      <th>latitude</th>\n",
       "      <th>longitude</th>\n",
       "      <th>price_krur</th>\n",
       "      <th>rayon</th>\n",
       "    </tr>\n",
       "  </thead>\n",
       "  <tbody>\n",
       "    <tr>\n",
       "      <th>0</th>\n",
       "      <td>0.0</td>\n",
       "      <td>1.0</td>\n",
       "      <td>3819.91913</td>\n",
       "      <td>0.0/1.0</td>\n",
       "    </tr>\n",
       "    <tr>\n",
       "      <th>1</th>\n",
       "      <td>1.0</td>\n",
       "      <td>2.0</td>\n",
       "      <td>4969.230769</td>\n",
       "      <td>1.0/2.0</td>\n",
       "    </tr>\n",
       "    <tr>\n",
       "      <th>2</th>\n",
       "      <td>1.0</td>\n",
       "      <td>3.0</td>\n",
       "      <td>7530.0</td>\n",
       "      <td>1.0/3.0</td>\n",
       "    </tr>\n",
       "    <tr>\n",
       "      <th>3</th>\n",
       "      <td>1.0</td>\n",
       "      <td>4.0</td>\n",
       "      <td>4850.0</td>\n",
       "      <td>1.0/4.0</td>\n",
       "    </tr>\n",
       "    <tr>\n",
       "      <th>4</th>\n",
       "      <td>2.0</td>\n",
       "      <td>0.0</td>\n",
       "      <td>5651.25</td>\n",
       "      <td>2.0/0.0</td>\n",
       "    </tr>\n",
       "  </tbody>\n",
       "</table>\n",
       "</div>"
      ],
      "text/plain": [
       "  latitude longitude   price_krur    rayon\n",
       "0      0.0       1.0   3819.91913  0.0/1.0\n",
       "1      1.0       2.0  4969.230769  1.0/2.0\n",
       "2      1.0       3.0       7530.0  1.0/3.0\n",
       "3      1.0       4.0       4850.0  1.0/4.0\n",
       "4      2.0       0.0      5651.25  2.0/0.0"
      ]
     },
     "execution_count": 39,
     "metadata": {},
     "output_type": "execute_result"
    }
   ],
   "source": [
    "agg_geo=data_transformed.groupby(['latitude','longitude']).agg({'price_krur':'mean'}).reset_index()\n",
    "\n",
    "#групповой индекс района\n",
    "agg_geo[['latitude','longitude']]=agg_geo[['latitude','longitude']].astype('str')\n",
    "agg_geo['rayon']=agg_geo['latitude']+'/'+agg_geo['longitude']\n",
    "\n",
    "agg_geo.head(5)"
   ]
  },
  {
   "cell_type": "code",
   "execution_count": 40,
   "id": "0bd3e4b1",
   "metadata": {},
   "outputs": [
    {
     "data": {
      "text/plain": [
       "<Axes: xlabel='rayon', ylabel='price_krur'>"
      ]
     },
     "execution_count": 40,
     "metadata": {},
     "output_type": "execute_result"
    },
    {
     "data": {
      "image/png": "[encoded data removed]",
      "text/plain": [
       "<Figure size 1600x200 with 1 Axes>"
      ]
     },
     "metadata": {},
     "output_type": "display_data"
    }
   ],
   "source": [
    "#есть 1 район прям премиальный (в центре) - сильно отличается цена\n",
    "plt.figure(figsize=(16, 2))\n",
    "plt.xticks(size=5)\n",
    "sns.barplot(data=agg_geo,y='price_krur',x='rayon')\n",
    "\n",
    "#6.0/6.0"
   ]
  },
  {
   "cell_type": "code",
   "execution_count": 41,
   "id": "fa733335",
   "metadata": {},
   "outputs": [
    {
     "data": {
      "text/html": [
       "<div>\n",
       "<style scoped>\n",
       "    .dataframe tbody tr th:only-of-type {\n",
       "        vertical-align: middle;\n",
       "    }\n",
       "\n",
       "    .dataframe tbody tr th {\n",
       "        vertical-align: top;\n",
       "    }\n",
       "\n",
       "    .dataframe thead th {\n",
       "        text-align: right;\n",
       "    }\n",
       "</style>\n",
       "<table border=\"1\" class=\"dataframe\">\n",
       "  <thead>\n",
       "    <tr style=\"text-align: right;\">\n",
       "      <th></th>\n",
       "      <th>floor_group</th>\n",
       "      <th>price_krur</th>\n",
       "    </tr>\n",
       "  </thead>\n",
       "  <tbody>\n",
       "    <tr>\n",
       "      <th>0</th>\n",
       "      <td>first_floor</td>\n",
       "      <td>11364.924092</td>\n",
       "    </tr>\n",
       "    <tr>\n",
       "      <th>1</th>\n",
       "      <td>last_floor</td>\n",
       "      <td>14713.407303</td>\n",
       "    </tr>\n",
       "    <tr>\n",
       "      <th>2</th>\n",
       "      <td>rest_floor</td>\n",
       "      <td>15608.930337</td>\n",
       "    </tr>\n",
       "  </tbody>\n",
       "</table>\n",
       "</div>"
      ],
      "text/plain": [
       "   floor_group    price_krur\n",
       "0  first_floor  11364.924092\n",
       "1   last_floor  14713.407303\n",
       "2   rest_floor  15608.930337"
      ]
     },
     "execution_count": 41,
     "metadata": {},
     "output_type": "execute_result"
    }
   ],
   "source": [
    "#эффект 1го и последнего этажей\n",
    "data_set['price_krur']=data_set['price']/1000\n",
    "data_set['floor_group']='rest_floor'\n",
    "data_set.loc[data_set['floor']==1,'floor_group']='first_floor'\n",
    "data_set.loc[data_set['floor']==data_set['floors_total'],'floor_group']='last_floor'\n",
    "\n",
    "\n",
    "data_set.groupby('floor_group').agg({'price_krur':'mean'}).reset_index()\n",
    "\n",
    "#эффект 1го этажа ярко выражен - квартиры стоят дешевле\n",
    "#последний этаж - незначительная скидка"
   ]
  },
  {
   "cell_type": "markdown",
   "id": "636f107d",
   "metadata": {},
   "source": [
    "выводы по датасету\n",
    "1 - есть пропуски и выбросы в данных, есть дубли\n",
    "2 - есть признаки, которые нужно обрабатывать (география, тип здания)\n",
    "3 - из предварительного анализа самые важные признаки, которые влияют на цену\n",
    " - цена положительно зависит от площади, от количества комнат, от размера потолка и слабо отрицательно от количества квартир в доме\n",
    " - наличие лифта, этажность, признак апартаментов почти не влияют на цену"
   ]
  },
  {
   "cell_type": "code",
   "execution_count": 48,
   "id": "85ddeabc",
   "metadata": {},
   "outputs": [],
   "source": [
    "# 2.6 логирование артефактов в MLflow"
   ]
  },
  {
   "cell_type": "code",
   "execution_count": 42,
   "id": "7a02a7fe",
   "metadata": {},
   "outputs": [
    {
     "data": {
      "text/html": [
       "<div>\n",
       "<style scoped>\n",
       "    .dataframe tbody tr th:only-of-type {\n",
       "        vertical-align: middle;\n",
       "    }\n",
       "\n",
       "    .dataframe tbody tr th {\n",
       "        vertical-align: top;\n",
       "    }\n",
       "\n",
       "    .dataframe thead th {\n",
       "        text-align: right;\n",
       "    }\n",
       "</style>\n",
       "<table border=\"1\" class=\"dataframe\">\n",
       "  <thead>\n",
       "    <tr style=\"text-align: right;\">\n",
       "      <th></th>\n",
       "      <th>has_elevator_True</th>\n",
       "      <th>is_apartment_True</th>\n",
       "      <th>build_year</th>\n",
       "      <th>ceiling_height</th>\n",
       "      <th>floors_total</th>\n",
       "      <th>floor</th>\n",
       "      <th>rooms</th>\n",
       "      <th>total_area</th>\n",
       "      <th>flats_count</th>\n",
       "    </tr>\n",
       "  </thead>\n",
       "  <tbody>\n",
       "    <tr>\n",
       "      <th>0</th>\n",
       "      <td>1.0</td>\n",
       "      <td>0.0</td>\n",
       "      <td>-0.966574</td>\n",
       "      <td>-0.518002</td>\n",
       "      <td>-0.296858</td>\n",
       "      <td>0.323597</td>\n",
       "      <td>-1.170397</td>\n",
       "      <td>-0.840759</td>\n",
       "      <td>-0.872631</td>\n",
       "    </tr>\n",
       "    <tr>\n",
       "      <th>1</th>\n",
       "      <td>1.0</td>\n",
       "      <td>0.0</td>\n",
       "      <td>0.686762</td>\n",
       "      <td>1.350878</td>\n",
       "      <td>-0.626516</td>\n",
       "      <td>-0.055040</td>\n",
       "      <td>-1.170397</td>\n",
       "      <td>-0.557565</td>\n",
       "      <td>-0.803439</td>\n",
       "    </tr>\n",
       "  </tbody>\n",
       "</table>\n",
       "</div>"
      ],
      "text/plain": [
       "   has_elevator_True  is_apartment_True  build_year  ceiling_height   \n",
       "0                1.0                0.0   -0.966574       -0.518002  \\\n",
       "1                1.0                0.0    0.686762        1.350878   \n",
       "\n",
       "   floors_total     floor     rooms  total_area  flats_count  \n",
       "0     -0.296858  0.323597 -1.170397   -0.840759    -0.872631  \n",
       "1     -0.626516 -0.055040 -1.170397   -0.557565    -0.803439  "
      ]
     },
     "execution_count": 42,
     "metadata": {},
     "output_type": "execute_result"
    }
   ],
   "source": [
    "#ОБУЧАЕМ НАШУ БАЗОВУЮ МОДЕЛЬ И ЛОГИРУЕМ\n",
    "\n",
    "binary_cat_features=data_set[['has_elevator', 'is_apartment']]\n",
    "num_features=data_set[['build_year', 'ceiling_height', 'floors_total', 'floor', 'rooms', 'total_area','flats_count']] #'latitude', 'longitude', \n",
    "target=data_set['price']\n",
    "\n",
    "#Объединяем трансформации\n",
    "\n",
    "from sklearn.compose import ColumnTransformer\n",
    "from sklearn.preprocessing import OneHotEncoder,StandardScaler\n",
    "from category_encoders import CatBoostEncoder\n",
    "\n",
    "binary_cols = binary_cat_features.columns.tolist()\n",
    "num_cols = num_features.columns.tolist()\n",
    "\n",
    "# определите список трансформаций в рамках ColumnTransformer\n",
    "preprocessor = ColumnTransformer(\n",
    "[\n",
    "    ('binary',OneHotEncoder(drop='if_binary'),binary_cols),\n",
    "    ('num',StandardScaler(),num_cols)\n",
    "],verbose_feature_names_out=False,remainder='drop'\n",
    ")\n",
    "\n",
    "# трансформируйте исходные данные data с помощью созданного preprocessor\n",
    "data_transformed_model_0 = preprocessor.fit_transform(data_set,data_set['price'])\n",
    "data_transformed_model_0=pd.DataFrame(data_transformed_model_0, columns=preprocessor.get_feature_names_out())\n",
    "data_transformed_model_0.head(2)\n"
   ]
  },
  {
   "cell_type": "code",
   "execution_count": 43,
   "id": "29e58b14",
   "metadata": {},
   "outputs": [],
   "source": [
    "#ДЕЛАЮ РАЗДЕЛЕНИЕ НА TRAIN TEST\n",
    "data_transformed_model_0['price']=data_set['price']\n",
    "\n",
    "x=data_transformed_model_0.drop(columns=['price'])\n",
    "y=data_transformed_model_0['price']\n",
    "\n",
    "from sklearn.model_selection import train_test_split\n",
    "X_tr, X_val, y_tr, y_val = train_test_split(x,y,test_size=0.2) "
   ]
  },
  {
   "cell_type": "code",
   "execution_count": 44,
   "id": "66554cab",
   "metadata": {},
   "outputs": [
    {
     "data": {
      "text/html": [
       "<div>\n",
       "<style scoped>\n",
       "    .dataframe tbody tr th:only-of-type {\n",
       "        vertical-align: middle;\n",
       "    }\n",
       "\n",
       "    .dataframe tbody tr th {\n",
       "        vertical-align: top;\n",
       "    }\n",
       "\n",
       "    .dataframe thead th {\n",
       "        text-align: right;\n",
       "    }\n",
       "</style>\n",
       "<table border=\"1\" class=\"dataframe\">\n",
       "  <thead>\n",
       "    <tr style=\"text-align: right;\">\n",
       "      <th></th>\n",
       "      <th>price</th>\n",
       "      <th>y_pred</th>\n",
       "    </tr>\n",
       "  </thead>\n",
       "  <tbody>\n",
       "    <tr>\n",
       "      <th>30797</th>\n",
       "      <td>10250.0</td>\n",
       "      <td>10997.650308</td>\n",
       "    </tr>\n",
       "    <tr>\n",
       "      <th>52562</th>\n",
       "      <td>11400.0</td>\n",
       "      <td>8948.717261</td>\n",
       "    </tr>\n",
       "    <tr>\n",
       "      <th>82683</th>\n",
       "      <td>9500.0</td>\n",
       "      <td>6746.277085</td>\n",
       "    </tr>\n",
       "    <tr>\n",
       "      <th>121762</th>\n",
       "      <td>17200.0</td>\n",
       "      <td>11813.305409</td>\n",
       "    </tr>\n",
       "    <tr>\n",
       "      <th>76747</th>\n",
       "      <td>10500.0</td>\n",
       "      <td>10664.467733</td>\n",
       "    </tr>\n",
       "    <tr>\n",
       "      <th>...</th>\n",
       "      <td>...</td>\n",
       "      <td>...</td>\n",
       "    </tr>\n",
       "    <tr>\n",
       "      <th>3073</th>\n",
       "      <td>90000.0</td>\n",
       "      <td>33279.482642</td>\n",
       "    </tr>\n",
       "    <tr>\n",
       "      <th>109856</th>\n",
       "      <td>8500.0</td>\n",
       "      <td>7058.009730</td>\n",
       "    </tr>\n",
       "    <tr>\n",
       "      <th>89837</th>\n",
       "      <td>10300.0</td>\n",
       "      <td>11557.379726</td>\n",
       "    </tr>\n",
       "    <tr>\n",
       "      <th>113644</th>\n",
       "      <td>10770.0</td>\n",
       "      <td>14905.486016</td>\n",
       "    </tr>\n",
       "    <tr>\n",
       "      <th>30769</th>\n",
       "      <td>18900.0</td>\n",
       "      <td>21084.953400</td>\n",
       "    </tr>\n",
       "  </tbody>\n",
       "</table>\n",
       "<p>25226 rows × 2 columns</p>\n",
       "</div>"
      ],
      "text/plain": [
       "          price        y_pred\n",
       "30797   10250.0  10997.650308\n",
       "52562   11400.0   8948.717261\n",
       "82683    9500.0   6746.277085\n",
       "121762  17200.0  11813.305409\n",
       "76747   10500.0  10664.467733\n",
       "...         ...           ...\n",
       "3073    90000.0  33279.482642\n",
       "109856   8500.0   7058.009730\n",
       "89837   10300.0  11557.379726\n",
       "113644  10770.0  14905.486016\n",
       "30769   18900.0  21084.953400\n",
       "\n",
       "[25226 rows x 2 columns]"
      ]
     },
     "execution_count": 44,
     "metadata": {},
     "output_type": "execute_result"
    }
   ],
   "source": [
    "#регрессия - предсказание числа\n",
    "\n",
    "#from sklearn.linear_model import Lasso\n",
    "#model=Lasso()\n",
    "from sklearn.linear_model import Ridge\n",
    "model=Ridge()\n",
    "model.fit(X_tr,y_tr)\n",
    "y_pred=model.predict(X_val)\n",
    "\n",
    "\n",
    "features=pd.DataFrame(X_tr.columns)\n",
    "features.columns=['feature']\n",
    "features['coeff']=model.coef_/1000\n",
    "features\n",
    "\n",
    "df=pd.DataFrame(y_val/1000) \n",
    "\n",
    "df['y_pred']=y_pred/1000\n",
    "df"
   ]
  },
  {
   "cell_type": "code",
   "execution_count": 17,
   "id": "32204224",
   "metadata": {},
   "outputs": [
    {
     "data": {
      "text/plain": [
       "{'r2': 0.6658816312057878, 'mse': 49198764900740.38}"
      ]
     },
     "execution_count": 17,
     "metadata": {},
     "output_type": "execute_result"
    }
   ],
   "source": [
    "#Расчет метрик\n",
    "\n",
    "from sklearn.metrics import roc_auc_score,mean_squared_error,r2_score\n",
    "\n",
    "# расчёт метрик качества\n",
    "metrics = {}\n",
    "r2_sc = r2_score(y_val,y_pred)\n",
    "metrics[\"r2\"] = r2_sc\n",
    "mse=mean_squared_error(y_val,y_pred)\n",
    "metrics[\"mse\"]=mse\n",
    "\n",
    "metrics"
   ]
  },
  {
   "cell_type": "code",
   "execution_count": 53,
   "id": "476a8106",
   "metadata": {},
   "outputs": [
    {
     "data": {
      "image/png": "[encoded data removed]",
      "text/plain": [
       "<Figure size 640x480 with 1 Axes>"
      ]
     },
     "metadata": {},
     "output_type": "display_data"
    }
   ],
   "source": [
    "fig=plt.scatter(df['price'],df['y_pred'])\n",
    "fig\n",
    "plt.savefig(\"artifacts/base_figure.png\")"
   ]
  },
  {
   "cell_type": "code",
   "execution_count": 54,
   "id": "288d1d82",
   "metadata": {},
   "outputs": [],
   "source": [
    "#в MLFLOW\n",
    "\n",
    "##MLFLOW info\n",
    "\n",
    "TRACKING_SERVER_HOST = \"127.0.0.1\"\n",
    "TRACKING_SERVER_PORT = 5000\n",
    "\n",
    "EXPERIMENT_NAME = \"SPRINT_2_PROJECT_EXP\"\n",
    "RUN_NAME = \"SPRINT_2_base_model\"\n",
    "REGISTRY_MODEL_NAME =\"MODEL_0\"\n",
    "\n",
    "os.environ[\"MLFLOW_S3_ENDPOINT_URL\"] = \"https://storage.yandexcloud.net\"\n",
    "os.environ[\"AWS_ACCESS_KEY_ID\"] = os.getenv(\"AWS_ACCESS_KEY_ID\")\n",
    "os.environ[\"AWS_SECRET_ACCESS_KEY\"] = os.getenv(\"AWS_SECRET_ACCESS_KEY\")\n",
    "\n",
    "mlflow.set_tracking_uri(f\"http://{TRACKING_SERVER_HOST}:{TRACKING_SERVER_PORT}\")\n",
    "mlflow.set_registry_uri(f\"http://{TRACKING_SERVER_HOST}:{TRACKING_SERVER_PORT}\")\n",
    "\n",
    "if mlflow.get_experiment_by_name(name=EXPERIMENT_NAME):\n",
    "    experiment_id = dict(mlflow.get_experiment_by_name(name=EXPERIMENT_NAME))['experiment_id']\n",
    "    mlflow.set_experiment(experiment_id=experiment_id)\n",
    "else:\n",
    "    mlflow.set_experiment(EXPERIMENT_NAME)\n",
    "    experiment_id = dict(mlflow.get_experiment_by_name(name=EXPERIMENT_NAME))['experiment_id']\n",
    "    mlflow.set_experiment(experiment_id=experiment_id)\n",
    "  "
   ]
  },
  {
   "cell_type": "code",
   "execution_count": 55,
   "id": "79e8025d",
   "metadata": {},
   "outputs": [
    {
     "data": {
      "text/plain": [
       "'25'"
      ]
     },
     "execution_count": 55,
     "metadata": {},
     "output_type": "execute_result"
    }
   ],
   "source": [
    "experiment_id"
   ]
  },
  {
   "cell_type": "code",
   "execution_count": 56,
   "id": "2aef432a",
   "metadata": {},
   "outputs": [
    {
     "name": "stderr",
     "output_type": "stream",
     "text": [
      "/home/mle-user/mle_projects/mle-project-sprint-2/.venv_project_sprint2/lib/python3.10/site-packages/mlflow/models/signature.py:213: UserWarning: Hint: Inferred schema contains integer column(s). Integer columns in Python cannot represent missing values. If your input data contains missing values at inference time, it will be encoded as floats and will cause a schema enforcement error. The best way to avoid this problem is to infer the model schema based on a realistic data sample (training dataset) that includes missing values. Alternatively, you can declare integer columns as doubles (float64) whenever these columns may have missing values. See `Handling Integers With Missing Values <https://www.mlflow.org/docs/latest/models.html#handling-integers-with-missing-values>`_ for more details.\n",
      "  outputs = _infer_schema(model_output) if model_output is not None else None\n",
      "Registered model 'MODEL_0' already exists. Creating a new version of this model...\n",
      "2024/12/06 16:03:21 INFO mlflow.tracking._model_registry.client: Waiting up to 60 seconds for model version to finish creation. Model name: MODEL_0, version 9\n",
      "Created version '9' of model 'MODEL_0'.\n"
     ]
    }
   ],
   "source": [
    "signature = mlflow.models.infer_signature(X_val, y_val)\n",
    "input_example = X_val[:10]\n",
    "\n",
    "with mlflow.start_run(run_name=RUN_NAME, experiment_id=experiment_id) as run:\n",
    "    run_id = run.info.run_id\n",
    "    model.fit(X_tr, y_tr)\n",
    "    y_pred = model.predict(X_val)\n",
    "\n",
    "    r2_sc = r2_score(y_val,y_pred)\n",
    "    mse=mean_squared_error(y_val,y_pred)\n",
    "    model_info = mlflow.sklearn.log_model(\n",
    "        sk_model=model,\n",
    "        artifact_path=\"models_sprint2\",\n",
    "        registered_model_name=REGISTRY_MODEL_NAME,\n",
    "        signature=signature,\n",
    "        input_example=input_example,\n",
    "        await_registration_for=60\n",
    "\t\t)\n",
    "    mlflow.log_metric(\"r2\", r2_sc)\n",
    "    mlflow.log_metric(\"MSE\", mse)\n",
    "    mlflow.log_artifact(\"artifacts/base_figure.png\",\"artifacts\")"
   ]
  },
  {
   "cell_type": "markdown",
   "id": "ab0688e2-8a9b-4474-8dc1-b899a081bcec",
   "metadata": {},
   "source": [
    "#### Этап 3: Генерация Признаков и Обучение Новой Версии Модели\n",
    "После тщательного исследовательского анализа данных (EDA), вы, скорее всего, сформировали несколько гипотез относительно новых признаков, которые могут улучшить качество вашей модели. На этом этапе, мы предлагаем вам приступить к генерации новых признаков и последующему обучению модели, используя два подхода:\n",
    "\n",
    "Ручная генерация признаков: Используйте ваше понимание данных и результаты EDA для создания новых признаков.\n",
    "Автоматическая генерация признаков: Воспользуйтесь библиотеками для автоматической генерации признаков, чтобы облегчить и ускорить этот процесс.\n",
    "Важно: Для признаков, созданных вручную, рекомендуется использовать объекты sklearn, такие как Pipeline и ColumnTransformer. Это позволит автоматизировать процесс преобразования данных и облегчить поддержку вашего проекта.\n",
    "\n",
    "После генерации новых признаков, наступает время обучить новую версию вашей модели, используя эти признаки. Не забудьте залогировать все результаты, включая новые признаки, параметры модели и метрики качества, в MLflow для удобства отслеживания изменений и результатов.\n",
    "\n",
    "Рекомендуемые шаги:\n",
    "\n",
    "- Определение и генерация новых признаков на основе ваших гипотез.\n",
    "- Использование библиотек для автоматической генерации признаков, если это применимо.\n",
    "- Интеграция новых признаков в вашу модель с помощью Pipeline или ColumnTransformer для ручно созданных признаков.\n",
    "- Обучение новой версии модели с использованием всех доступных признаков.\n",
    "- Логирование результатов в MLflow для документирования и анализа эффективности новых признаков и модели.\n",
    "\n",
    "Этот этап проекта критически важен для повышения точности и эффективности вашей модели. Тщательная работа на этом этапе может существенно повлиять на итоговое качество моделирования.\n"
   ]
  },
  {
   "cell_type": "markdown",
   "id": "b4103e5d",
   "metadata": {},
   "source": [
    "гипотезы для дальнейшего развития:\n",
    "результат модели 0 достаточно неплохой - r2 67%\n",
    "\n",
    "по результатам EDA появились следующие идеи\n",
    "- обогатить kitchen/living area\n",
    "- использовать дорогой район как признак для модели\n",
    "- использовать тип здания как признак для модели\n",
    "- возможно наличие нелинейных связей и полиномиальная модель покажет лучший результа"
   ]
  },
  {
   "cell_type": "code",
   "execution_count": 57,
   "id": "7abed98b-381b-456c-8f31-c31c2408c33d",
   "metadata": {},
   "outputs": [],
   "source": [
    "# 3.1 ручная генерация признаков"
   ]
  },
  {
   "cell_type": "code",
   "execution_count": 45,
   "id": "804f58c5",
   "metadata": {},
   "outputs": [],
   "source": [
    "data_set2=data_set\n",
    "\n",
    "data_set2['living_share'] = data_set2['living_area']/data_set2['total_area'] # Рассчитаем долю жилой площади:\n",
    "data_set2['kitchen_share'] = data_set2['kitchen_area']/data_set2['total_area'] # Вычислим долю площади кухни:\n",
    "\n",
    "data_set2['median_living']=data_set2.groupby('rooms')['living_share'].transform('median')\n",
    "data_set2['median_kitchen']=data_set2.groupby('rooms')['kitchen_share'].transform('median')\n",
    "#пробую на отдельном поле (потом проверить)\n",
    "data_set2['living_area_test']=data_set2['living_area']\n",
    "data_set2['kitchen_area_test']=data_set2['kitchen_area']"
   ]
  },
  {
   "cell_type": "code",
   "execution_count": 46,
   "id": "fa3b9145",
   "metadata": {},
   "outputs": [
    {
     "data": {
      "text/html": [
       "<div>\n",
       "<style scoped>\n",
       "    .dataframe tbody tr th:only-of-type {\n",
       "        vertical-align: middle;\n",
       "    }\n",
       "\n",
       "    .dataframe tbody tr th {\n",
       "        vertical-align: top;\n",
       "    }\n",
       "\n",
       "    .dataframe thead th {\n",
       "        text-align: right;\n",
       "    }\n",
       "</style>\n",
       "<table border=\"1\" class=\"dataframe\">\n",
       "  <thead>\n",
       "    <tr style=\"text-align: right;\">\n",
       "      <th></th>\n",
       "      <th>rooms</th>\n",
       "      <th>living_area</th>\n",
       "      <th>living_area_test</th>\n",
       "    </tr>\n",
       "  </thead>\n",
       "  <tbody>\n",
       "    <tr>\n",
       "      <th>5</th>\n",
       "      <td>2</td>\n",
       "      <td>30.228147</td>\n",
       "      <td>0.0</td>\n",
       "    </tr>\n",
       "    <tr>\n",
       "      <th>7</th>\n",
       "      <td>1</td>\n",
       "      <td>26.547368</td>\n",
       "      <td>0.0</td>\n",
       "    </tr>\n",
       "    <tr>\n",
       "      <th>38</th>\n",
       "      <td>1</td>\n",
       "      <td>20.727367</td>\n",
       "      <td>0.0</td>\n",
       "    </tr>\n",
       "    <tr>\n",
       "      <th>39</th>\n",
       "      <td>3</td>\n",
       "      <td>48.267125</td>\n",
       "      <td>0.0</td>\n",
       "    </tr>\n",
       "    <tr>\n",
       "      <th>49</th>\n",
       "      <td>3</td>\n",
       "      <td>77.671233</td>\n",
       "      <td>0.0</td>\n",
       "    </tr>\n",
       "  </tbody>\n",
       "</table>\n",
       "</div>"
      ],
      "text/plain": [
       "    rooms  living_area  living_area_test\n",
       "5       2    30.228147               0.0\n",
       "7       1    26.547368               0.0\n",
       "38      1    20.727367               0.0\n",
       "39      3    48.267125               0.0\n",
       "49      3    77.671233               0.0"
      ]
     },
     "execution_count": 46,
     "metadata": {},
     "output_type": "execute_result"
    }
   ],
   "source": [
    "data_set2.loc[data_set2['living_area'] == 0,'living_area'] = data_set2['median_living']*data_set2['total_area']\n",
    "data_set2.loc[data_set2['kitchen_area'] == 0,'kitchen_area'] = data_set2['median_kitchen']*data_set2['total_area']\n",
    "\n",
    "#проверяю что получилось обогатить\n",
    "data_set2.query('living_area_test==0')[['rooms','living_area','living_area_test']].head(5)"
   ]
  },
  {
   "cell_type": "code",
   "execution_count": 47,
   "id": "82fbe0ca",
   "metadata": {},
   "outputs": [],
   "source": [
    "#теперь удаляю из датасета лишние поля\n",
    "data_set2=data_set2.drop(columns=['median_living', 'median_kitchen', 'living_area_test','kitchen_area_test', 'living_share','kitchen_share'])\n",
    "\n",
    "#теперь удаляю где есть пропуски\n",
    "data_set2=data_set2.query('living_area!=0 and kitchen_area!=0')"
   ]
  },
  {
   "cell_type": "code",
   "execution_count": 48,
   "id": "9199015f",
   "metadata": {},
   "outputs": [
    {
     "data": {
      "text/html": [
       "<div>\n",
       "<style scoped>\n",
       "    .dataframe tbody tr th:only-of-type {\n",
       "        vertical-align: middle;\n",
       "    }\n",
       "\n",
       "    .dataframe tbody tr th {\n",
       "        vertical-align: top;\n",
       "    }\n",
       "\n",
       "    .dataframe thead th {\n",
       "        text-align: right;\n",
       "    }\n",
       "</style>\n",
       "<table border=\"1\" class=\"dataframe\">\n",
       "  <thead>\n",
       "    <tr style=\"text-align: right;\">\n",
       "      <th></th>\n",
       "      <th>id</th>\n",
       "      <th>build_year</th>\n",
       "      <th>building_type_int</th>\n",
       "      <th>latitude</th>\n",
       "      <th>longitude</th>\n",
       "      <th>ceiling_height</th>\n",
       "      <th>flats_count</th>\n",
       "      <th>floors_total</th>\n",
       "      <th>has_elevator</th>\n",
       "      <th>floor</th>\n",
       "      <th>is_apartment</th>\n",
       "      <th>kitchen_area</th>\n",
       "      <th>living_area</th>\n",
       "      <th>rooms</th>\n",
       "      <th>studio</th>\n",
       "      <th>total_area</th>\n",
       "      <th>price</th>\n",
       "      <th>building_id</th>\n",
       "      <th>price_krur</th>\n",
       "      <th>floor_group</th>\n",
       "    </tr>\n",
       "  </thead>\n",
       "  <tbody>\n",
       "  </tbody>\n",
       "</table>\n",
       "</div>"
      ],
      "text/plain": [
       "Empty DataFrame\n",
       "Columns: [id, build_year, building_type_int, latitude, longitude, ceiling_height, flats_count, floors_total, has_elevator, floor, is_apartment, kitchen_area, living_area, rooms, studio, total_area, price, building_id, price_krur, floor_group]\n",
       "Index: []"
      ]
     },
     "execution_count": 48,
     "metadata": {},
     "output_type": "execute_result"
    }
   ],
   "source": [
    "# тут пустых нет\n",
    "data_set2[data_set2['price'].isna()==True]"
   ]
  },
  {
   "cell_type": "code",
   "execution_count": 62,
   "id": "4478812e",
   "metadata": {},
   "outputs": [],
   "source": [
    "# 3.2 оборачивание всех преобразований в объекты sklearn"
   ]
  },
  {
   "cell_type": "code",
   "execution_count": 49,
   "id": "5894e743",
   "metadata": {},
   "outputs": [],
   "source": [
    "#разделим опять признаки\n",
    "\n",
    "binary_cat_features=data_set2[['has_elevator', 'is_apartment']]\n",
    "num_features=data_set2[['build_year', 'ceiling_height', 'floors_total', 'floor', 'rooms', 'total_area','flats_count','kitchen_area','living_area']] \n",
    "target=data_set2['price']\n",
    "territory_features=data_set2[['latitude','longitude']]\n",
    "build_type_feature=data_set2[['building_type_int','floor_group']]"
   ]
  },
  {
   "cell_type": "code",
   "execution_count": 50,
   "id": "db083523",
   "metadata": {},
   "outputs": [
    {
     "name": "stderr",
     "output_type": "stream",
     "text": [
      "/home/mle-user/mle_projects/mle-project-sprint-2/.venv_project_sprint2/lib/python3.10/site-packages/sklearn/preprocessing/_discretization.py:248: FutureWarning: In version 1.5 onwards, subsample=200_000 will be used by default. Set subsample explicitly to silence this warning in the mean time. Set subsample=None to disable subsampling explicitly.\n",
      "  warnings.warn(\n"
     ]
    },
    {
     "data": {
      "text/html": [
       "<div>\n",
       "<style scoped>\n",
       "    .dataframe tbody tr th:only-of-type {\n",
       "        vertical-align: middle;\n",
       "    }\n",
       "\n",
       "    .dataframe tbody tr th {\n",
       "        vertical-align: top;\n",
       "    }\n",
       "\n",
       "    .dataframe thead th {\n",
       "        text-align: right;\n",
       "    }\n",
       "</style>\n",
       "<table border=\"1\" class=\"dataframe\">\n",
       "  <thead>\n",
       "    <tr style=\"text-align: right;\">\n",
       "      <th></th>\n",
       "      <th>0</th>\n",
       "      <th>1</th>\n",
       "    </tr>\n",
       "  </thead>\n",
       "  <tbody>\n",
       "    <tr>\n",
       "      <th>has_elevator_True</th>\n",
       "      <td>1.0</td>\n",
       "      <td>1.0</td>\n",
       "    </tr>\n",
       "    <tr>\n",
       "      <th>is_apartment_True</th>\n",
       "      <td>0.0</td>\n",
       "      <td>0.0</td>\n",
       "    </tr>\n",
       "    <tr>\n",
       "      <th>building_type_int_0</th>\n",
       "      <td>0.0</td>\n",
       "      <td>0.0</td>\n",
       "    </tr>\n",
       "    <tr>\n",
       "      <th>building_type_int_1</th>\n",
       "      <td>0.0</td>\n",
       "      <td>0.0</td>\n",
       "    </tr>\n",
       "    <tr>\n",
       "      <th>building_type_int_2</th>\n",
       "      <td>0.0</td>\n",
       "      <td>1.0</td>\n",
       "    </tr>\n",
       "    <tr>\n",
       "      <th>building_type_int_3</th>\n",
       "      <td>0.0</td>\n",
       "      <td>0.0</td>\n",
       "    </tr>\n",
       "    <tr>\n",
       "      <th>building_type_int_4</th>\n",
       "      <td>0.0</td>\n",
       "      <td>0.0</td>\n",
       "    </tr>\n",
       "    <tr>\n",
       "      <th>building_type_int_5</th>\n",
       "      <td>0.0</td>\n",
       "      <td>0.0</td>\n",
       "    </tr>\n",
       "    <tr>\n",
       "      <th>building_type_int_6</th>\n",
       "      <td>1.0</td>\n",
       "      <td>0.0</td>\n",
       "    </tr>\n",
       "    <tr>\n",
       "      <th>floor_group_first_floor</th>\n",
       "      <td>0.0</td>\n",
       "      <td>0.0</td>\n",
       "    </tr>\n",
       "    <tr>\n",
       "      <th>floor_group_last_floor</th>\n",
       "      <td>0.0</td>\n",
       "      <td>0.0</td>\n",
       "    </tr>\n",
       "    <tr>\n",
       "      <th>floor_group_rest_floor</th>\n",
       "      <td>1.0</td>\n",
       "      <td>1.0</td>\n",
       "    </tr>\n",
       "    <tr>\n",
       "      <th>build_year</th>\n",
       "      <td>-0.966574</td>\n",
       "      <td>0.686762</td>\n",
       "    </tr>\n",
       "    <tr>\n",
       "      <th>ceiling_height</th>\n",
       "      <td>-0.518002</td>\n",
       "      <td>1.350878</td>\n",
       "    </tr>\n",
       "    <tr>\n",
       "      <th>floors_total</th>\n",
       "      <td>-0.296858</td>\n",
       "      <td>-0.626516</td>\n",
       "    </tr>\n",
       "    <tr>\n",
       "      <th>floor</th>\n",
       "      <td>0.323597</td>\n",
       "      <td>-0.05504</td>\n",
       "    </tr>\n",
       "    <tr>\n",
       "      <th>rooms</th>\n",
       "      <td>-1.170397</td>\n",
       "      <td>-1.170397</td>\n",
       "    </tr>\n",
       "    <tr>\n",
       "      <th>total_area</th>\n",
       "      <td>-0.840759</td>\n",
       "      <td>-0.557565</td>\n",
       "    </tr>\n",
       "    <tr>\n",
       "      <th>flats_count</th>\n",
       "      <td>-0.872631</td>\n",
       "      <td>-0.803439</td>\n",
       "    </tr>\n",
       "    <tr>\n",
       "      <th>kitchen_area</th>\n",
       "      <td>0.065917</td>\n",
       "      <td>-0.029579</td>\n",
       "    </tr>\n",
       "    <tr>\n",
       "      <th>living_area</th>\n",
       "      <td>-0.809813</td>\n",
       "      <td>-0.989068</td>\n",
       "    </tr>\n",
       "    <tr>\n",
       "      <th>latitude</th>\n",
       "      <td>6.0</td>\n",
       "      <td>7.0</td>\n",
       "    </tr>\n",
       "    <tr>\n",
       "      <th>longitude</th>\n",
       "      <td>8.0</td>\n",
       "      <td>6.0</td>\n",
       "    </tr>\n",
       "    <tr>\n",
       "      <th>id</th>\n",
       "      <td>0</td>\n",
       "      <td>1</td>\n",
       "    </tr>\n",
       "    <tr>\n",
       "      <th>studio</th>\n",
       "      <td>False</td>\n",
       "      <td>False</td>\n",
       "    </tr>\n",
       "    <tr>\n",
       "      <th>price</th>\n",
       "      <td>9500000</td>\n",
       "      <td>13500000</td>\n",
       "    </tr>\n",
       "    <tr>\n",
       "      <th>building_id</th>\n",
       "      <td>6220</td>\n",
       "      <td>18012</td>\n",
       "    </tr>\n",
       "    <tr>\n",
       "      <th>price_krur</th>\n",
       "      <td>9500.0</td>\n",
       "      <td>13500.0</td>\n",
       "    </tr>\n",
       "  </tbody>\n",
       "</table>\n",
       "</div>"
      ],
      "text/plain": [
       "                                0         1\n",
       "has_elevator_True             1.0       1.0\n",
       "is_apartment_True             0.0       0.0\n",
       "building_type_int_0           0.0       0.0\n",
       "building_type_int_1           0.0       0.0\n",
       "building_type_int_2           0.0       1.0\n",
       "building_type_int_3           0.0       0.0\n",
       "building_type_int_4           0.0       0.0\n",
       "building_type_int_5           0.0       0.0\n",
       "building_type_int_6           1.0       0.0\n",
       "floor_group_first_floor       0.0       0.0\n",
       "floor_group_last_floor        0.0       0.0\n",
       "floor_group_rest_floor        1.0       1.0\n",
       "build_year              -0.966574  0.686762\n",
       "ceiling_height          -0.518002  1.350878\n",
       "floors_total            -0.296858 -0.626516\n",
       "floor                    0.323597  -0.05504\n",
       "rooms                   -1.170397 -1.170397\n",
       "total_area              -0.840759 -0.557565\n",
       "flats_count             -0.872631 -0.803439\n",
       "kitchen_area             0.065917 -0.029579\n",
       "living_area             -0.809813 -0.989068\n",
       "latitude                      6.0       7.0\n",
       "longitude                     8.0       6.0\n",
       "id                              0         1\n",
       "studio                      False     False\n",
       "price                     9500000  13500000\n",
       "building_id                  6220     18012\n",
       "price_krur                 9500.0   13500.0"
      ]
     },
     "execution_count": 50,
     "metadata": {},
     "output_type": "execute_result"
    }
   ],
   "source": [
    "#Объединяем трансформации\n",
    "\n",
    "from sklearn.compose import ColumnTransformer\n",
    "from sklearn.preprocessing import OneHotEncoder, StandardScaler, KBinsDiscretizer\n",
    "from category_encoders import CatBoostEncoder\n",
    "\n",
    "binary_cols = binary_cat_features.columns.tolist()\n",
    "num_cols = num_features.columns.tolist()\n",
    "territory_cols=territory_features.columns.tolist()\n",
    "build_type_cols=build_type_feature.columns.tolist()\n",
    "\n",
    "# определите список трансформаций в рамках ColumnTransformer\n",
    "preprocessor = ColumnTransformer(\n",
    "[\n",
    "    ('binary',OneHotEncoder(drop='if_binary'),binary_cols),\n",
    "    ('build_type',OneHotEncoder(drop='if_binary'),build_type_cols),\n",
    "    ('num',StandardScaler(),num_cols),\n",
    "    ('geo',KBinsDiscretizer(n_bins=10, encode='ordinal', strategy='uniform'),territory_cols),\n",
    "\n",
    "],verbose_feature_names_out=False,remainder='passthrough'#'drop'\n",
    ")\n",
    "# трансформируйте исходные данные data с помощью созданного preprocessor\n",
    "data_transformed_model_1 = preprocessor.fit_transform(data_set2,data_set2['price'])\n",
    "data_transformed_model_1=pd.DataFrame(data_transformed_model_1, columns=preprocessor.get_feature_names_out())\n",
    "data_transformed_model_1.head(2).T"
   ]
  },
  {
   "cell_type": "code",
   "execution_count": 51,
   "id": "4d0b61ae",
   "metadata": {},
   "outputs": [
    {
     "data": {
      "text/html": [
       "<div>\n",
       "<style scoped>\n",
       "    .dataframe tbody tr th:only-of-type {\n",
       "        vertical-align: middle;\n",
       "    }\n",
       "\n",
       "    .dataframe tbody tr th {\n",
       "        vertical-align: top;\n",
       "    }\n",
       "\n",
       "    .dataframe thead th {\n",
       "        text-align: right;\n",
       "    }\n",
       "</style>\n",
       "<table border=\"1\" class=\"dataframe\">\n",
       "  <thead>\n",
       "    <tr style=\"text-align: right;\">\n",
       "      <th></th>\n",
       "      <th>0</th>\n",
       "    </tr>\n",
       "  </thead>\n",
       "  <tbody>\n",
       "    <tr>\n",
       "      <th>has_elevator_True</th>\n",
       "      <td>1.0</td>\n",
       "    </tr>\n",
       "    <tr>\n",
       "      <th>is_apartment_True</th>\n",
       "      <td>0.0</td>\n",
       "    </tr>\n",
       "    <tr>\n",
       "      <th>building_type_int_0</th>\n",
       "      <td>0.0</td>\n",
       "    </tr>\n",
       "    <tr>\n",
       "      <th>building_type_int_1</th>\n",
       "      <td>0.0</td>\n",
       "    </tr>\n",
       "    <tr>\n",
       "      <th>building_type_int_2</th>\n",
       "      <td>0.0</td>\n",
       "    </tr>\n",
       "    <tr>\n",
       "      <th>building_type_int_3</th>\n",
       "      <td>0.0</td>\n",
       "    </tr>\n",
       "    <tr>\n",
       "      <th>building_type_int_4</th>\n",
       "      <td>0.0</td>\n",
       "    </tr>\n",
       "    <tr>\n",
       "      <th>building_type_int_5</th>\n",
       "      <td>0.0</td>\n",
       "    </tr>\n",
       "    <tr>\n",
       "      <th>building_type_int_6</th>\n",
       "      <td>1.0</td>\n",
       "    </tr>\n",
       "    <tr>\n",
       "      <th>floor_group_first_floor</th>\n",
       "      <td>0.0</td>\n",
       "    </tr>\n",
       "    <tr>\n",
       "      <th>floor_group_last_floor</th>\n",
       "      <td>0.0</td>\n",
       "    </tr>\n",
       "    <tr>\n",
       "      <th>floor_group_rest_floor</th>\n",
       "      <td>1.0</td>\n",
       "    </tr>\n",
       "    <tr>\n",
       "      <th>build_year</th>\n",
       "      <td>-0.966574</td>\n",
       "    </tr>\n",
       "    <tr>\n",
       "      <th>ceiling_height</th>\n",
       "      <td>-0.518002</td>\n",
       "    </tr>\n",
       "    <tr>\n",
       "      <th>floors_total</th>\n",
       "      <td>-0.296858</td>\n",
       "    </tr>\n",
       "    <tr>\n",
       "      <th>floor</th>\n",
       "      <td>0.323597</td>\n",
       "    </tr>\n",
       "    <tr>\n",
       "      <th>rooms</th>\n",
       "      <td>-1.170397</td>\n",
       "    </tr>\n",
       "    <tr>\n",
       "      <th>total_area</th>\n",
       "      <td>-0.840759</td>\n",
       "    </tr>\n",
       "    <tr>\n",
       "      <th>flats_count</th>\n",
       "      <td>-0.872631</td>\n",
       "    </tr>\n",
       "    <tr>\n",
       "      <th>kitchen_area</th>\n",
       "      <td>0.065917</td>\n",
       "    </tr>\n",
       "    <tr>\n",
       "      <th>living_area</th>\n",
       "      <td>-0.809813</td>\n",
       "    </tr>\n",
       "    <tr>\n",
       "      <th>latitude</th>\n",
       "      <td>6.0</td>\n",
       "    </tr>\n",
       "    <tr>\n",
       "      <th>longitude</th>\n",
       "      <td>8.0</td>\n",
       "    </tr>\n",
       "    <tr>\n",
       "      <th>id</th>\n",
       "      <td>0</td>\n",
       "    </tr>\n",
       "    <tr>\n",
       "      <th>studio</th>\n",
       "      <td>False</td>\n",
       "    </tr>\n",
       "    <tr>\n",
       "      <th>price</th>\n",
       "      <td>9500000</td>\n",
       "    </tr>\n",
       "    <tr>\n",
       "      <th>building_id</th>\n",
       "      <td>6220</td>\n",
       "    </tr>\n",
       "    <tr>\n",
       "      <th>price_krur</th>\n",
       "      <td>9500.0</td>\n",
       "    </tr>\n",
       "    <tr>\n",
       "      <th>rayon_</th>\n",
       "      <td>6.0/8.0</td>\n",
       "    </tr>\n",
       "  </tbody>\n",
       "</table>\n",
       "</div>"
      ],
      "text/plain": [
       "                                0\n",
       "has_elevator_True             1.0\n",
       "is_apartment_True             0.0\n",
       "building_type_int_0           0.0\n",
       "building_type_int_1           0.0\n",
       "building_type_int_2           0.0\n",
       "building_type_int_3           0.0\n",
       "building_type_int_4           0.0\n",
       "building_type_int_5           0.0\n",
       "building_type_int_6           1.0\n",
       "floor_group_first_floor       0.0\n",
       "floor_group_last_floor        0.0\n",
       "floor_group_rest_floor        1.0\n",
       "build_year              -0.966574\n",
       "ceiling_height          -0.518002\n",
       "floors_total            -0.296858\n",
       "floor                    0.323597\n",
       "rooms                   -1.170397\n",
       "total_area              -0.840759\n",
       "flats_count             -0.872631\n",
       "kitchen_area             0.065917\n",
       "living_area             -0.809813\n",
       "latitude                      6.0\n",
       "longitude                     8.0\n",
       "id                              0\n",
       "studio                      False\n",
       "price                     9500000\n",
       "building_id                  6220\n",
       "price_krur                 9500.0\n",
       "rayon_                    6.0/8.0"
      ]
     },
     "execution_count": 51,
     "metadata": {},
     "output_type": "execute_result"
    }
   ],
   "source": [
    "data_transformed_model_1[['latitude','longitude']]=data_transformed_model_1[['latitude','longitude']].astype('str')\n",
    "data_transformed_model_1['rayon_']=data_transformed_model_1['latitude']+'/'+data_transformed_model_1['longitude']\n",
    "\n",
    "data_transformed_model_1.head(1).T\n"
   ]
  },
  {
   "cell_type": "code",
   "execution_count": 52,
   "id": "75850725",
   "metadata": {},
   "outputs": [],
   "source": [
    "#район #6.0/6.0\n",
    "data_transformed_model_1['rayon']=0\n",
    "mask=(data_transformed_model_1['rayon_']=='6.0/6.0')\n",
    "data_transformed_model_1.loc[mask,'rayon']=1"
   ]
  },
  {
   "cell_type": "code",
   "execution_count": 53,
   "id": "166a9e5f",
   "metadata": {},
   "outputs": [
    {
     "data": {
      "text/plain": [
       "rayon\n",
       "0    120203\n",
       "1      5923\n",
       "Name: count, dtype: int64"
      ]
     },
     "execution_count": 53,
     "metadata": {},
     "output_type": "execute_result"
    }
   ],
   "source": [
    "data_transformed_model_1['rayon'].value_counts()\n",
    "#проверяю\n",
    "#data_transformed_model_1.query('rayon==1')"
   ]
  },
  {
   "cell_type": "code",
   "execution_count": 54,
   "id": "98d61639",
   "metadata": {},
   "outputs": [
    {
     "data": {
      "text/html": [
       "<div>\n",
       "<style scoped>\n",
       "    .dataframe tbody tr th:only-of-type {\n",
       "        vertical-align: middle;\n",
       "    }\n",
       "\n",
       "    .dataframe tbody tr th {\n",
       "        vertical-align: top;\n",
       "    }\n",
       "\n",
       "    .dataframe thead th {\n",
       "        text-align: right;\n",
       "    }\n",
       "</style>\n",
       "<table border=\"1\" class=\"dataframe\">\n",
       "  <thead>\n",
       "    <tr style=\"text-align: right;\">\n",
       "      <th></th>\n",
       "      <th>0</th>\n",
       "    </tr>\n",
       "  </thead>\n",
       "  <tbody>\n",
       "    <tr>\n",
       "      <th>has_elevator_True</th>\n",
       "      <td>1.0</td>\n",
       "    </tr>\n",
       "    <tr>\n",
       "      <th>is_apartment_True</th>\n",
       "      <td>0.0</td>\n",
       "    </tr>\n",
       "    <tr>\n",
       "      <th>building_type_int_0</th>\n",
       "      <td>0.0</td>\n",
       "    </tr>\n",
       "    <tr>\n",
       "      <th>building_type_int_1</th>\n",
       "      <td>0.0</td>\n",
       "    </tr>\n",
       "    <tr>\n",
       "      <th>building_type_int_2</th>\n",
       "      <td>0.0</td>\n",
       "    </tr>\n",
       "    <tr>\n",
       "      <th>building_type_int_3</th>\n",
       "      <td>0.0</td>\n",
       "    </tr>\n",
       "    <tr>\n",
       "      <th>building_type_int_4</th>\n",
       "      <td>0.0</td>\n",
       "    </tr>\n",
       "    <tr>\n",
       "      <th>building_type_int_5</th>\n",
       "      <td>0.0</td>\n",
       "    </tr>\n",
       "    <tr>\n",
       "      <th>building_type_int_6</th>\n",
       "      <td>1.0</td>\n",
       "    </tr>\n",
       "    <tr>\n",
       "      <th>floor_group_first_floor</th>\n",
       "      <td>0.0</td>\n",
       "    </tr>\n",
       "    <tr>\n",
       "      <th>floor_group_last_floor</th>\n",
       "      <td>0.0</td>\n",
       "    </tr>\n",
       "    <tr>\n",
       "      <th>floor_group_rest_floor</th>\n",
       "      <td>1.0</td>\n",
       "    </tr>\n",
       "    <tr>\n",
       "      <th>build_year</th>\n",
       "      <td>-0.966574</td>\n",
       "    </tr>\n",
       "    <tr>\n",
       "      <th>ceiling_height</th>\n",
       "      <td>-0.518002</td>\n",
       "    </tr>\n",
       "    <tr>\n",
       "      <th>floors_total</th>\n",
       "      <td>-0.296858</td>\n",
       "    </tr>\n",
       "    <tr>\n",
       "      <th>floor</th>\n",
       "      <td>0.323597</td>\n",
       "    </tr>\n",
       "    <tr>\n",
       "      <th>rooms</th>\n",
       "      <td>-1.170397</td>\n",
       "    </tr>\n",
       "    <tr>\n",
       "      <th>total_area</th>\n",
       "      <td>-0.840759</td>\n",
       "    </tr>\n",
       "    <tr>\n",
       "      <th>flats_count</th>\n",
       "      <td>-0.872631</td>\n",
       "    </tr>\n",
       "    <tr>\n",
       "      <th>kitchen_area</th>\n",
       "      <td>0.065917</td>\n",
       "    </tr>\n",
       "    <tr>\n",
       "      <th>living_area</th>\n",
       "      <td>-0.809813</td>\n",
       "    </tr>\n",
       "    <tr>\n",
       "      <th>price</th>\n",
       "      <td>9500000</td>\n",
       "    </tr>\n",
       "    <tr>\n",
       "      <th>rayon</th>\n",
       "      <td>0</td>\n",
       "    </tr>\n",
       "  </tbody>\n",
       "</table>\n",
       "</div>"
      ],
      "text/plain": [
       "                                0\n",
       "has_elevator_True             1.0\n",
       "is_apartment_True             0.0\n",
       "building_type_int_0           0.0\n",
       "building_type_int_1           0.0\n",
       "building_type_int_2           0.0\n",
       "building_type_int_3           0.0\n",
       "building_type_int_4           0.0\n",
       "building_type_int_5           0.0\n",
       "building_type_int_6           1.0\n",
       "floor_group_first_floor       0.0\n",
       "floor_group_last_floor        0.0\n",
       "floor_group_rest_floor        1.0\n",
       "build_year              -0.966574\n",
       "ceiling_height          -0.518002\n",
       "floors_total            -0.296858\n",
       "floor                    0.323597\n",
       "rooms                   -1.170397\n",
       "total_area              -0.840759\n",
       "flats_count             -0.872631\n",
       "kitchen_area             0.065917\n",
       "living_area             -0.809813\n",
       "price                     9500000\n",
       "rayon                           0"
      ]
     },
     "execution_count": 54,
     "metadata": {},
     "output_type": "execute_result"
    }
   ],
   "source": [
    "#удаляю лишние признаки\n",
    "data_transformed_model_1=data_transformed_model_1.drop(columns=['id','latitude','longitude','studio','building_id','price_krur','rayon_'])\n",
    "data_transformed_model_1.head(1).T"
   ]
  },
  {
   "cell_type": "code",
   "execution_count": 69,
   "id": "4ce0336f",
   "metadata": {},
   "outputs": [],
   "source": [
    "# 3.3 автоматическая генерация признаков"
   ]
  },
  {
   "cell_type": "code",
   "execution_count": 70,
   "id": "0cb51fa9",
   "metadata": {},
   "outputs": [],
   "source": [
    "#этот шаг пропускаю, постоянно вылетает виртуальная машина, получается только на сэмпле сгенерить признаки\n",
    "#см файл notebook7_v3_backup"
   ]
  },
  {
   "cell_type": "code",
   "execution_count": 71,
   "id": "3053373a",
   "metadata": {},
   "outputs": [],
   "source": [
    "# 3.4 обучение новой версии модели"
   ]
  },
  {
   "cell_type": "code",
   "execution_count": 55,
   "id": "d7e49fb4",
   "metadata": {},
   "outputs": [],
   "source": [
    "x=data_transformed_model_1.drop(columns=['price'])\n",
    "y=data_transformed_model_1['price']\n",
    "\n",
    "from sklearn.model_selection import train_test_split\n",
    "X_train, X_test, y_train, y_test = train_test_split(x,y,test_size=0.2) "
   ]
  },
  {
   "cell_type": "code",
   "execution_count": 56,
   "id": "197f3815",
   "metadata": {},
   "outputs": [
    {
     "data": {
      "text/html": [
       "<div>\n",
       "<style scoped>\n",
       "    .dataframe tbody tr th:only-of-type {\n",
       "        vertical-align: middle;\n",
       "    }\n",
       "\n",
       "    .dataframe tbody tr th {\n",
       "        vertical-align: top;\n",
       "    }\n",
       "\n",
       "    .dataframe thead th {\n",
       "        text-align: right;\n",
       "    }\n",
       "</style>\n",
       "<table border=\"1\" class=\"dataframe\">\n",
       "  <thead>\n",
       "    <tr style=\"text-align: right;\">\n",
       "      <th></th>\n",
       "      <th>feature</th>\n",
       "      <th>coeff</th>\n",
       "    </tr>\n",
       "  </thead>\n",
       "  <tbody>\n",
       "    <tr>\n",
       "      <th>0</th>\n",
       "      <td>has_elevator_True</td>\n",
       "      <td>457.662136</td>\n",
       "    </tr>\n",
       "    <tr>\n",
       "      <th>1</th>\n",
       "      <td>is_apartment_True</td>\n",
       "      <td>-416.556055</td>\n",
       "    </tr>\n",
       "    <tr>\n",
       "      <th>2</th>\n",
       "      <td>building_type_int_0</td>\n",
       "      <td>867.551857</td>\n",
       "    </tr>\n",
       "    <tr>\n",
       "      <th>3</th>\n",
       "      <td>building_type_int_1</td>\n",
       "      <td>-170.854750</td>\n",
       "    </tr>\n",
       "    <tr>\n",
       "      <th>4</th>\n",
       "      <td>building_type_int_2</td>\n",
       "      <td>3189.144832</td>\n",
       "    </tr>\n",
       "    <tr>\n",
       "      <th>5</th>\n",
       "      <td>building_type_int_3</td>\n",
       "      <td>2722.709139</td>\n",
       "    </tr>\n",
       "    <tr>\n",
       "      <th>6</th>\n",
       "      <td>building_type_int_4</td>\n",
       "      <td>-232.929279</td>\n",
       "    </tr>\n",
       "    <tr>\n",
       "      <th>7</th>\n",
       "      <td>building_type_int_5</td>\n",
       "      <td>-6609.040867</td>\n",
       "    </tr>\n",
       "    <tr>\n",
       "      <th>8</th>\n",
       "      <td>building_type_int_6</td>\n",
       "      <td>233.419068</td>\n",
       "    </tr>\n",
       "    <tr>\n",
       "      <th>9</th>\n",
       "      <td>floor_group_first_floor</td>\n",
       "      <td>-688.707765</td>\n",
       "    </tr>\n",
       "    <tr>\n",
       "      <th>10</th>\n",
       "      <td>floor_group_last_floor</td>\n",
       "      <td>120.821861</td>\n",
       "    </tr>\n",
       "    <tr>\n",
       "      <th>11</th>\n",
       "      <td>floor_group_rest_floor</td>\n",
       "      <td>567.885904</td>\n",
       "    </tr>\n",
       "    <tr>\n",
       "      <th>12</th>\n",
       "      <td>build_year</td>\n",
       "      <td>-1288.521655</td>\n",
       "    </tr>\n",
       "    <tr>\n",
       "      <th>13</th>\n",
       "      <td>ceiling_height</td>\n",
       "      <td>1494.172255</td>\n",
       "    </tr>\n",
       "    <tr>\n",
       "      <th>14</th>\n",
       "      <td>floors_total</td>\n",
       "      <td>385.599064</td>\n",
       "    </tr>\n",
       "    <tr>\n",
       "      <th>15</th>\n",
       "      <td>floor</td>\n",
       "      <td>-8.035194</td>\n",
       "    </tr>\n",
       "    <tr>\n",
       "      <th>16</th>\n",
       "      <td>rooms</td>\n",
       "      <td>-1845.380082</td>\n",
       "    </tr>\n",
       "    <tr>\n",
       "      <th>17</th>\n",
       "      <td>total_area</td>\n",
       "      <td>8064.449406</td>\n",
       "    </tr>\n",
       "    <tr>\n",
       "      <th>18</th>\n",
       "      <td>flats_count</td>\n",
       "      <td>-545.131133</td>\n",
       "    </tr>\n",
       "    <tr>\n",
       "      <th>19</th>\n",
       "      <td>kitchen_area</td>\n",
       "      <td>400.231147</td>\n",
       "    </tr>\n",
       "    <tr>\n",
       "      <th>20</th>\n",
       "      <td>living_area</td>\n",
       "      <td>1408.480213</td>\n",
       "    </tr>\n",
       "    <tr>\n",
       "      <th>21</th>\n",
       "      <td>rayon</td>\n",
       "      <td>11145.631921</td>\n",
       "    </tr>\n",
       "  </tbody>\n",
       "</table>\n",
       "</div>"
      ],
      "text/plain": [
       "                    feature         coeff\n",
       "0         has_elevator_True    457.662136\n",
       "1         is_apartment_True   -416.556055\n",
       "2       building_type_int_0    867.551857\n",
       "3       building_type_int_1   -170.854750\n",
       "4       building_type_int_2   3189.144832\n",
       "5       building_type_int_3   2722.709139\n",
       "6       building_type_int_4   -232.929279\n",
       "7       building_type_int_5  -6609.040867\n",
       "8       building_type_int_6    233.419068\n",
       "9   floor_group_first_floor   -688.707765\n",
       "10   floor_group_last_floor    120.821861\n",
       "11   floor_group_rest_floor    567.885904\n",
       "12               build_year  -1288.521655\n",
       "13           ceiling_height   1494.172255\n",
       "14             floors_total    385.599064\n",
       "15                    floor     -8.035194\n",
       "16                    rooms  -1845.380082\n",
       "17               total_area   8064.449406\n",
       "18              flats_count   -545.131133\n",
       "19             kitchen_area    400.231147\n",
       "20              living_area   1408.480213\n",
       "21                    rayon  11145.631921"
      ]
     },
     "execution_count": 56,
     "metadata": {},
     "output_type": "execute_result"
    }
   ],
   "source": [
    "#учу модель 1\n",
    "\n",
    "from sklearn.linear_model import Ridge\n",
    "model_1=Ridge()\n",
    "model_1=model_1.fit(X_train,y_train)\n",
    "y_pred_1=model_1.predict(X_test)\n",
    "\n",
    "\n",
    "features_1=pd.DataFrame(X_train.columns)\n",
    "features_1.columns=['feature']\n",
    "features_1['coeff']=model_1.coef_/1000\n",
    "features_1"
   ]
  },
  {
   "cell_type": "code",
   "execution_count": 57,
   "id": "88fd607f",
   "metadata": {},
   "outputs": [
    {
     "data": {
      "image/png": "[encoded data removed]",
      "text/plain": [
       "<Figure size 640x480 with 1 Axes>"
      ]
     },
     "metadata": {},
     "output_type": "display_data"
    }
   ],
   "source": [
    "\n",
    "df_1=pd.DataFrame(y_test/1000) \n",
    "\n",
    "df_1['y_pred']=y_pred_1/1000\n",
    "#df_1\n",
    "\n",
    "fig_1=plt.scatter(df_1['price'],df_1['y_pred'])\n",
    "fig_1\n",
    "plt.savefig(\"artifacts/figure_1.png\")\n",
    "\n",
    "#чуть поменялся масштаб графика"
   ]
  },
  {
   "cell_type": "code",
   "execution_count": 58,
   "id": "8e266b13",
   "metadata": {},
   "outputs": [
    {
     "data": {
      "text/plain": [
       "{'r2': 0.7187323105446903, 'mse': 40475464284352.66}"
      ]
     },
     "execution_count": 58,
     "metadata": {},
     "output_type": "execute_result"
    }
   ],
   "source": [
    "#Расчет метрик\n",
    "\n",
    "# расчёт метрик качества\n",
    "metrics_1 = {}\n",
    "r2_sc = r2_score(y_test,y_pred_1)\n",
    "metrics_1[\"r2\"] = r2_sc\n",
    "mse=mean_squared_error(y_test,y_pred_1)\n",
    "metrics_1[\"mse\"]=mse\n",
    "\n",
    "metrics_1"
   ]
  },
  {
   "cell_type": "markdown",
   "id": "c8659bbc",
   "metadata": {},
   "source": [
    "обе метрики стали лучше по сравнению с базовой моделью"
   ]
  },
  {
   "cell_type": "code",
   "execution_count": 76,
   "id": "7f5820bf",
   "metadata": {},
   "outputs": [],
   "source": [
    "# 3.5 логирование артефактов в MLflow"
   ]
  },
  {
   "cell_type": "code",
   "execution_count": 77,
   "id": "31729ea3",
   "metadata": {},
   "outputs": [],
   "source": [
    "#в MLFLOW\n",
    "\n",
    "##MLFLOW info\n",
    "\n",
    "EXPERIMENT_NAME = \"SPRINT_2_PROJECT_EXP\"\n",
    "RUN_NAME = \"SPRINT_2_new_features\"\n",
    "REGISTRY_MODEL_NAME =\"MODEL_1\"\n",
    "\n",
    "\n",
    "if mlflow.get_experiment_by_name(name=EXPERIMENT_NAME):\n",
    "    experiment_id = dict(mlflow.get_experiment_by_name(name=EXPERIMENT_NAME))['experiment_id']\n",
    "    mlflow.set_experiment(experiment_id=experiment_id)\n",
    "else:\n",
    "    mlflow.set_experiment(EXPERIMENT_NAME)\n",
    "    experiment_id = dict(mlflow.get_experiment_by_name(name=EXPERIMENT_NAME))['experiment_id']\n",
    "    mlflow.set_experiment(experiment_id=experiment_id)\n",
    "  "
   ]
  },
  {
   "cell_type": "code",
   "execution_count": 78,
   "id": "4f3c5c8e",
   "metadata": {},
   "outputs": [
    {
     "data": {
      "text/plain": [
       "'25'"
      ]
     },
     "execution_count": 78,
     "metadata": {},
     "output_type": "execute_result"
    }
   ],
   "source": [
    "experiment_id"
   ]
  },
  {
   "cell_type": "code",
   "execution_count": 79,
   "id": "21d83540",
   "metadata": {},
   "outputs": [
    {
     "name": "stderr",
     "output_type": "stream",
     "text": [
      "/home/mle-user/mle_projects/mle-project-sprint-2/.venv_project_sprint2/lib/python3.10/site-packages/mlflow/models/signature.py:212: UserWarning: Hint: Inferred schema contains integer column(s). Integer columns in Python cannot represent missing values. If your input data contains missing values at inference time, it will be encoded as floats and will cause a schema enforcement error. The best way to avoid this problem is to infer the model schema based on a realistic data sample (training dataset) that includes missing values. Alternatively, you can declare integer columns as doubles (float64) whenever these columns may have missing values. See `Handling Integers With Missing Values <https://www.mlflow.org/docs/latest/models.html#handling-integers-with-missing-values>`_ for more details.\n",
      "  inputs = _infer_schema(model_input) if model_input is not None else None\n",
      "/home/mle-user/mle_projects/mle-project-sprint-2/.venv_project_sprint2/lib/python3.10/site-packages/mlflow/models/signature.py:213: UserWarning: Hint: Inferred schema contains integer column(s). Integer columns in Python cannot represent missing values. If your input data contains missing values at inference time, it will be encoded as floats and will cause a schema enforcement error. The best way to avoid this problem is to infer the model schema based on a realistic data sample (training dataset) that includes missing values. Alternatively, you can declare integer columns as doubles (float64) whenever these columns may have missing values. See `Handling Integers With Missing Values <https://www.mlflow.org/docs/latest/models.html#handling-integers-with-missing-values>`_ for more details.\n",
      "  outputs = _infer_schema(model_output) if model_output is not None else None\n",
      "Registered model 'MODEL_1' already exists. Creating a new version of this model...\n",
      "2024/12/06 16:03:31 INFO mlflow.tracking._model_registry.client: Waiting up to 60 seconds for model version to finish creation. Model name: MODEL_1, version 6\n",
      "Created version '6' of model 'MODEL_1'.\n"
     ]
    }
   ],
   "source": [
    "signature = mlflow.models.infer_signature(X_test, y_test)\n",
    "input_example = X_test[:10]\n",
    "\n",
    "with mlflow.start_run(run_name=RUN_NAME, experiment_id=experiment_id) as run:\n",
    "    run_id = run.info.run_id\n",
    "    model_1.fit(X_train, y_train)\n",
    "    y_pred_1 = model_1.predict(X_test)\n",
    "\n",
    "    r2_sc = r2_score(y_test,y_pred_1)\n",
    "    mse=mean_squared_error(y_test,y_pred_1)\n",
    "    model_info = mlflow.sklearn.log_model(\n",
    "        sk_model=model,\n",
    "        artifact_path=\"models_sprint2\",\n",
    "        registered_model_name=REGISTRY_MODEL_NAME,\n",
    "        signature=signature,\n",
    "        input_example=input_example,\n",
    "        await_registration_for=60\n",
    "\t\t)\n",
    "    mlflow.log_metric(\"r2\", r2_sc)\n",
    "    mlflow.log_metric(\"MSE\", mse)\n",
    "    mlflow.log_artifact(\"artifacts/figure_1.png\",\"artifacts\")"
   ]
  },
  {
   "cell_type": "markdown",
   "id": "6b9191a1-28e5-409f-8958-ad0536da2830",
   "metadata": {},
   "source": [
    "#### Этап 4: Отбор Признаков и Обучение Новой Версии Модели\n",
    "Создание новых признаков — это лишь часть работы. Следующий важный шаг — это убедиться в том, что каждый из этих признаков действительно вносит положительный вклад в качество модели. Некоторые признаки могут оказывать отрицательное влияние на модель, поэтому их следует исключить из анализа.\n",
    "\n",
    "На этом этапе, мы рекомендуем вам применить различные методы отбора признаков для того, чтобы определить и удалить те признаки, которые не улучшают качество вашей модели. Цель этого этапа — максимизировать производительность модели, удалив избыточные или неинформативные признаки.\n",
    "\n",
    "После тщательного отбора признаков, пора обучить новую версию вашей модели, уже без негативно влияющих на неё признаков. Важно залогировать результаты этого этапа, включая измененный набор признаков, параметры модели и полученные метрики качества, в MLflow для последующего анализа и сравнения.\n",
    "\n",
    "Рекомендуемые шаги:\n",
    "\n",
    "- Применение методов отбора признаков для идентификации и исключения признаков, ухудшающих качество модели.\n",
    "- Анализ влияния каждого признака на модель, чтобы понять, какие из них наиболее ценные.\n",
    "- Обучение новой версии модели без негативно влияющих признаков.\n",
    "- Логирование всех изменений и результатов в MLflow, включая конечный набор признаков, параметры модели и метрики качества.\n",
    "\n",
    "Этот этап не только поможет улучшить качество вашей модели, но и даст глубокое понимание о важности и влиянии отдельных признаков на результаты моделирования.\n"
   ]
  },
  {
   "cell_type": "code",
   "execution_count": 80,
   "id": "05402c42-78e0-4efe-86b2-8327409f1cd9",
   "metadata": {},
   "outputs": [],
   "source": [
    "# 4.1 Отбор признаков при помощи метода номер 1"
   ]
  },
  {
   "cell_type": "code",
   "execution_count": 81,
   "id": "8327cf39",
   "metadata": {},
   "outputs": [],
   "source": [
    "from mlxtend.feature_selection import SequentialFeatureSelector as SFS\n",
    "\n",
    "from sklearn.linear_model import Ridge\n",
    "model=Ridge()\n",
    "sbs1 = SFS(model_1, k_features=9,forward=True, floating=False, scoring='neg_mean_squared_error', cv=3, n_jobs=1)\n",
    "\n",
    "sbs1 = sbs1.fit(X_train, y_train)"
   ]
  },
  {
   "cell_type": "code",
   "execution_count": null,
   "id": "89b66f4f",
   "metadata": {},
   "outputs": [
    {
     "data": {
      "text/plain": [
       "('building_type_int_2',\n",
       " 'building_type_int_4',\n",
       " 'build_year',\n",
       " 'ceiling_height',\n",
       " 'rooms',\n",
       " 'total_area',\n",
       " 'flats_count',\n",
       " 'rayon')"
      ]
     },
     "execution_count": 82,
     "metadata": {},
     "output_type": "execute_result"
    }
   ],
   "source": [
    "# Выбор признаков с помощью SBS\n",
    "selected_feature_indices = sbs1.k_feature_idx_\n",
    "#top_sfs=np.array(df)[list(selected_feature_indices)]\n",
    "top_sfs=sbs1.k_feature_names_\n",
    "top_sfs"
   ]
  },
  {
   "cell_type": "code",
   "execution_count": 83,
   "id": "1589a07b",
   "metadata": {},
   "outputs": [
    {
     "data": {
      "text/plain": [
       "['building_type_int_2',\n",
       " 'building_type_int_4',\n",
       " 'build_year',\n",
       " 'ceiling_height',\n",
       " 'rooms',\n",
       " 'total_area',\n",
       " 'flats_count',\n",
       " 'rayon']"
      ]
     },
     "execution_count": 83,
     "metadata": {},
     "output_type": "execute_result"
    }
   ],
   "source": [
    "feature_otbor=[]\n",
    "\n",
    "for i in range(len(top_sfs)):\n",
    "    feature_otbor.append(top_sfs[i])\n",
    "feature_otbor"
   ]
  },
  {
   "cell_type": "code",
   "execution_count": 84,
   "id": "a2d5d2c3",
   "metadata": {},
   "outputs": [],
   "source": [
    "# 4.2 Отбор признаков при помощи метода номер 2"
   ]
  },
  {
   "cell_type": "code",
   "execution_count": 85,
   "id": "760792bd",
   "metadata": {},
   "outputs": [],
   "source": [
    "#в обратную сторону\n",
    "\n",
    "sbs2 = SFS(model_1, k_features=9, forward=False, floating=False, scoring='neg_mean_squared_error', cv=2, n_jobs=1)\n",
    "sbs2 = sbs2.fit(X_train, y_train)"
   ]
  },
  {
   "cell_type": "code",
   "execution_count": 86,
   "id": "a7b79254",
   "metadata": {},
   "outputs": [
    {
     "data": {
      "text/plain": [
       "('building_type_int_2',\n",
       " 'build_year',\n",
       " 'ceiling_height',\n",
       " 'floors_total',\n",
       " 'rooms',\n",
       " 'total_area',\n",
       " 'flats_count',\n",
       " 'rayon')"
      ]
     },
     "execution_count": 86,
     "metadata": {},
     "output_type": "execute_result"
    }
   ],
   "source": [
    "# Выбор признаков с помощью SBS\n",
    "selected_feature_indices2 = sbs2.k_feature_idx_\n",
    "#top_sbs=np.array(df)[list(selected_feature_indices2)]\n",
    "top_sbs=sbs2.k_feature_names_\n",
    "top_sbs"
   ]
  },
  {
   "cell_type": "code",
   "execution_count": 87,
   "id": "37e4b51b",
   "metadata": {},
   "outputs": [
    {
     "data": {
      "text/plain": [
       "['building_type_int_2',\n",
       " 'build_year',\n",
       " 'ceiling_height',\n",
       " 'floors_total',\n",
       " 'rooms',\n",
       " 'total_area',\n",
       " 'flats_count',\n",
       " 'rayon']"
      ]
     },
     "execution_count": 87,
     "metadata": {},
     "output_type": "execute_result"
    }
   ],
   "source": [
    "feature_otbor2=[]\n",
    "\n",
    "for i in range(len(top_sbs)):\n",
    "    feature_otbor2.append(top_sbs[i])\n",
    "feature_otbor2"
   ]
  },
  {
   "cell_type": "code",
   "execution_count": 88,
   "id": "b059f15e",
   "metadata": {},
   "outputs": [
    {
     "data": {
      "text/plain": [
       "['flats_count',\n",
       " 'floors_total',\n",
       " 'rayon',\n",
       " 'building_type_int_4',\n",
       " 'rooms',\n",
       " 'building_type_int_2',\n",
       " 'build_year',\n",
       " 'ceiling_height',\n",
       " 'total_area']"
      ]
     },
     "execution_count": 88,
     "metadata": {},
     "output_type": "execute_result"
    }
   ],
   "source": [
    "feature_otbor_result=list(set(feature_otbor).union(feature_otbor2))\n",
    "feature_otbor_result"
   ]
  },
  {
   "cell_type": "code",
   "execution_count": 93,
   "id": "2464f451",
   "metadata": {},
   "outputs": [],
   "source": [
    "# 4.3 Анализ отобранных признаков при помощи двух методов и формирование финального списка с признаками для модели"
   ]
  },
  {
   "cell_type": "code",
   "execution_count": 89,
   "id": "a7511240",
   "metadata": {},
   "outputs": [
    {
     "data": {
      "text/html": [
       "<div>\n",
       "<style scoped>\n",
       "    .dataframe tbody tr th:only-of-type {\n",
       "        vertical-align: middle;\n",
       "    }\n",
       "\n",
       "    .dataframe tbody tr th {\n",
       "        vertical-align: top;\n",
       "    }\n",
       "\n",
       "    .dataframe thead th {\n",
       "        text-align: right;\n",
       "    }\n",
       "</style>\n",
       "<table border=\"1\" class=\"dataframe\">\n",
       "  <thead>\n",
       "    <tr style=\"text-align: right;\">\n",
       "      <th></th>\n",
       "      <th>flats_count</th>\n",
       "      <th>floors_total</th>\n",
       "      <th>rayon</th>\n",
       "      <th>building_type_int_4</th>\n",
       "      <th>rooms</th>\n",
       "      <th>building_type_int_2</th>\n",
       "      <th>build_year</th>\n",
       "      <th>ceiling_height</th>\n",
       "      <th>total_area</th>\n",
       "    </tr>\n",
       "  </thead>\n",
       "  <tbody>\n",
       "    <tr>\n",
       "      <th>78330</th>\n",
       "      <td>0.575089</td>\n",
       "      <td>0.36246</td>\n",
       "      <td>0</td>\n",
       "      <td>0.0</td>\n",
       "      <td>1.00163</td>\n",
       "      <td>1.0</td>\n",
       "      <td>1.467504</td>\n",
       "      <td>1.350878</td>\n",
       "      <td>1.22046</td>\n",
       "    </tr>\n",
       "    <tr>\n",
       "      <th>113963</th>\n",
       "      <td>-0.638441</td>\n",
       "      <td>0.527289</td>\n",
       "      <td>0</td>\n",
       "      <td>1.0</td>\n",
       "      <td>-1.170397</td>\n",
       "      <td>0.0</td>\n",
       "      <td>0.227502</td>\n",
       "      <td>-0.518002</td>\n",
       "      <td>-0.700954</td>\n",
       "    </tr>\n",
       "    <tr>\n",
       "      <th>72731</th>\n",
       "      <td>-0.947146</td>\n",
       "      <td>0.032801</td>\n",
       "      <td>0</td>\n",
       "      <td>0.0</td>\n",
       "      <td>1.00163</td>\n",
       "      <td>0.0</td>\n",
       "      <td>-0.415462</td>\n",
       "      <td>-0.518002</td>\n",
       "      <td>0.829724</td>\n",
       "    </tr>\n",
       "  </tbody>\n",
       "</table>\n",
       "</div>"
      ],
      "text/plain": [
       "       flats_count floors_total  rayon building_type_int_4     rooms   \n",
       "78330     0.575089      0.36246      0                 0.0   1.00163  \\\n",
       "113963   -0.638441     0.527289      0                 1.0 -1.170397   \n",
       "72731    -0.947146     0.032801      0                 0.0   1.00163   \n",
       "\n",
       "       building_type_int_2 build_year ceiling_height total_area  \n",
       "78330                  1.0   1.467504       1.350878    1.22046  \n",
       "113963                 0.0   0.227502      -0.518002  -0.700954  \n",
       "72731                  0.0  -0.415462      -0.518002   0.829724  "
      ]
     },
     "execution_count": 89,
     "metadata": {},
     "output_type": "execute_result"
    }
   ],
   "source": [
    "X_train_selected = X_train[feature_otbor_result]\n",
    "X_test_selected = X_test[feature_otbor_result]\n",
    "\n",
    "X_train_selected.head(3)"
   ]
  },
  {
   "cell_type": "code",
   "execution_count": 94,
   "id": "e2ec9e97",
   "metadata": {},
   "outputs": [],
   "source": [
    "# 4.4 Обучение новой версии модели"
   ]
  },
  {
   "cell_type": "code",
   "execution_count": 90,
   "id": "70c7705a",
   "metadata": {},
   "outputs": [],
   "source": [
    "model_2=Ridge()\n",
    "model_otbor=model_2.fit(X_train_selected,y_train)\n",
    "y_pred_otbor=model_2.predict(X_test_selected)"
   ]
  },
  {
   "cell_type": "code",
   "execution_count": 91,
   "id": "185e7e3e",
   "metadata": {},
   "outputs": [
    {
     "data": {
      "text/plain": [
       "{'r2': 0.7105984859677652, 'mse': 41181795480470.0}"
      ]
     },
     "execution_count": 91,
     "metadata": {},
     "output_type": "execute_result"
    }
   ],
   "source": [
    "# расчёт метрик качества\n",
    "metrics_2 = {}\n",
    "r2_sc = r2_score(y_test,y_pred_otbor)\n",
    "metrics_2[\"r2\"] = r2_sc\n",
    "mse=mean_squared_error(y_test,y_pred_otbor)\n",
    "metrics_2[\"mse\"]=mse\n",
    "\n",
    "metrics_2"
   ]
  },
  {
   "cell_type": "markdown",
   "id": "850b0322",
   "metadata": {},
   "source": [
    "качество почти не поменялось после удаления более половины признаков\n",
    "интерпретировать модель так гораздо проще"
   ]
  },
  {
   "cell_type": "code",
   "execution_count": 92,
   "id": "5543a68f",
   "metadata": {},
   "outputs": [
    {
     "data": {
      "text/html": [
       "<div>\n",
       "<style scoped>\n",
       "    .dataframe tbody tr th:only-of-type {\n",
       "        vertical-align: middle;\n",
       "    }\n",
       "\n",
       "    .dataframe tbody tr th {\n",
       "        vertical-align: top;\n",
       "    }\n",
       "\n",
       "    .dataframe thead th {\n",
       "        text-align: right;\n",
       "    }\n",
       "</style>\n",
       "<table border=\"1\" class=\"dataframe\">\n",
       "  <thead>\n",
       "    <tr style=\"text-align: right;\">\n",
       "      <th></th>\n",
       "      <th>feature</th>\n",
       "      <th>coeff</th>\n",
       "    </tr>\n",
       "  </thead>\n",
       "  <tbody>\n",
       "    <tr>\n",
       "      <th>0</th>\n",
       "      <td>flats_count</td>\n",
       "      <td>-525.939459</td>\n",
       "    </tr>\n",
       "    <tr>\n",
       "      <th>1</th>\n",
       "      <td>floors_total</td>\n",
       "      <td>518.595171</td>\n",
       "    </tr>\n",
       "    <tr>\n",
       "      <th>2</th>\n",
       "      <td>rayon</td>\n",
       "      <td>11350.646222</td>\n",
       "    </tr>\n",
       "    <tr>\n",
       "      <th>3</th>\n",
       "      <td>building_type_int_4</td>\n",
       "      <td>-421.303757</td>\n",
       "    </tr>\n",
       "    <tr>\n",
       "      <th>4</th>\n",
       "      <td>rooms</td>\n",
       "      <td>-1685.226532</td>\n",
       "    </tr>\n",
       "    <tr>\n",
       "      <th>5</th>\n",
       "      <td>building_type_int_2</td>\n",
       "      <td>2835.435495</td>\n",
       "    </tr>\n",
       "    <tr>\n",
       "      <th>6</th>\n",
       "      <td>build_year</td>\n",
       "      <td>-1152.187699</td>\n",
       "    </tr>\n",
       "    <tr>\n",
       "      <th>7</th>\n",
       "      <td>ceiling_height</td>\n",
       "      <td>1517.138525</td>\n",
       "    </tr>\n",
       "    <tr>\n",
       "      <th>8</th>\n",
       "      <td>total_area</td>\n",
       "      <td>9533.615945</td>\n",
       "    </tr>\n",
       "  </tbody>\n",
       "</table>\n",
       "</div>"
      ],
      "text/plain": [
       "               feature         coeff\n",
       "0          flats_count   -525.939459\n",
       "1         floors_total    518.595171\n",
       "2                rayon  11350.646222\n",
       "3  building_type_int_4   -421.303757\n",
       "4                rooms  -1685.226532\n",
       "5  building_type_int_2   2835.435495\n",
       "6           build_year  -1152.187699\n",
       "7       ceiling_height   1517.138525\n",
       "8           total_area   9533.615945"
      ]
     },
     "execution_count": 92,
     "metadata": {},
     "output_type": "execute_result"
    }
   ],
   "source": [
    "features_2=pd.DataFrame(X_train_selected.columns)\n",
    "features_2.columns=['feature']\n",
    "features_2['coeff']=model_2.coef_/1000\n",
    "features_2"
   ]
  },
  {
   "cell_type": "markdown",
   "id": "b5b30658",
   "metadata": {},
   "source": [
    "Самые важные признаки - это район и общая площадь\n",
    "старые дома ценятся выше новых"
   ]
  },
  {
   "cell_type": "code",
   "execution_count": 95,
   "id": "9481f47d",
   "metadata": {},
   "outputs": [],
   "source": [
    "# 4.5 Логирование всех артефактов в MLflow"
   ]
  },
  {
   "cell_type": "code",
   "execution_count": 105,
   "id": "15b7cfcc",
   "metadata": {},
   "outputs": [],
   "source": [
    "#в MLFLOW\n",
    "\n",
    "##MLFLOW info\n",
    "\n",
    "EXPERIMENT_NAME = \"SPRINT_2_PROJECT_EXP\"\n",
    "RUN_NAME = \"SPRINT_2_drop_features\"\n",
    "REGISTRY_MODEL_NAME =\"MODEL_2\"\n",
    "\n",
    "\n",
    "if mlflow.get_experiment_by_name(name=EXPERIMENT_NAME):\n",
    "    experiment_id = dict(mlflow.get_experiment_by_name(name=EXPERIMENT_NAME))['experiment_id']\n",
    "    mlflow.set_experiment(experiment_id=experiment_id)\n",
    "else:\n",
    "    mlflow.set_experiment(EXPERIMENT_NAME)\n",
    "    experiment_id = dict(mlflow.get_experiment_by_name(name=EXPERIMENT_NAME))['experiment_id']\n",
    "    mlflow.set_experiment(experiment_id=experiment_id)"
   ]
  },
  {
   "cell_type": "code",
   "execution_count": 106,
   "id": "9b880f07",
   "metadata": {},
   "outputs": [
    {
     "data": {
      "text/plain": [
       "'25'"
      ]
     },
     "execution_count": 106,
     "metadata": {},
     "output_type": "execute_result"
    }
   ],
   "source": [
    "experiment_id"
   ]
  },
  {
   "cell_type": "code",
   "execution_count": 107,
   "id": "6c525e7a",
   "metadata": {},
   "outputs": [
    {
     "name": "stderr",
     "output_type": "stream",
     "text": [
      "/home/mle-user/mle_projects/mle-project-sprint-2/.venv_project_sprint2/lib/python3.10/site-packages/mlflow/models/signature.py:212: UserWarning: Hint: Inferred schema contains integer column(s). Integer columns in Python cannot represent missing values. If your input data contains missing values at inference time, it will be encoded as floats and will cause a schema enforcement error. The best way to avoid this problem is to infer the model schema based on a realistic data sample (training dataset) that includes missing values. Alternatively, you can declare integer columns as doubles (float64) whenever these columns may have missing values. See `Handling Integers With Missing Values <https://www.mlflow.org/docs/latest/models.html#handling-integers-with-missing-values>`_ for more details.\n",
      "  inputs = _infer_schema(model_input) if model_input is not None else None\n",
      "/home/mle-user/mle_projects/mle-project-sprint-2/.venv_project_sprint2/lib/python3.10/site-packages/mlflow/models/signature.py:213: UserWarning: Hint: Inferred schema contains integer column(s). Integer columns in Python cannot represent missing values. If your input data contains missing values at inference time, it will be encoded as floats and will cause a schema enforcement error. The best way to avoid this problem is to infer the model schema based on a realistic data sample (training dataset) that includes missing values. Alternatively, you can declare integer columns as doubles (float64) whenever these columns may have missing values. See `Handling Integers With Missing Values <https://www.mlflow.org/docs/latest/models.html#handling-integers-with-missing-values>`_ for more details.\n",
      "  outputs = _infer_schema(model_output) if model_output is not None else None\n",
      "Successfully registered model 'MODEL_2'.\n",
      "2024/12/06 16:15:39 INFO mlflow.tracking._model_registry.client: Waiting up to 60 seconds for model version to finish creation. Model name: MODEL_2, version 1\n",
      "Created version '1' of model 'MODEL_2'.\n"
     ]
    }
   ],
   "source": [
    "signature = mlflow.models.infer_signature(X_test_selected, y_test)\n",
    "input_example = X_test_selected[:10]\n",
    "\n",
    "with mlflow.start_run(run_name=RUN_NAME, experiment_id=experiment_id) as run:\n",
    "    run_id = run.info.run_id\n",
    "    model_2.fit(X_train_selected, y_train)\n",
    "    y_pred_2 = model_2.predict(X_test_selected)\n",
    "\n",
    "    r2_sc = r2_score(y_test,y_pred_2)\n",
    "    mse=mean_squared_error(y_test,y_pred_2)\n",
    "    model_info = mlflow.sklearn.log_model(\n",
    "        sk_model=model,\n",
    "        artifact_path=\"models_sprint2\",\n",
    "        registered_model_name=REGISTRY_MODEL_NAME,\n",
    "        signature=signature,\n",
    "        input_example=input_example,\n",
    "        await_registration_for=60\n",
    "\t\t)\n",
    "    mlflow.log_metric(\"r2\", r2_sc)\n",
    "    mlflow.log_metric(\"MSE\", mse)\n",
    "    #mlflow.log_artifact(\"artifacts/figure_1.png\",\"artifacts\")"
   ]
  },
  {
   "cell_type": "markdown",
   "id": "9995f97b-e99c-4a87-8a56-373ce5991beb",
   "metadata": {},
   "source": [
    "### Этап 5 - подбор гиперпараметров и обучение новой версии модели\n",
    "После того как мы уделили значительное внимание качеству модели через создание и отбор признаков, пришло время для финального штриха — подбора гиперпараметров. Этот этап является ключевым в финальной части проекта второго спринта, где ваша задача — оптимизировать гиперпараметры модели для достижения наилучшего качества.\n",
    "\n",
    "Рекомендуется подобрать гиперпараметры как минимум двумя различными методами (например, с использованием Grid Search и Random Search), чтобы вы могли сравнить результаты и выбрать наиболее эффективный набор гиперпараметров для вашей модели. После определения оптимальных гиперпараметров, наступает время обучить финальную версию модели, используя ваши новые признаки.\n",
    "\n",
    "Рекомендуемые шаги:\n",
    "\n",
    "- Выбор методов для подбора гиперпараметров: Определитесь с методами, которые вы будете использовать для подбора гиперпараметров (например, Grid Search, Random Search, Bayesian Optimization).\n",
    "- Подбор гиперпараметров: Примените выбранные методы для нахождения оптимальных значений гиперпараметров вашей модели.\n",
    "- Сравнение результатов: Анализируйте и сравнивайте результаты, полученные различными методами, для определения наилучшего набора гиперпараметров.\n",
    "- Обучение финальной модели: Используя выбранные гиперпараметры, обучите финальную версию вашей модели на новых признаках.\n",
    "- Документирование процесса и результатов: Залогируйте все шаги и результаты в MLflow, включая сравнение методов подбора гиперпараметров и характеристики финальной модели.\n",
    "\n",
    "Этот этап позволит вам максимально улучшить качество вашей модели перед финальной оценкой, предоставив полное понимание важности и влияния гиперпараметров на производительность модели."
   ]
  },
  {
   "cell_type": "code",
   "execution_count": 108,
   "id": "3043446a",
   "metadata": {},
   "outputs": [],
   "source": [
    "#вот отсюда будет отличие для OPTUNA\n",
    "##MLFLOW info\n",
    "\n",
    "EXPERIMENT_NAME = \"SPRINT_2_PROJECT_EXP\"\n",
    "RUN_NAME = \"SPRINT_2_giper_optuna1_r2\"\n",
    "REGISTRY_MODEL_NAME =\"MODEL_3\"\n",
    "\n",
    "\n",
    "STUDY_DB_NAME = \"sqlite:///local.study.db\"\n",
    "STUDY_NAME = \"STUDY_OPTUNA_SPRINT2\""
   ]
  },
  {
   "cell_type": "code",
   "execution_count": 96,
   "id": "4645bb1d-cc8f-41ef-a13d-21f08cd5c7c3",
   "metadata": {},
   "outputs": [],
   "source": [
    "# 5.1 Подбор гиперпарметров при помощи метода номер 1"
   ]
  },
  {
   "cell_type": "code",
   "execution_count": 109,
   "id": "39bea8a5",
   "metadata": {},
   "outputs": [],
   "source": [
    "import optuna\n",
    "from collections import defaultdict\n",
    "from sklearn.linear_model import Ridge\n",
    "from sklearn.metrics import r2_score\n",
    "import array\n",
    "import joblib\n",
    "\n",
    "# Определение функции для Optuna\n",
    "def objective(trial: optuna.Trial) -> float:\n",
    "    param = {\n",
    "        'alpha': trial.suggest_float(\"alpha\",0.001, 300)}\n",
    "    model=Ridge(**param)\n",
    "    model.fit(X_train_selected,y_train)\n",
    "    y_pred_optuna=model.predict(X_test_selected)\n",
    "\n",
    "    #вычисление метрик\n",
    "    r2=r2_score(y_test,y_pred_optuna)\n",
    "    return r2\n"
   ]
  },
  {
   "cell_type": "code",
   "execution_count": 110,
   "id": "bf73dac7",
   "metadata": {},
   "outputs": [],
   "source": [
    "from optuna.integration.mlflow import MLflowCallback\n",
    "\n",
    "import warnings\n",
    "warnings.filterwarnings(\"ignore\")"
   ]
  },
  {
   "cell_type": "code",
   "execution_count": 98,
   "id": "056af6e6",
   "metadata": {},
   "outputs": [],
   "source": [
    "# 5.3 Формирование списка гиперпараметров для новой модели"
   ]
  },
  {
   "cell_type": "code",
   "execution_count": 111,
   "id": "54b745c4",
   "metadata": {},
   "outputs": [
    {
     "name": "stderr",
     "output_type": "stream",
     "text": [
      "[I 2024-12-06 16:40:38,065] A new study created in RDB with name: STUDY_OPTUNA_SPRINT2\n",
      "[I 2024-12-06 16:40:38,657] Trial 0 finished with value: 0.7104180001614946 and parameters: {'alpha': 196.2675455836562}. Best is trial 0 with value: 0.7104180001614946.\n",
      "[I 2024-12-06 16:40:39,056] Trial 1 finished with value: 0.7103140426247901 and parameters: {'alpha': 268.973633561999}. Best is trial 0 with value: 0.7104180001614946.\n",
      "[I 2024-12-06 16:40:39,413] Trial 2 finished with value: 0.7105820740942509 and parameters: {'alpha': 29.591320763699564}. Best is trial 2 with value: 0.7105820740942509.\n",
      "[I 2024-12-06 16:40:39,961] Trial 3 finished with value: 0.7104726745411685 and parameters: {'alpha': 151.583176085378}. Best is trial 2 with value: 0.7105820740942509.\n",
      "[I 2024-12-06 16:40:40,550] Trial 4 finished with value: 0.710595634218038 and parameters: {'alpha': 6.472546421276115}. Best is trial 4 with value: 0.710595634218038.\n",
      "[I 2024-12-06 16:40:41,085] Trial 5 finished with value: 0.7103620731261262 and parameters: {'alpha': 236.92185419303559}. Best is trial 4 with value: 0.710595634218038.\n",
      "[I 2024-12-06 16:40:41,671] Trial 6 finished with value: 0.7104467009525988 and parameters: {'alpha': 173.55894627012574}. Best is trial 4 with value: 0.710595634218038.\n",
      "[I 2024-12-06 16:40:42,236] Trial 7 finished with value: 0.7103372241519795 and parameters: {'alpha': 253.78543774958837}. Best is trial 4 with value: 0.710595634218038.\n",
      "[I 2024-12-06 16:40:42,826] Trial 8 finished with value: 0.7105894581700781 and parameters: {'alpha': 17.518582510904746}. Best is trial 4 with value: 0.710595634218038.\n",
      "[I 2024-12-06 16:40:43,385] Trial 9 finished with value: 0.7102752840299225 and parameters: {'alpha': 293.3535873234025}. Best is trial 4 with value: 0.710595634218038.\n"
     ]
    }
   ],
   "source": [
    "# Настройка эксперимента в MLflow\n",
    "experiment = mlflow.get_experiment_by_name(EXPERIMENT_NAME)\n",
    "if not experiment:\n",
    "    experiment_id = mlflow.create_experiment(EXPERIMENT_NAME)\n",
    "else:\n",
    "    experiment_id = experiment.experiment_id\n",
    "\n",
    "if mlflow.active_run():\n",
    "    print(f\"Active run exists: {mlflow.active_run().info.run_id}\")\n",
    "    mlflow.end_run()  # Завершить текущий run\n",
    "\n",
    "with mlflow.start_run(run_name=RUN_NAME, experiment_id=experiment_id, nested=True) as run:\n",
    "    run_id = run.info.run_id\n",
    "    \n",
    "    #mlflow.catboost.log_model(model,'model_pkl')\n",
    "\n",
    "# Callback для Optuna\n",
    "    mlflc = MLflowCallback(\n",
    "        tracking_uri=f\"http://{TRACKING_SERVER_HOST}:{TRACKING_SERVER_PORT}\",\n",
    "        metric_name=\"r2\",\n",
    "        create_experiment=False,\n",
    "        mlflow_kwargs={'experiment_id': experiment_id, 'nested': True,'tags': {'mlflow.parentRunId': run_id}})\n",
    "\n",
    "# Запуск Optuna с использованием функции objective\n",
    "    study = optuna.create_study(\n",
    "        sampler=optuna.samplers.TPESampler(),\n",
    "        direction='maximize',\n",
    "        study_name=STUDY_NAME,\n",
    "        storage=STUDY_DB_NAME,\n",
    "        load_if_exists=True)\n",
    "    study.optimize(objective, n_trials=10, callbacks=[mlflc])\n",
    "\n",
    "#ЛУЧШАЯ МОДЕЛЬ\n",
    "\n",
    "    best_params = study.best_params\n",
    "#print(f\"Число завершенных испытаний: {len(study.trials)}\")\n",
    "#print(f\"Лучшие параметры: {best_params}\")\n",
    "\n",
    "\n",
    "# 5.4 Обуение финальной версии модели\n",
    "    model_optuna1=Ridge(**best_params)\n",
    "    model_optuna1.fit(X_train_selected,y_train)\n",
    "#сохраняем модель\n",
    "\n",
    "    joblib.dump(model_optuna1,'model_optuna1.pkl')\n",
    "# логируем в MLFLOW\n",
    "\n",
    "    mlflow.sklearn.log_model(model_optuna1,\"cv\")\n",
    "    mlflow.log_artifact('model_optuna1.pkl',artifact_path='cv')"
   ]
  },
  {
   "cell_type": "code",
   "execution_count": 112,
   "id": "8f801a3f",
   "metadata": {},
   "outputs": [
    {
     "data": {
      "text/plain": [
       "{'r2': 0.710595634218038, 'mse': 41182201284062.36}"
      ]
     },
     "execution_count": 112,
     "metadata": {},
     "output_type": "execute_result"
    }
   ],
   "source": [
    " #см метрики лучшей модели\n",
    "y_pred_optuna=model_optuna1.predict(X_test_selected)\n",
    "\n",
    "# расчёт метрик качества\n",
    "metrics_3 = {}\n",
    "r2_sc = r2_score(y_test,y_pred_optuna)\n",
    "metrics_3[\"r2\"] = r2_sc\n",
    "mse=mean_squared_error(y_test,y_pred_optuna)\n",
    "metrics_3[\"mse\"]=mse\n",
    "\n",
    "metrics_3"
   ]
  },
  {
   "cell_type": "code",
   "execution_count": 97,
   "id": "f86b2a68",
   "metadata": {},
   "outputs": [],
   "source": [
    "# 5.2 Подбор гиперпарметров при мощи метода номер 2\n"
   ]
  },
  {
   "cell_type": "code",
   "execution_count": 113,
   "id": "9e6a0a03",
   "metadata": {},
   "outputs": [],
   "source": [
    "#минимизирую MSE\n",
    "#вот отсюда будет отличие для OPTUNA\n",
    "##MLFLOW info\n",
    "\n",
    "EXPERIMENT_NAME = \"SPRINT_2_PROJECT_EXP\"\n",
    "RUN_NAME = \"SPRINT_2_giper_optuna2_mse\"\n",
    "REGISTRY_MODEL_NAME =\"MODEL_3\"\n",
    "\n",
    "\n",
    "STUDY_DB_NAME = \"sqlite:///local.study.db\"\n",
    "STUDY_NAME = \"STUDY_OPTUNA_SPRINT2\""
   ]
  },
  {
   "cell_type": "code",
   "execution_count": 114,
   "id": "52fe8478",
   "metadata": {},
   "outputs": [],
   "source": [
    "\n",
    "\n",
    "# Определение функции для Optuna\n",
    "def objective(trial: optuna.Trial) -> float:\n",
    "    param = {\n",
    "        'alpha': trial.suggest_float(\"alpha\",0.001, 300)}\n",
    "    model=Ridge(**param)\n",
    "    model.fit(X_train_selected,y_train)\n",
    "    y_pred_optuna=model.predict(X_test_selected)\n",
    "\n",
    "    #вычисление метрик\n",
    "    mse=mean_squared_error(y_test,y_pred_optuna)\n",
    "    return mse\n"
   ]
  },
  {
   "cell_type": "code",
   "execution_count": 115,
   "id": "91bd62af",
   "metadata": {},
   "outputs": [
    {
     "name": "stderr",
     "output_type": "stream",
     "text": [
      "[I 2024-12-06 16:50:27,407] Using an existing study with name 'STUDY_OPTUNA_SPRINT2' instead of creating a new one.\n",
      "[I 2024-12-06 16:50:28,011] Trial 10 finished with value: 41189392183841.914 and parameters: {'alpha': 79.09209944490372}. Best is trial 10 with value: 41189392183841.914.\n",
      "[I 2024-12-06 16:50:28,573] Trial 11 finished with value: 41188164858003.375 and parameters: {'alpha': 68.71161867616432}. Best is trial 10 with value: 41189392183841.914.\n",
      "[I 2024-12-06 16:50:29,167] Trial 12 finished with value: 41189301662012.73 and parameters: {'alpha': 78.34466785779819}. Best is trial 10 with value: 41189392183841.914.\n",
      "[I 2024-12-06 16:50:29,809] Trial 13 finished with value: 41192947736740.62 and parameters: {'alpha': 106.57048946663424}. Best is trial 13 with value: 41192947736740.62.\n",
      "[I 2024-12-06 16:50:30,549] Trial 14 finished with value: 41192373167596.54 and parameters: {'alpha': 102.35024575660569}. Best is trial 13 with value: 41192947736740.62.\n",
      "[I 2024-12-06 16:50:31,231] Trial 15 finished with value: 41193671962670.07 and parameters: {'alpha': 111.7865847960061}. Best is trial 15 with value: 41193671962670.07.\n",
      "[I 2024-12-06 16:50:31,834] Trial 16 finished with value: 41195334065182.54 and parameters: {'alpha': 123.36109694200118}. Best is trial 16 with value: 41195334065182.54.\n",
      "[I 2024-12-06 16:50:32,433] Trial 17 finished with value: 41197723271285.9 and parameters: {'alpha': 139.15867617952347}. Best is trial 17 with value: 41197723271285.9.\n",
      "[I 2024-12-06 16:50:33,081] Trial 18 finished with value: 41198921001730.11 and parameters: {'alpha': 146.7554098809146}. Best is trial 18 with value: 41198921001730.11.\n",
      "[I 2024-12-06 16:50:33,691] Trial 19 finished with value: 41209333023234.5 and parameters: {'alpha': 206.12425300204364}. Best is trial 19 with value: 41209333023234.5.\n"
     ]
    }
   ],
   "source": [
    "# Настройка эксперимента в MLflow\n",
    "experiment = mlflow.get_experiment_by_name(EXPERIMENT_NAME)\n",
    "if not experiment:\n",
    "    experiment_id = mlflow.create_experiment(EXPERIMENT_NAME)\n",
    "else:\n",
    "    experiment_id = experiment.experiment_id\n",
    "\n",
    "if mlflow.active_run():\n",
    "    print(f\"Active run exists: {mlflow.active_run().info.run_id}\")\n",
    "    mlflow.end_run()  # Завершить текущий run\n",
    "\n",
    "with mlflow.start_run(run_name=RUN_NAME, experiment_id=experiment_id, nested=True) as run:\n",
    "    run_id = run.info.run_id\n",
    "    \n",
    "    #mlflow.catboost.log_model(model,'model_pkl')\n",
    "\n",
    "# Callback для Optuna\n",
    "    mlflc = MLflowCallback(\n",
    "        tracking_uri=f\"http://{TRACKING_SERVER_HOST}:{TRACKING_SERVER_PORT}\",\n",
    "        metric_name=\"MSE\",\n",
    "        create_experiment=False,\n",
    "        mlflow_kwargs={'experiment_id': experiment_id, 'nested': True,'tags': {'mlflow.parentRunId': run_id}})\n",
    "\n",
    "# Запуск Optuna с использованием функции objective\n",
    "    study = optuna.create_study(\n",
    "        sampler=optuna.samplers.TPESampler(),\n",
    "        direction='minimize',\n",
    "        study_name=STUDY_NAME,\n",
    "        storage=STUDY_DB_NAME,\n",
    "        load_if_exists=True)\n",
    "    study.optimize(objective, n_trials=10, callbacks=[mlflc])\n",
    "\n",
    "#ЛУЧШАЯ МОДЕЛЬ\n",
    "\n",
    "    best_params = study.best_params\n",
    "#print(f\"Число завершенных испытаний: {len(study.trials)}\")\n",
    "#print(f\"Лучшие параметры: {best_params}\")\n",
    "\n",
    "\n",
    "# 5.4 Обуение финальной версии модели\n",
    "    model_optuna2=Ridge(**best_params)\n",
    "    model_optuna2.fit(X_train_selected,y_train)\n",
    "#сохраняем модель\n",
    "\n",
    "    joblib.dump(model_optuna1,'model_optuna2.pkl')\n",
    "# логируем в MLFLOW\n",
    "\n",
    "    mlflow.sklearn.log_model(model_optuna2,\"cv\")\n",
    "    mlflow.log_artifact('model_optuna2.pkl',artifact_path='cv')"
   ]
  },
  {
   "cell_type": "code",
   "execution_count": 100,
   "id": "68d6d175",
   "metadata": {},
   "outputs": [],
   "source": [
    "# 5.5 Логирование артефактов в MLflow"
   ]
  },
  {
   "cell_type": "code",
   "execution_count": null,
   "id": "846e989f",
   "metadata": {},
   "outputs": [],
   "source": []
  }
 ],
 "metadata": {
  "kernelspec": {
   "display_name": ".venv_project_sprint2",
   "language": "python",
   "name": ".venv_project_sprint2"
  },
  "language_info": {
   "codemirror_mode": {
    "name": "ipython",
    "version": 3
   },
   "file_extension": ".py",
   "mimetype": "text/x-python",
   "name": "python",
   "nbconvert_exporter": "python",
   "pygments_lexer": "ipython3",
   "version": "3.10.12"
  }
 },
 "nbformat": 4,
 "nbformat_minor": 5
}
